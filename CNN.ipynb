{
 "cells": [
  {
   "cell_type": "code",
   "execution_count": 1,
   "id": "879b11c2",
   "metadata": {},
   "outputs": [],
   "source": [
    "#load packages\n",
    "#%matplotlib inline\n",
    "\n",
    "import numpy as np\n",
    "import pandas as pd\n",
    "from sklearn.preprocessing import LabelEncoder\n",
    "from sklearn.model_selection import train_test_split\n",
    "from skimage.io import imread, imshow\n",
    "from sklearn.metrics import confusion_matrix, classification_report\n",
    "from sklearn.model_selection import StratifiedKFold\n",
    "\n",
    "import cv2\n",
    "\n",
    "import tensorflow as tf\n",
    "\n",
    "from tensorflow import keras\n",
    "from tensorflow.keras import layers\n",
    "from tensorflow.keras.models import Sequential, Model\n",
    "\n",
    "\n",
    "import matplotlib.pyplot as plt\n",
    "import seaborn as sns\n",
    "\n",
    "import glob, os\n",
    "from PIL import Image"
   ]
  },
  {
   "cell_type": "code",
   "execution_count": null,
   "id": "5cd8bd10",
   "metadata": {},
   "outputs": [],
   "source": []
  },
  {
   "cell_type": "code",
   "execution_count": 2,
   "id": "6de22e8f",
   "metadata": {},
   "outputs": [],
   "source": [
    "#path to data\n",
    "\n",
    "TRAIN_LABELS_PATH = './data/street-view-getting-started-with-julia/TrainLabelsExtended.csv'\n",
    "TRAIN_IMG_PATH = './data/street-view-getting-started-with-julia/trainResized/'\n",
    "TEST_IMG_PATH = './data/street-view-getting-started-with-julia/testResized/'"
   ]
  },
  {
   "cell_type": "code",
   "execution_count": null,
   "id": "2cf24263",
   "metadata": {},
   "outputs": [],
   "source": []
  },
  {
   "cell_type": "code",
   "execution_count": 3,
   "id": "806d888e",
   "metadata": {},
   "outputs": [
    {
     "data": {
      "text/html": [
       "<div>\n",
       "<style scoped>\n",
       "    .dataframe tbody tr th:only-of-type {\n",
       "        vertical-align: middle;\n",
       "    }\n",
       "\n",
       "    .dataframe tbody tr th {\n",
       "        vertical-align: top;\n",
       "    }\n",
       "\n",
       "    .dataframe thead th {\n",
       "        text-align: right;\n",
       "    }\n",
       "</style>\n",
       "<table border=\"1\" class=\"dataframe\">\n",
       "  <thead>\n",
       "    <tr style=\"text-align: right;\">\n",
       "      <th></th>\n",
       "      <th>ID</th>\n",
       "      <th>Class</th>\n",
       "    </tr>\n",
       "  </thead>\n",
       "  <tbody>\n",
       "    <tr>\n",
       "      <th>0</th>\n",
       "      <td>5944</td>\n",
       "      <td>H</td>\n",
       "    </tr>\n",
       "    <tr>\n",
       "      <th>1</th>\n",
       "      <td>11109</td>\n",
       "      <td>Y</td>\n",
       "    </tr>\n",
       "    <tr>\n",
       "      <th>2</th>\n",
       "      <td>11177</td>\n",
       "      <td>Y</td>\n",
       "    </tr>\n",
       "    <tr>\n",
       "      <th>3</th>\n",
       "      <td>1380</td>\n",
       "      <td>I</td>\n",
       "    </tr>\n",
       "    <tr>\n",
       "      <th>4</th>\n",
       "      <td>9773</td>\n",
       "      <td>F</td>\n",
       "    </tr>\n",
       "    <tr>\n",
       "      <th>...</th>\n",
       "      <td>...</td>\n",
       "      <td>...</td>\n",
       "    </tr>\n",
       "    <tr>\n",
       "      <th>18737</th>\n",
       "      <td>10112</td>\n",
       "      <td>K</td>\n",
       "    </tr>\n",
       "    <tr>\n",
       "      <th>18738</th>\n",
       "      <td>4076</td>\n",
       "      <td>S</td>\n",
       "    </tr>\n",
       "    <tr>\n",
       "      <th>18739</th>\n",
       "      <td>2999</td>\n",
       "      <td>S</td>\n",
       "    </tr>\n",
       "    <tr>\n",
       "      <th>18740</th>\n",
       "      <td>5404</td>\n",
       "      <td>h</td>\n",
       "    </tr>\n",
       "    <tr>\n",
       "      <th>18741</th>\n",
       "      <td>4203</td>\n",
       "      <td>o</td>\n",
       "    </tr>\n",
       "  </tbody>\n",
       "</table>\n",
       "<p>18742 rows × 2 columns</p>\n",
       "</div>"
      ],
      "text/plain": [
       "          ID Class\n",
       "0       5944     H\n",
       "1      11109     Y\n",
       "2      11177     Y\n",
       "3       1380     I\n",
       "4       9773     F\n",
       "...      ...   ...\n",
       "18737  10112     K\n",
       "18738   4076     S\n",
       "18739   2999     S\n",
       "18740   5404     h\n",
       "18741   4203     o\n",
       "\n",
       "[18742 rows x 2 columns]"
      ]
     },
     "execution_count": 3,
     "metadata": {},
     "output_type": "execute_result"
    }
   ],
   "source": [
    "train_df = pd.read_csv(TRAIN_LABELS_PATH)\n",
    "train_df"
   ]
  },
  {
   "cell_type": "code",
   "execution_count": null,
   "id": "07330ff6",
   "metadata": {},
   "outputs": [],
   "source": []
  },
  {
   "cell_type": "markdown",
   "id": "5f8548fd",
   "metadata": {},
   "source": [
    "### Encode labels"
   ]
  },
  {
   "cell_type": "markdown",
   "id": "1b5ed0e2",
   "metadata": {},
   "source": [
    "#### Label Encoding"
   ]
  },
  {
   "cell_type": "code",
   "execution_count": 4,
   "id": "c2a906f2",
   "metadata": {},
   "outputs": [],
   "source": [
    "train_df_enc = train_df.copy()"
   ]
  },
  {
   "cell_type": "code",
   "execution_count": 5,
   "id": "28354133",
   "metadata": {},
   "outputs": [
    {
     "data": {
      "text/html": [
       "<div>\n",
       "<style scoped>\n",
       "    .dataframe tbody tr th:only-of-type {\n",
       "        vertical-align: middle;\n",
       "    }\n",
       "\n",
       "    .dataframe tbody tr th {\n",
       "        vertical-align: top;\n",
       "    }\n",
       "\n",
       "    .dataframe thead th {\n",
       "        text-align: right;\n",
       "    }\n",
       "</style>\n",
       "<table border=\"1\" class=\"dataframe\">\n",
       "  <thead>\n",
       "    <tr style=\"text-align: right;\">\n",
       "      <th></th>\n",
       "      <th>ID</th>\n",
       "      <th>Class</th>\n",
       "      <th>Label</th>\n",
       "    </tr>\n",
       "  </thead>\n",
       "  <tbody>\n",
       "    <tr>\n",
       "      <th>0</th>\n",
       "      <td>5944</td>\n",
       "      <td>H</td>\n",
       "      <td>17</td>\n",
       "    </tr>\n",
       "    <tr>\n",
       "      <th>1</th>\n",
       "      <td>11109</td>\n",
       "      <td>Y</td>\n",
       "      <td>34</td>\n",
       "    </tr>\n",
       "    <tr>\n",
       "      <th>2</th>\n",
       "      <td>11177</td>\n",
       "      <td>Y</td>\n",
       "      <td>34</td>\n",
       "    </tr>\n",
       "    <tr>\n",
       "      <th>3</th>\n",
       "      <td>1380</td>\n",
       "      <td>I</td>\n",
       "      <td>18</td>\n",
       "    </tr>\n",
       "    <tr>\n",
       "      <th>4</th>\n",
       "      <td>9773</td>\n",
       "      <td>F</td>\n",
       "      <td>15</td>\n",
       "    </tr>\n",
       "    <tr>\n",
       "      <th>...</th>\n",
       "      <td>...</td>\n",
       "      <td>...</td>\n",
       "      <td>...</td>\n",
       "    </tr>\n",
       "    <tr>\n",
       "      <th>18737</th>\n",
       "      <td>10112</td>\n",
       "      <td>K</td>\n",
       "      <td>20</td>\n",
       "    </tr>\n",
       "    <tr>\n",
       "      <th>18738</th>\n",
       "      <td>4076</td>\n",
       "      <td>S</td>\n",
       "      <td>28</td>\n",
       "    </tr>\n",
       "    <tr>\n",
       "      <th>18739</th>\n",
       "      <td>2999</td>\n",
       "      <td>S</td>\n",
       "      <td>28</td>\n",
       "    </tr>\n",
       "    <tr>\n",
       "      <th>18740</th>\n",
       "      <td>5404</td>\n",
       "      <td>h</td>\n",
       "      <td>43</td>\n",
       "    </tr>\n",
       "    <tr>\n",
       "      <th>18741</th>\n",
       "      <td>4203</td>\n",
       "      <td>o</td>\n",
       "      <td>50</td>\n",
       "    </tr>\n",
       "  </tbody>\n",
       "</table>\n",
       "<p>18742 rows × 3 columns</p>\n",
       "</div>"
      ],
      "text/plain": [
       "          ID Class  Label\n",
       "0       5944     H     17\n",
       "1      11109     Y     34\n",
       "2      11177     Y     34\n",
       "3       1380     I     18\n",
       "4       9773     F     15\n",
       "...      ...   ...    ...\n",
       "18737  10112     K     20\n",
       "18738   4076     S     28\n",
       "18739   2999     S     28\n",
       "18740   5404     h     43\n",
       "18741   4203     o     50\n",
       "\n",
       "[18742 rows x 3 columns]"
      ]
     },
     "execution_count": 5,
     "metadata": {},
     "output_type": "execute_result"
    }
   ],
   "source": [
    "label_enc = LabelEncoder()\n",
    "train_df_enc['Label'] = label_enc.fit_transform(train_df_enc['Class'])\n",
    "train_df_enc"
   ]
  },
  {
   "cell_type": "code",
   "execution_count": 6,
   "id": "2e679f36",
   "metadata": {},
   "outputs": [],
   "source": [
    "replaced_labels = dict(enumerate(label_enc.classes_))\n",
    "# replaced_labels"
   ]
  },
  {
   "cell_type": "code",
   "execution_count": null,
   "id": "cca2c55f",
   "metadata": {},
   "outputs": [],
   "source": []
  },
  {
   "cell_type": "markdown",
   "id": "785703f4",
   "metadata": {},
   "source": [
    "### Functions"
   ]
  },
  {
   "cell_type": "code",
   "execution_count": 143,
   "id": "e3aef296",
   "metadata": {},
   "outputs": [],
   "source": [
    "def check_grey_imgs(df_col):\n",
    "    grey_imgs = []\n",
    "    for n, img in enumerate(df_col.values.flatten()):\n",
    "\n",
    "        try:\n",
    "            img_cnt = tf.io.read_file(img)\n",
    "            img_cnt = tf.io.decode_image(img_cnt, channels=3)\n",
    "        except:\n",
    "            print(img)\n",
    "            grey_imgs.append(img)\n",
    "    return grey_imgs\n",
    "\n",
    "\n",
    "def transform_image(img):\n",
    "    img_cnt = tf.io.read_file(img)\n",
    "    img_cnt = tf.io.decode_image(img_cnt, channels=3).numpy().astype(float)\n",
    "#     img_cnt = imread(img, as_gray=False)\n",
    "    img_cnt /= 255\n",
    "\n",
    "    return img_cnt\n"
   ]
  },
  {
   "cell_type": "code",
   "execution_count": null,
   "id": "f008e831",
   "metadata": {},
   "outputs": [],
   "source": []
  },
  {
   "cell_type": "markdown",
   "id": "47881309",
   "metadata": {},
   "source": [
    "### Prepare dataframe"
   ]
  },
  {
   "cell_type": "code",
   "execution_count": 391,
   "id": "c6704304",
   "metadata": {},
   "outputs": [
    {
     "data": {
      "text/html": [
       "<div>\n",
       "<style scoped>\n",
       "    .dataframe tbody tr th:only-of-type {\n",
       "        vertical-align: middle;\n",
       "    }\n",
       "\n",
       "    .dataframe tbody tr th {\n",
       "        vertical-align: top;\n",
       "    }\n",
       "\n",
       "    .dataframe thead th {\n",
       "        text-align: right;\n",
       "    }\n",
       "</style>\n",
       "<table border=\"1\" class=\"dataframe\">\n",
       "  <thead>\n",
       "    <tr style=\"text-align: right;\">\n",
       "      <th></th>\n",
       "      <th>ID</th>\n",
       "      <th>Class</th>\n",
       "      <th>Label</th>\n",
       "      <th>img</th>\n",
       "    </tr>\n",
       "  </thead>\n",
       "  <tbody>\n",
       "    <tr>\n",
       "      <th>0</th>\n",
       "      <td>5944</td>\n",
       "      <td>H</td>\n",
       "      <td>17</td>\n",
       "      <td>./data/street-view-getting-started-with-julia/...</td>\n",
       "    </tr>\n",
       "    <tr>\n",
       "      <th>1</th>\n",
       "      <td>11109</td>\n",
       "      <td>Y</td>\n",
       "      <td>34</td>\n",
       "      <td>./data/street-view-getting-started-with-julia/...</td>\n",
       "    </tr>\n",
       "    <tr>\n",
       "      <th>2</th>\n",
       "      <td>11177</td>\n",
       "      <td>Y</td>\n",
       "      <td>34</td>\n",
       "      <td>./data/street-view-getting-started-with-julia/...</td>\n",
       "    </tr>\n",
       "    <tr>\n",
       "      <th>3</th>\n",
       "      <td>1380</td>\n",
       "      <td>I</td>\n",
       "      <td>18</td>\n",
       "      <td>./data/street-view-getting-started-with-julia/...</td>\n",
       "    </tr>\n",
       "    <tr>\n",
       "      <th>4</th>\n",
       "      <td>9773</td>\n",
       "      <td>F</td>\n",
       "      <td>15</td>\n",
       "      <td>./data/street-view-getting-started-with-julia/...</td>\n",
       "    </tr>\n",
       "    <tr>\n",
       "      <th>...</th>\n",
       "      <td>...</td>\n",
       "      <td>...</td>\n",
       "      <td>...</td>\n",
       "      <td>...</td>\n",
       "    </tr>\n",
       "    <tr>\n",
       "      <th>18737</th>\n",
       "      <td>10112</td>\n",
       "      <td>K</td>\n",
       "      <td>20</td>\n",
       "      <td>./data/street-view-getting-started-with-julia/...</td>\n",
       "    </tr>\n",
       "    <tr>\n",
       "      <th>18738</th>\n",
       "      <td>4076</td>\n",
       "      <td>S</td>\n",
       "      <td>28</td>\n",
       "      <td>./data/street-view-getting-started-with-julia/...</td>\n",
       "    </tr>\n",
       "    <tr>\n",
       "      <th>18739</th>\n",
       "      <td>2999</td>\n",
       "      <td>S</td>\n",
       "      <td>28</td>\n",
       "      <td>./data/street-view-getting-started-with-julia/...</td>\n",
       "    </tr>\n",
       "    <tr>\n",
       "      <th>18740</th>\n",
       "      <td>5404</td>\n",
       "      <td>h</td>\n",
       "      <td>43</td>\n",
       "      <td>./data/street-view-getting-started-with-julia/...</td>\n",
       "    </tr>\n",
       "    <tr>\n",
       "      <th>18741</th>\n",
       "      <td>4203</td>\n",
       "      <td>o</td>\n",
       "      <td>50</td>\n",
       "      <td>./data/street-view-getting-started-with-julia/...</td>\n",
       "    </tr>\n",
       "  </tbody>\n",
       "</table>\n",
       "<p>18742 rows × 4 columns</p>\n",
       "</div>"
      ],
      "text/plain": [
       "          ID Class  Label                                                img\n",
       "0       5944     H     17  ./data/street-view-getting-started-with-julia/...\n",
       "1      11109     Y     34  ./data/street-view-getting-started-with-julia/...\n",
       "2      11177     Y     34  ./data/street-view-getting-started-with-julia/...\n",
       "3       1380     I     18  ./data/street-view-getting-started-with-julia/...\n",
       "4       9773     F     15  ./data/street-view-getting-started-with-julia/...\n",
       "...      ...   ...    ...                                                ...\n",
       "18737  10112     K     20  ./data/street-view-getting-started-with-julia/...\n",
       "18738   4076     S     28  ./data/street-view-getting-started-with-julia/...\n",
       "18739   2999     S     28  ./data/street-view-getting-started-with-julia/...\n",
       "18740   5404     h     43  ./data/street-view-getting-started-with-julia/...\n",
       "18741   4203     o     50  ./data/street-view-getting-started-with-julia/...\n",
       "\n",
       "[18742 rows x 4 columns]"
      ]
     },
     "execution_count": 391,
     "metadata": {},
     "output_type": "execute_result"
    }
   ],
   "source": [
    "train_df_enc['img'] = [TRAIN_IMG_PATH + str(id_) + '.Bmp' for id_ in train_df_enc['ID'].values]\n",
    "train_df_enc"
   ]
  },
  {
   "cell_type": "markdown",
   "id": "d444a1c7",
   "metadata": {},
   "source": [
    "#### Check images"
   ]
  },
  {
   "cell_type": "code",
   "execution_count": 35,
   "id": "05ed5327",
   "metadata": {},
   "outputs": [],
   "source": [
    "# def check_grey_imgs(df_col):\n",
    "#     grey_imgs = []\n",
    "#     for n, img in enumerate(df_col.values.flatten()):\n",
    "\n",
    "#         try:\n",
    "#             img_cnt = tf.io.read_file(img)\n",
    "#             img_cnt = tf.io.decode_image(img_cnt, channels=3)\n",
    "#         except:\n",
    "#             print(img)\n",
    "#             grey_imgs.append(img)\n",
    "#     return grey_imgs"
   ]
  },
  {
   "cell_type": "code",
   "execution_count": 398,
   "id": "ca044b92",
   "metadata": {},
   "outputs": [
    {
     "data": {
      "text/plain": [
       "[]"
      ]
     },
     "execution_count": 398,
     "metadata": {},
     "output_type": "execute_result"
    }
   ],
   "source": [
    "check_grey_imgs(train_df_enc[['img']])"
   ]
  },
  {
   "cell_type": "markdown",
   "id": "87e6cea1",
   "metadata": {},
   "source": [
    "#### Split data\n"
   ]
  },
  {
   "cell_type": "code",
   "execution_count": 9,
   "id": "d8db182f",
   "metadata": {},
   "outputs": [],
   "source": [
    "X_train, X_test, y_train, y_test = train_test_split(train_df_enc[['img']], train_df_enc[['Label']], \n",
    "                                                    test_size=0.2, random_state=42)"
   ]
  },
  {
   "cell_type": "code",
   "execution_count": 10,
   "id": "bb6c8564",
   "metadata": {},
   "outputs": [
    {
     "data": {
      "text/plain": [
       "array(['./data/street-view-getting-started-with-julia/trainResized/5261.Bmp',\n",
       "       './data/street-view-getting-started-with-julia/trainResized/15160.Bmp',\n",
       "       './data/street-view-getting-started-with-julia/trainResized/16055.Bmp',\n",
       "       './data/street-view-getting-started-with-julia/trainResized/11381.Bmp',\n",
       "       './data/street-view-getting-started-with-julia/trainResized/5048.Bmp'],\n",
       "      dtype=object)"
      ]
     },
     "execution_count": 10,
     "metadata": {},
     "output_type": "execute_result"
    }
   ],
   "source": [
    "X_train.values.flatten()[:5]"
   ]
  },
  {
   "cell_type": "code",
   "execution_count": 23,
   "id": "1ab794c7",
   "metadata": {},
   "outputs": [
    {
     "data": {
      "text/html": [
       "<div>\n",
       "<style scoped>\n",
       "    .dataframe tbody tr th:only-of-type {\n",
       "        vertical-align: middle;\n",
       "    }\n",
       "\n",
       "    .dataframe tbody tr th {\n",
       "        vertical-align: top;\n",
       "    }\n",
       "\n",
       "    .dataframe thead th {\n",
       "        text-align: right;\n",
       "    }\n",
       "</style>\n",
       "<table border=\"1\" class=\"dataframe\">\n",
       "  <thead>\n",
       "    <tr style=\"text-align: right;\">\n",
       "      <th></th>\n",
       "      <th>img</th>\n",
       "    </tr>\n",
       "  </thead>\n",
       "  <tbody>\n",
       "    <tr>\n",
       "      <th>3577</th>\n",
       "      <td>./data/street-view-getting-started-with-julia/...</td>\n",
       "    </tr>\n",
       "    <tr>\n",
       "      <th>2493</th>\n",
       "      <td>./data/street-view-getting-started-with-julia/...</td>\n",
       "    </tr>\n",
       "    <tr>\n",
       "      <th>5007</th>\n",
       "      <td>./data/street-view-getting-started-with-julia/...</td>\n",
       "    </tr>\n",
       "    <tr>\n",
       "      <th>12833</th>\n",
       "      <td>./data/street-view-getting-started-with-julia/...</td>\n",
       "    </tr>\n",
       "    <tr>\n",
       "      <th>15953</th>\n",
       "      <td>./data/street-view-getting-started-with-julia/...</td>\n",
       "    </tr>\n",
       "    <tr>\n",
       "      <th>...</th>\n",
       "      <td>...</td>\n",
       "    </tr>\n",
       "    <tr>\n",
       "      <th>11284</th>\n",
       "      <td>./data/street-view-getting-started-with-julia/...</td>\n",
       "    </tr>\n",
       "    <tr>\n",
       "      <th>11964</th>\n",
       "      <td>./data/street-view-getting-started-with-julia/...</td>\n",
       "    </tr>\n",
       "    <tr>\n",
       "      <th>5390</th>\n",
       "      <td>./data/street-view-getting-started-with-julia/...</td>\n",
       "    </tr>\n",
       "    <tr>\n",
       "      <th>860</th>\n",
       "      <td>./data/street-view-getting-started-with-julia/...</td>\n",
       "    </tr>\n",
       "    <tr>\n",
       "      <th>15795</th>\n",
       "      <td>./data/street-view-getting-started-with-julia/...</td>\n",
       "    </tr>\n",
       "  </tbody>\n",
       "</table>\n",
       "<p>14993 rows × 1 columns</p>\n",
       "</div>"
      ],
      "text/plain": [
       "                                                     img\n",
       "3577   ./data/street-view-getting-started-with-julia/...\n",
       "2493   ./data/street-view-getting-started-with-julia/...\n",
       "5007   ./data/street-view-getting-started-with-julia/...\n",
       "12833  ./data/street-view-getting-started-with-julia/...\n",
       "15953  ./data/street-view-getting-started-with-julia/...\n",
       "...                                                  ...\n",
       "11284  ./data/street-view-getting-started-with-julia/...\n",
       "11964  ./data/street-view-getting-started-with-julia/...\n",
       "5390   ./data/street-view-getting-started-with-julia/...\n",
       "860    ./data/street-view-getting-started-with-julia/...\n",
       "15795  ./data/street-view-getting-started-with-julia/...\n",
       "\n",
       "[14993 rows x 1 columns]"
      ]
     },
     "execution_count": 23,
     "metadata": {},
     "output_type": "execute_result"
    }
   ],
   "source": [
    "X_train"
   ]
  },
  {
   "cell_type": "code",
   "execution_count": 11,
   "id": "ed43a3fb",
   "metadata": {},
   "outputs": [
    {
     "data": {
      "text/html": [
       "<div>\n",
       "<style scoped>\n",
       "    .dataframe tbody tr th:only-of-type {\n",
       "        vertical-align: middle;\n",
       "    }\n",
       "\n",
       "    .dataframe tbody tr th {\n",
       "        vertical-align: top;\n",
       "    }\n",
       "\n",
       "    .dataframe thead th {\n",
       "        text-align: right;\n",
       "    }\n",
       "</style>\n",
       "<table border=\"1\" class=\"dataframe\">\n",
       "  <thead>\n",
       "    <tr style=\"text-align: right;\">\n",
       "      <th></th>\n",
       "      <th>Label</th>\n",
       "    </tr>\n",
       "  </thead>\n",
       "  <tbody>\n",
       "    <tr>\n",
       "      <th>3577</th>\n",
       "      <td>22</td>\n",
       "    </tr>\n",
       "    <tr>\n",
       "      <th>2493</th>\n",
       "      <td>42</td>\n",
       "    </tr>\n",
       "    <tr>\n",
       "      <th>5007</th>\n",
       "      <td>46</td>\n",
       "    </tr>\n",
       "    <tr>\n",
       "      <th>12833</th>\n",
       "      <td>39</td>\n",
       "    </tr>\n",
       "    <tr>\n",
       "      <th>15953</th>\n",
       "      <td>24</td>\n",
       "    </tr>\n",
       "    <tr>\n",
       "      <th>...</th>\n",
       "      <td>...</td>\n",
       "    </tr>\n",
       "    <tr>\n",
       "      <th>11284</th>\n",
       "      <td>61</td>\n",
       "    </tr>\n",
       "    <tr>\n",
       "      <th>11964</th>\n",
       "      <td>36</td>\n",
       "    </tr>\n",
       "    <tr>\n",
       "      <th>5390</th>\n",
       "      <td>61</td>\n",
       "    </tr>\n",
       "    <tr>\n",
       "      <th>860</th>\n",
       "      <td>16</td>\n",
       "    </tr>\n",
       "    <tr>\n",
       "      <th>15795</th>\n",
       "      <td>42</td>\n",
       "    </tr>\n",
       "  </tbody>\n",
       "</table>\n",
       "<p>14993 rows × 1 columns</p>\n",
       "</div>"
      ],
      "text/plain": [
       "       Label\n",
       "3577      22\n",
       "2493      42\n",
       "5007      46\n",
       "12833     39\n",
       "15953     24\n",
       "...      ...\n",
       "11284     61\n",
       "11964     36\n",
       "5390      61\n",
       "860       16\n",
       "15795     42\n",
       "\n",
       "[14993 rows x 1 columns]"
      ]
     },
     "execution_count": 11,
     "metadata": {},
     "output_type": "execute_result"
    }
   ],
   "source": [
    "y_train"
   ]
  },
  {
   "cell_type": "markdown",
   "id": "08d71c26",
   "metadata": {},
   "source": [
    "#### Get image arrays"
   ]
  },
  {
   "cell_type": "code",
   "execution_count": 41,
   "id": "8127e339",
   "metadata": {},
   "outputs": [],
   "source": [
    "# def transform_image(img):\n",
    "#     img_cnt = tf.io.read_file(img)\n",
    "#     img_cnt = tf.io.decode_image(img_cnt, channels=3).numpy().astype(float)\n",
    "# #     img_cnt = imread(img, as_gray=False)\n",
    "#     img_cnt /= 255\n",
    "\n",
    "#     return img_cnt\n",
    "\n",
    "\n",
    "    "
   ]
  },
  {
   "cell_type": "code",
   "execution_count": 24,
   "id": "3fd3d03a",
   "metadata": {},
   "outputs": [
    {
     "name": "stdout",
     "output_type": "stream",
     "text": [
      "Wall time: 1min 3s\n"
     ]
    },
    {
     "data": {
      "text/plain": [
       "((14993, 20, 20, 3), (3749, 20, 20, 3))"
      ]
     },
     "execution_count": 24,
     "metadata": {},
     "output_type": "execute_result"
    }
   ],
   "source": [
    "#%%time\n",
    "X_train_ = np.asarray([transform_image(i).tolist() for i in X_train.values.flatten()])\n",
    "X_test_ = np.asarray([transform_image(i).tolist() for i in X_test.values.flatten()])\n",
    "X_train_.shape, X_test_.shape"
   ]
  },
  {
   "cell_type": "code",
   "execution_count": 33,
   "id": "335d70b4",
   "metadata": {},
   "outputs": [],
   "source": [
    "y_train_= y_train.values\n",
    "y_test_ = y_test.values"
   ]
  },
  {
   "cell_type": "code",
   "execution_count": null,
   "id": "1d9604a3",
   "metadata": {},
   "outputs": [],
   "source": []
  },
  {
   "cell_type": "markdown",
   "id": "0efb7486",
   "metadata": {},
   "source": [
    "#### Save transformed data"
   ]
  },
  {
   "cell_type": "code",
   "execution_count": 40,
   "id": "49b8955f",
   "metadata": {},
   "outputs": [],
   "source": [
    "# np.savez('transformed_data', X_train_ = X_train_, X_test_ = X_test_, y_train_ = y_train_, y_test_ = y_test_)"
   ]
  },
  {
   "cell_type": "code",
   "execution_count": null,
   "id": "9f6bf484",
   "metadata": {},
   "outputs": [],
   "source": []
  },
  {
   "cell_type": "markdown",
   "id": "c68951ed",
   "metadata": {},
   "source": [
    "#### Load transformed data"
   ]
  },
  {
   "cell_type": "code",
   "execution_count": 7,
   "id": "62934cd6",
   "metadata": {},
   "outputs": [],
   "source": [
    "transformed_data = np.load('transformed_data.npz')"
   ]
  },
  {
   "cell_type": "code",
   "execution_count": 8,
   "id": "90979e22",
   "metadata": {},
   "outputs": [
    {
     "data": {
      "text/plain": [
       "['X_train_', 'X_test_', 'y_train_', 'y_test_']"
      ]
     },
     "execution_count": 8,
     "metadata": {},
     "output_type": "execute_result"
    }
   ],
   "source": [
    "transformed_data.files"
   ]
  },
  {
   "cell_type": "code",
   "execution_count": 9,
   "id": "11ced5ff",
   "metadata": {},
   "outputs": [],
   "source": [
    "X_train_ = transformed_data[transformed_data.files[0]] \n",
    "X_test_ = transformed_data[transformed_data.files[1]]\n",
    "y_train_ = transformed_data[transformed_data.files[2]].flatten()\n",
    "y_test_ = transformed_data[transformed_data.files[3]].flatten()"
   ]
  },
  {
   "cell_type": "code",
   "execution_count": 10,
   "id": "4325f1c3",
   "metadata": {},
   "outputs": [
    {
     "data": {
      "text/plain": [
       "array([[[[0.89803922, 0.85882353, 0.21176471],\n",
       "         [0.89411765, 0.84705882, 0.2       ],\n",
       "         [0.88235294, 0.85098039, 0.2       ],\n",
       "         ...,\n",
       "         [0.87058824, 0.83529412, 0.19607843],\n",
       "         [0.87843137, 0.84313725, 0.19607843],\n",
       "         [0.85882353, 0.82352941, 0.18431373]],\n",
       "\n",
       "        [[0.89411765, 0.85882353, 0.21176471],\n",
       "         [0.89411765, 0.85098039, 0.19607843],\n",
       "         [0.88235294, 0.85490196, 0.19607843],\n",
       "         ...,\n",
       "         [0.83529412, 0.81176471, 0.18039216],\n",
       "         [0.85490196, 0.82745098, 0.17647059],\n",
       "         [0.85098039, 0.81960784, 0.18823529]],\n",
       "\n",
       "        [[0.89019608, 0.85490196, 0.20392157],\n",
       "         [0.88235294, 0.83921569, 0.18039216],\n",
       "         [0.85490196, 0.82745098, 0.16862745],\n",
       "         ...,\n",
       "         [0.80392157, 0.78431373, 0.18039216],\n",
       "         [0.79215686, 0.77647059, 0.14509804],\n",
       "         [0.80392157, 0.77254902, 0.15686275]],\n",
       "\n",
       "        ...,\n",
       "\n",
       "        [[0.8745098 , 0.84313725, 0.21568627],\n",
       "         [0.85098039, 0.82745098, 0.21568627],\n",
       "         [0.82352941, 0.78431373, 0.16078431],\n",
       "         ...,\n",
       "         [0.77254902, 0.74901961, 0.17254902],\n",
       "         [0.78431373, 0.76078431, 0.15294118],\n",
       "         [0.79607843, 0.74509804, 0.15294118]],\n",
       "\n",
       "        [[0.88235294, 0.84705882, 0.21176471],\n",
       "         [0.85882353, 0.83137255, 0.20392157],\n",
       "         [0.85098039, 0.81568627, 0.18039216],\n",
       "         ...,\n",
       "         [0.82352941, 0.8       , 0.17647059],\n",
       "         [0.81960784, 0.79215686, 0.16470588],\n",
       "         [0.84313725, 0.79607843, 0.16078431]],\n",
       "\n",
       "        [[0.87843137, 0.84313725, 0.19607843],\n",
       "         [0.87843137, 0.84705882, 0.20784314],\n",
       "         [0.88627451, 0.85490196, 0.21960784],\n",
       "         ...,\n",
       "         [0.88235294, 0.85098039, 0.21176471],\n",
       "         [0.8627451 , 0.83529412, 0.18039216],\n",
       "         [0.85098039, 0.81960784, 0.16078431]]],\n",
       "\n",
       "\n",
       "       [[[0.34509804, 0.34509804, 0.34509804],\n",
       "         [0.49411765, 0.49411765, 0.49411765],\n",
       "         [0.50196078, 0.50196078, 0.50196078],\n",
       "         ...,\n",
       "         [0.51372549, 0.51372549, 0.51372549],\n",
       "         [0.51372549, 0.51372549, 0.51372549],\n",
       "         [0.35686275, 0.35686275, 0.35686275]],\n",
       "\n",
       "        [[0.36862745, 0.36862745, 0.36862745],\n",
       "         [0.53333333, 0.53333333, 0.53333333],\n",
       "         [0.5372549 , 0.5372549 , 0.5372549 ],\n",
       "         ...,\n",
       "         [0.53333333, 0.53333333, 0.53333333],\n",
       "         [0.5372549 , 0.5372549 , 0.5372549 ],\n",
       "         [0.37647059, 0.37647059, 0.37647059]],\n",
       "\n",
       "        [[0.36862745, 0.36862745, 0.36862745],\n",
       "         [0.5254902 , 0.5254902 , 0.5254902 ],\n",
       "         [0.52941176, 0.52941176, 0.52941176],\n",
       "         ...,\n",
       "         [0.45882353, 0.45882353, 0.45882353],\n",
       "         [0.46666667, 0.46666667, 0.46666667],\n",
       "         [0.32941176, 0.32941176, 0.32941176]],\n",
       "\n",
       "        ...,\n",
       "\n",
       "        [[0.23529412, 0.23529412, 0.23529412],\n",
       "         [0.3372549 , 0.3372549 , 0.3372549 ],\n",
       "         [0.32941176, 0.32941176, 0.32941176],\n",
       "         ...,\n",
       "         [0.4745098 , 0.4745098 , 0.4745098 ],\n",
       "         [0.50588235, 0.50588235, 0.50588235],\n",
       "         [0.36078431, 0.36078431, 0.36078431]],\n",
       "\n",
       "        [[0.25490196, 0.25490196, 0.25490196],\n",
       "         [0.36078431, 0.36078431, 0.36078431],\n",
       "         [0.34901961, 0.34901961, 0.34901961],\n",
       "         ...,\n",
       "         [0.51372549, 0.51372549, 0.51372549],\n",
       "         [0.51372549, 0.51372549, 0.51372549],\n",
       "         [0.35686275, 0.35686275, 0.35686275]],\n",
       "\n",
       "        [[0.32941176, 0.32941176, 0.32941176],\n",
       "         [0.47058824, 0.47058824, 0.47058824],\n",
       "         [0.4627451 , 0.4627451 , 0.4627451 ],\n",
       "         ...,\n",
       "         [0.49411765, 0.49411765, 0.49411765],\n",
       "         [0.47843137, 0.47843137, 0.47843137],\n",
       "         [0.32941176, 0.32941176, 0.32941176]]],\n",
       "\n",
       "\n",
       "       [[[0.58431373, 0.57254902, 0.57647059],\n",
       "         [0.58431373, 0.57254902, 0.57647059],\n",
       "         [0.58431373, 0.57254902, 0.57647059],\n",
       "         ...,\n",
       "         [0.41960784, 0.3254902 , 0.31764706],\n",
       "         [0.5254902 , 0.45882353, 0.46666667],\n",
       "         [0.60784314, 0.55686275, 0.56862745]],\n",
       "\n",
       "        [[0.58039216, 0.57647059, 0.57647059],\n",
       "         [0.58431373, 0.57647059, 0.57647059],\n",
       "         [0.58431373, 0.57647059, 0.57647059],\n",
       "         ...,\n",
       "         [0.46666667, 0.39607843, 0.38823529],\n",
       "         [0.5372549 , 0.49019608, 0.49019608],\n",
       "         [0.59607843, 0.55686275, 0.56470588]],\n",
       "\n",
       "        [[0.58039216, 0.57647059, 0.57647059],\n",
       "         [0.58431373, 0.57647059, 0.57647059],\n",
       "         [0.57647059, 0.57254902, 0.57254902],\n",
       "         ...,\n",
       "         [0.51764706, 0.48627451, 0.48627451],\n",
       "         [0.55686275, 0.53333333, 0.54509804],\n",
       "         [0.58823529, 0.56862745, 0.58431373]],\n",
       "\n",
       "        ...,\n",
       "\n",
       "        [[0.58431373, 0.57254902, 0.57647059],\n",
       "         [0.58039216, 0.57254902, 0.57647059],\n",
       "         [0.58039216, 0.57254902, 0.57254902],\n",
       "         ...,\n",
       "         [0.54509804, 0.48235294, 0.45098039],\n",
       "         [0.59215686, 0.56078431, 0.54901961],\n",
       "         [0.58039216, 0.55686275, 0.55686275]],\n",
       "\n",
       "        [[0.57647059, 0.57254902, 0.57647059],\n",
       "         [0.57647059, 0.57254902, 0.57647059],\n",
       "         [0.57647059, 0.57254902, 0.57647059],\n",
       "         ...,\n",
       "         [0.5372549 , 0.49019608, 0.45490196],\n",
       "         [0.58039216, 0.55686275, 0.54117647],\n",
       "         [0.57647059, 0.56078431, 0.55294118]],\n",
       "\n",
       "        [[0.57647059, 0.57254902, 0.57647059],\n",
       "         [0.57647059, 0.57254902, 0.57254902],\n",
       "         [0.57647059, 0.57254902, 0.57254902],\n",
       "         ...,\n",
       "         [0.5254902 , 0.48627451, 0.44705882],\n",
       "         [0.57647059, 0.55686275, 0.5372549 ],\n",
       "         [0.57647059, 0.56470588, 0.55294118]]],\n",
       "\n",
       "\n",
       "       ...,\n",
       "\n",
       "\n",
       "       [[[0.27843137, 0.27843137, 0.27843137],\n",
       "         [0.28235294, 0.28235294, 0.28235294],\n",
       "         [0.27843137, 0.27843137, 0.27843137],\n",
       "         ...,\n",
       "         [0.09411765, 0.09411765, 0.09411765],\n",
       "         [0.09411765, 0.09411765, 0.09411765],\n",
       "         [0.09019608, 0.09019608, 0.09019608]],\n",
       "\n",
       "        [[0.2627451 , 0.2627451 , 0.2627451 ],\n",
       "         [0.25882353, 0.25882353, 0.25882353],\n",
       "         [0.0745098 , 0.0745098 , 0.0745098 ],\n",
       "         ...,\n",
       "         [0.82352941, 0.82352941, 0.82352941],\n",
       "         [0.8627451 , 0.8627451 , 0.8627451 ],\n",
       "         [0.11372549, 0.11372549, 0.11372549]],\n",
       "\n",
       "        [[0.10196078, 0.10196078, 0.10196078],\n",
       "         [0.09803922, 0.09803922, 0.09803922],\n",
       "         [0.09411765, 0.09411765, 0.09411765],\n",
       "         ...,\n",
       "         [0.87058824, 0.87058824, 0.87058824],\n",
       "         [0.18823529, 0.18823529, 0.18823529],\n",
       "         [0.10196078, 0.10196078, 0.10196078]],\n",
       "\n",
       "        ...,\n",
       "\n",
       "        [[0.09019608, 0.09019608, 0.09019608],\n",
       "         [0.86666667, 0.86666667, 0.86666667],\n",
       "         [0.8627451 , 0.8627451 , 0.8627451 ],\n",
       "         ...,\n",
       "         [0.0627451 , 0.0627451 , 0.0627451 ],\n",
       "         [0.07058824, 0.07058824, 0.07058824],\n",
       "         [0.05882353, 0.05882353, 0.05882353]],\n",
       "\n",
       "        [[0.08627451, 0.08627451, 0.08627451],\n",
       "         [0.85490196, 0.85490196, 0.85490196],\n",
       "         [0.8627451 , 0.8627451 , 0.8627451 ],\n",
       "         ...,\n",
       "         [0.05882353, 0.05882353, 0.05882353],\n",
       "         [0.0627451 , 0.0627451 , 0.0627451 ],\n",
       "         [0.07058824, 0.07058824, 0.07058824]],\n",
       "\n",
       "        [[0.6627451 , 0.6627451 , 0.6627451 ],\n",
       "         [0.09411765, 0.09411765, 0.09411765],\n",
       "         [0.07058824, 0.07058824, 0.07058824],\n",
       "         ...,\n",
       "         [0.07058824, 0.07058824, 0.07058824],\n",
       "         [0.30196078, 0.30196078, 0.30196078],\n",
       "         [0.36862745, 0.36862745, 0.36862745]]],\n",
       "\n",
       "\n",
       "       [[[0.41568627, 0.6627451 , 0.90980392],\n",
       "         [0.41568627, 0.68235294, 0.92941176],\n",
       "         [0.4627451 , 0.69803922, 0.93333333],\n",
       "         ...,\n",
       "         [0.35686275, 0.03529412, 0.08627451],\n",
       "         [0.30588235, 0.        , 0.02352941],\n",
       "         [0.30588235, 0.        , 0.02745098]],\n",
       "\n",
       "        [[0.41960784, 0.67843137, 0.91764706],\n",
       "         [0.43921569, 0.67058824, 0.91764706],\n",
       "         [0.53333333, 0.69803922, 0.90588235],\n",
       "         ...,\n",
       "         [0.34901961, 0.03529412, 0.08627451],\n",
       "         [0.38823529, 0.04313725, 0.10588235],\n",
       "         [0.32156863, 0.        , 0.03529412]],\n",
       "\n",
       "        [[0.45490196, 0.6745098 , 0.9254902 ],\n",
       "         [0.50196078, 0.69019608, 0.90196078],\n",
       "         [0.68235294, 0.59215686, 0.72941176],\n",
       "         ...,\n",
       "         [0.40784314, 0.09411765, 0.14509804],\n",
       "         [0.38039216, 0.04705882, 0.10588235],\n",
       "         [0.3372549 , 0.        , 0.04313725]],\n",
       "\n",
       "        ...,\n",
       "\n",
       "        [[0.94509804, 0.94117647, 0.94901961],\n",
       "         [0.9372549 , 0.93333333, 0.96862745],\n",
       "         [0.90196078, 0.87058824, 0.93333333],\n",
       "         ...,\n",
       "         [0.63137255, 0.3254902 , 0.40392157],\n",
       "         [0.48627451, 0.18039216, 0.25882353],\n",
       "         [0.7254902 , 0.42352941, 0.51764706]],\n",
       "\n",
       "        [[0.8       , 0.65098039, 0.6627451 ],\n",
       "         [0.98823529, 0.97254902, 0.96862745],\n",
       "         [0.94901961, 0.94509804, 0.98039216],\n",
       "         ...,\n",
       "         [0.8       , 0.48627451, 0.56470588],\n",
       "         [0.62352941, 0.3254902 , 0.40784314],\n",
       "         [0.32941176, 0.09411765, 0.17254902]],\n",
       "\n",
       "        [[0.76078431, 0.4627451 , 0.51764706],\n",
       "         [0.78039216, 0.62745098, 0.64705882],\n",
       "         [1.        , 0.95686275, 0.99215686],\n",
       "         ...,\n",
       "         [0.45882353, 0.14117647, 0.22745098],\n",
       "         [0.34509804, 0.09411765, 0.17254902],\n",
       "         [0.6745098 , 0.64705882, 0.75686275]]],\n",
       "\n",
       "\n",
       "       [[[0.1254902 , 0.35294118, 0.68627451],\n",
       "         [0.1254902 , 0.34901961, 0.69411765],\n",
       "         [0.12156863, 0.34901961, 0.69803922],\n",
       "         ...,\n",
       "         [0.11372549, 0.34509804, 0.69019608],\n",
       "         [0.12941176, 0.35294118, 0.67843137],\n",
       "         [0.1372549 , 0.35686275, 0.6745098 ]],\n",
       "\n",
       "        [[0.12156863, 0.35294118, 0.69019608],\n",
       "         [0.12156863, 0.34901961, 0.69019608],\n",
       "         [0.11764706, 0.34901961, 0.69411765],\n",
       "         ...,\n",
       "         [0.11372549, 0.33333333, 0.67843137],\n",
       "         [0.13333333, 0.34509804, 0.67843137],\n",
       "         [0.14117647, 0.34901961, 0.6745098 ]],\n",
       "\n",
       "        [[0.12156863, 0.36862745, 0.71372549],\n",
       "         [0.11764706, 0.36862745, 0.71372549],\n",
       "         [0.11372549, 0.36470588, 0.70588235],\n",
       "         ...,\n",
       "         [0.10980392, 0.34509804, 0.68627451],\n",
       "         [0.12941176, 0.35294118, 0.68235294],\n",
       "         [0.1372549 , 0.35294118, 0.6745098 ]],\n",
       "\n",
       "        ...,\n",
       "\n",
       "        [[0.13333333, 0.3372549 , 0.6745098 ],\n",
       "         [0.14117647, 0.3372549 , 0.67058824],\n",
       "         [0.15294118, 0.34117647, 0.66666667],\n",
       "         ...,\n",
       "         [0.22745098, 0.41176471, 0.70588235],\n",
       "         [0.14509804, 0.34509804, 0.67058824],\n",
       "         [0.13333333, 0.34117647, 0.67058824]],\n",
       "\n",
       "        [[0.12941176, 0.34901961, 0.6745098 ],\n",
       "         [0.1372549 , 0.34901961, 0.67843137],\n",
       "         [0.14901961, 0.35294118, 0.67843137],\n",
       "         ...,\n",
       "         [0.13333333, 0.36078431, 0.68235294],\n",
       "         [0.12156863, 0.35294118, 0.6745098 ],\n",
       "         [0.11764706, 0.34509804, 0.6745098 ]],\n",
       "\n",
       "        [[0.14509804, 0.34117647, 0.67058824],\n",
       "         [0.14509804, 0.34117647, 0.6745098 ],\n",
       "         [0.14901961, 0.34901961, 0.6745098 ],\n",
       "         ...,\n",
       "         [0.12941176, 0.34901961, 0.67058824],\n",
       "         [0.12156863, 0.34117647, 0.66666667],\n",
       "         [0.12156863, 0.3372549 , 0.6627451 ]]]])"
      ]
     },
     "execution_count": 10,
     "metadata": {},
     "output_type": "execute_result"
    }
   ],
   "source": [
    "X_train_"
   ]
  },
  {
   "cell_type": "code",
   "execution_count": null,
   "id": "54f391b5",
   "metadata": {},
   "outputs": [],
   "source": []
  },
  {
   "cell_type": "code",
   "execution_count": null,
   "id": "7534026a",
   "metadata": {},
   "outputs": [],
   "source": []
  },
  {
   "cell_type": "markdown",
   "id": "9790c38d",
   "metadata": {},
   "source": [
    "### CNN baseline"
   ]
  },
  {
   "cell_type": "code",
   "execution_count": 121,
   "id": "61025587",
   "metadata": {},
   "outputs": [],
   "source": [
    "num_classes = len(np.unique(y_train_))\n",
    "\n",
    "model = Sequential([\n",
    "    layers.Conv2D(20, (3, 3), padding= 'same', activation='relu', input_shape=(20, 20, 3)),\n",
    "    layers.BatchNormalization(),\n",
    "    layers.Conv2D(20, (3, 3), padding= 'same', activation='relu'),\n",
    "    layers.BatchNormalization(),\n",
    "    layers.MaxPooling2D((2, 2)),\n",
    "    layers.Dropout(0.2),\n",
    "    layers.Conv2D(32, (3, 3), padding= 'same', activation='relu'),\n",
    "    layers.BatchNormalization(),\n",
    "    layers.Conv2D(32, (3, 3), padding= 'same', activation='relu'),\n",
    "    layers.BatchNormalization(),\n",
    "    layers.MaxPooling2D((2, 2)),\n",
    "    layers.Dropout(0.2),\n",
    "    layers.Conv2D(64, (3, 3), padding= 'same', activation='relu'),\n",
    "    layers.Conv2D(64, (3, 3), padding= 'same', activation='relu'),\n",
    "    layers.BatchNormalization(),\n",
    "#     layers.Conv2D(64, (3, 3), padding= 'same', activation='relu'),\n",
    "    layers.MaxPooling2D((2, 2)),\n",
    "    layers.Dropout(0.4),\n",
    "#     layers.Conv2D(128, (3, 3), padding= 'same', activation='relu'),\n",
    "#     layers.Conv2D(128, (3, 3), padding= 'same', activation='relu'),\n",
    "#     layers.MaxPooling2D((2, 2)),\n",
    "    layers.Flatten(),\n",
    "    layers.Dense(128, activation='relu'),\n",
    "    layers.BatchNormalization(),\n",
    "    layers.Dropout(0.4),\n",
    "    layers.Dense(num_classes)\n",
    "])"
   ]
  },
  {
   "cell_type": "code",
   "execution_count": 122,
   "id": "8ff2a6f2",
   "metadata": {},
   "outputs": [],
   "source": [
    "model.compile(optimizer='adam',\n",
    "              loss=tf.keras.losses.SparseCategoricalCrossentropy(from_logits=True),\n",
    "              metrics=['accuracy', 'categorical_accuracy'])"
   ]
  },
  {
   "cell_type": "code",
   "execution_count": 123,
   "id": "4f794aa7",
   "metadata": {},
   "outputs": [
    {
     "name": "stdout",
     "output_type": "stream",
     "text": [
      "Model: \"sequential_3\"\n",
      "_________________________________________________________________\n",
      "Layer (type)                 Output Shape              Param #   \n",
      "=================================================================\n",
      "conv2d_18 (Conv2D)           (None, 20, 20, 20)        560       \n",
      "_________________________________________________________________\n",
      "batch_normalization_18 (Batc (None, 20, 20, 20)        80        \n",
      "_________________________________________________________________\n",
      "conv2d_19 (Conv2D)           (None, 20, 20, 20)        3620      \n",
      "_________________________________________________________________\n",
      "batch_normalization_19 (Batc (None, 20, 20, 20)        80        \n",
      "_________________________________________________________________\n",
      "max_pooling2d_9 (MaxPooling2 (None, 10, 10, 20)        0         \n",
      "_________________________________________________________________\n",
      "dropout_12 (Dropout)         (None, 10, 10, 20)        0         \n",
      "_________________________________________________________________\n",
      "conv2d_20 (Conv2D)           (None, 10, 10, 32)        5792      \n",
      "_________________________________________________________________\n",
      "batch_normalization_20 (Batc (None, 10, 10, 32)        128       \n",
      "_________________________________________________________________\n",
      "conv2d_21 (Conv2D)           (None, 10, 10, 32)        9248      \n",
      "_________________________________________________________________\n",
      "batch_normalization_21 (Batc (None, 10, 10, 32)        128       \n",
      "_________________________________________________________________\n",
      "max_pooling2d_10 (MaxPooling (None, 5, 5, 32)          0         \n",
      "_________________________________________________________________\n",
      "dropout_13 (Dropout)         (None, 5, 5, 32)          0         \n",
      "_________________________________________________________________\n",
      "conv2d_22 (Conv2D)           (None, 5, 5, 64)          18496     \n",
      "_________________________________________________________________\n",
      "conv2d_23 (Conv2D)           (None, 5, 5, 64)          36928     \n",
      "_________________________________________________________________\n",
      "batch_normalization_22 (Batc (None, 5, 5, 64)          256       \n",
      "_________________________________________________________________\n",
      "max_pooling2d_11 (MaxPooling (None, 2, 2, 64)          0         \n",
      "_________________________________________________________________\n",
      "dropout_14 (Dropout)         (None, 2, 2, 64)          0         \n",
      "_________________________________________________________________\n",
      "flatten_3 (Flatten)          (None, 256)               0         \n",
      "_________________________________________________________________\n",
      "dense_6 (Dense)              (None, 128)               32896     \n",
      "_________________________________________________________________\n",
      "batch_normalization_23 (Batc (None, 128)               512       \n",
      "_________________________________________________________________\n",
      "dropout_15 (Dropout)         (None, 128)               0         \n",
      "_________________________________________________________________\n",
      "dense_7 (Dense)              (None, 62)                7998      \n",
      "=================================================================\n",
      "Total params: 116,722\n",
      "Trainable params: 116,130\n",
      "Non-trainable params: 592\n",
      "_________________________________________________________________\n"
     ]
    }
   ],
   "source": [
    "model.summary()"
   ]
  },
  {
   "cell_type": "code",
   "execution_count": 52,
   "id": "b4a554ea",
   "metadata": {},
   "outputs": [
    {
     "name": "stdout",
     "output_type": "stream",
     "text": [
      "Train on 14993 samples, validate on 3749 samples\n",
      "Epoch 1/15\n",
      "14993/14993 [==============================] - 41s 3ms/sample - loss: 4.3885 - accuracy: 0.0355 - categorical_accuracy: 0.0217 - val_loss: 3.5885 - val_accuracy: 0.0990 - val_categorical_accuracy: 0.0787\n",
      "Epoch 2/15\n",
      "14993/14993 [==============================] - 39s 3ms/sample - loss: 3.1127 - accuracy: 0.1906 - categorical_accuracy: 0.0149 - val_loss: 2.1246 - val_accuracy: 0.4681 - val_categorical_accuracy: 0.0035\n",
      "Epoch 3/15\n",
      "14993/14993 [==============================] - 40s 3ms/sample - loss: 2.0948 - accuracy: 0.4190 - categorical_accuracy: 0.0147 - val_loss: 1.4249 - val_accuracy: 0.6076 - val_categorical_accuracy: 0.0256\n",
      "Epoch 4/15\n",
      "14993/14993 [==============================] - 40s 3ms/sample - loss: 1.5938 - accuracy: 0.5443 - categorical_accuracy: 0.0167 - val_loss: 1.0511 - val_accuracy: 0.6965 - val_categorical_accuracy: 0.0056\n",
      "Epoch 5/15\n",
      "14993/14993 [==============================] - 46s 3ms/sample - loss: 1.2952 - accuracy: 0.6150 - categorical_accuracy: 0.0163 - val_loss: 0.8512 - val_accuracy: 0.7525 - val_categorical_accuracy: 0.0216\n",
      "Epoch 6/15\n",
      "14993/14993 [==============================] - 37s 2ms/sample - loss: 1.1549 - accuracy: 0.6552 - categorical_accuracy: 0.0167 - val_loss: 0.7679 - val_accuracy: 0.7826 - val_categorical_accuracy: 0.0189\n",
      "Epoch 7/15\n",
      "14993/14993 [==============================] - 37s 2ms/sample - loss: 1.0201 - accuracy: 0.6900 - categorical_accuracy: 0.0178 - val_loss: 0.7194 - val_accuracy: 0.7861 - val_categorical_accuracy: 0.0285\n",
      "Epoch 8/15\n",
      "14993/14993 [==============================] - 37s 2ms/sample - loss: 0.9022 - accuracy: 0.7203 - categorical_accuracy: 0.0167 - val_loss: 0.5709 - val_accuracy: 0.8200 - val_categorical_accuracy: 0.0117\n",
      "Epoch 9/15\n",
      "14993/14993 [==============================] - 39s 3ms/sample - loss: 0.8284 - accuracy: 0.7441 - categorical_accuracy: 0.0169 - val_loss: 0.5311 - val_accuracy: 0.8410 - val_categorical_accuracy: 0.0157\n",
      "Epoch 10/15\n",
      "14993/14993 [==============================] - 39s 3ms/sample - loss: 0.7713 - accuracy: 0.7585 - categorical_accuracy: 0.0163 - val_loss: 0.4916 - val_accuracy: 0.8552 - val_categorical_accuracy: 0.0128\n",
      "Epoch 11/15\n",
      "14993/14993 [==============================] - 39s 3ms/sample - loss: 0.7238 - accuracy: 0.7711 - categorical_accuracy: 0.0167 - val_loss: 0.4384 - val_accuracy: 0.8680 - val_categorical_accuracy: 0.0160\n",
      "Epoch 12/15\n",
      "14993/14993 [==============================] - 40s 3ms/sample - loss: 0.6682 - accuracy: 0.7905 - categorical_accuracy: 0.0163 - val_loss: 0.4565 - val_accuracy: 0.8608 - val_categorical_accuracy: 0.0104\n",
      "Epoch 13/15\n",
      "14993/14993 [==============================] - 39s 3ms/sample - loss: 0.6318 - accuracy: 0.8030 - categorical_accuracy: 0.0160 - val_loss: 0.4088 - val_accuracy: 0.8728 - val_categorical_accuracy: 0.0307\n",
      "Epoch 14/15\n",
      "14993/14993 [==============================] - 39s 3ms/sample - loss: 0.5950 - accuracy: 0.8138 - categorical_accuracy: 0.0163 - val_loss: 0.3956 - val_accuracy: 0.8792 - val_categorical_accuracy: 0.0272\n",
      "Epoch 15/15\n",
      "14993/14993 [==============================] - 39s 3ms/sample - loss: 0.5768 - accuracy: 0.8197 - categorical_accuracy: 0.0169 - val_loss: 0.3818 - val_accuracy: 0.8864 - val_categorical_accuracy: 0.0171\n"
     ]
    }
   ],
   "source": [
    "history = model.fit(X_train_, y_train_, epochs=15,# batch_size=64,\n",
    "                    validation_data=(X_test_, y_test_))"
   ]
  },
  {
   "cell_type": "code",
   "execution_count": null,
   "id": "e4eb0cfc",
   "metadata": {},
   "outputs": [],
   "source": []
  },
  {
   "cell_type": "markdown",
   "id": "60a80bb5",
   "metadata": {},
   "source": [
    "### Stratified KFold"
   ]
  },
  {
   "cell_type": "code",
   "execution_count": 124,
   "id": "3309174f",
   "metadata": {},
   "outputs": [],
   "source": [
    "k_fold = StratifiedKFold(n_splits=5, random_state=12, shuffle=True)"
   ]
  },
  {
   "cell_type": "code",
   "execution_count": 125,
   "id": "316a8270",
   "metadata": {},
   "outputs": [
    {
     "name": "stdout",
     "output_type": "stream",
     "text": [
      "Train on 11994 samples, validate on 2999 samples\n",
      "Epoch 1/8\n",
      "11994/11994 [==============================] - 34s 3ms/sample - loss: 4.5646 - accuracy: 0.0258 - categorical_accuracy: 0.0194 - val_loss: 4.1041 - val_accuracy: 0.0383 - val_categorical_accuracy: 0.0247\n",
      "Epoch 2/8\n",
      "11994/11994 [==============================] - 31s 3ms/sample - loss: 3.7699 - accuracy: 0.0952 - categorical_accuracy: 0.0143 - val_loss: 2.8362 - val_accuracy: 0.2941 - val_categorical_accuracy: 0.0273\n",
      "Epoch 3/8\n",
      "11994/11994 [==============================] - 31s 3ms/sample - loss: 2.6573 - accuracy: 0.2943 - categorical_accuracy: 0.0166 - val_loss: 1.7453 - val_accuracy: 0.5539 - val_categorical_accuracy: 0.0123\n",
      "Epoch 4/8\n",
      "11994/11994 [==============================] - 31s 3ms/sample - loss: 1.9608 - accuracy: 0.4511 - categorical_accuracy: 0.0155 - val_loss: 1.2619 - val_accuracy: 0.6702 - val_categorical_accuracy: 0.0110\n",
      "Epoch 5/8\n",
      "11994/11994 [==============================] - 31s 3ms/sample - loss: 1.5778 - accuracy: 0.5429 - categorical_accuracy: 0.0143 - val_loss: 1.0495 - val_accuracy: 0.7006 - val_categorical_accuracy: 0.0083\n",
      "Epoch 6/8\n",
      "11994/11994 [==============================] - 32s 3ms/sample - loss: 1.3006 - accuracy: 0.6181 - categorical_accuracy: 0.0153 - val_loss: 0.8312 - val_accuracy: 0.7659 - val_categorical_accuracy: 0.0163\n",
      "Epoch 7/8\n",
      "11994/11994 [==============================] - 32s 3ms/sample - loss: 1.1506 - accuracy: 0.6594 - categorical_accuracy: 0.0148 - val_loss: 0.6817 - val_accuracy: 0.8066 - val_categorical_accuracy: 0.0173\n",
      "Epoch 8/8\n",
      "11994/11994 [==============================] - 32s 3ms/sample - loss: 1.0135 - accuracy: 0.6939 - categorical_accuracy: 0.0168 - val_loss: 0.6311 - val_accuracy: 0.8189 - val_categorical_accuracy: 0.0250\n",
      "3749/3749 - 2s - loss: 0.6740 - accuracy: 0.8093 - categorical_accuracy: 0.0229\n",
      "Train on 11994 samples, validate on 2999 samples\n",
      "Epoch 1/8\n",
      "11994/11994 [==============================] - 32s 3ms/sample - loss: 0.9551 - accuracy: 0.7104 - categorical_accuracy: 0.0162 - val_loss: 0.5328 - val_accuracy: 0.8409 - val_categorical_accuracy: 0.0150\n",
      "Epoch 2/8\n",
      "11994/11994 [==============================] - 31s 3ms/sample - loss: 0.8488 - accuracy: 0.7377 - categorical_accuracy: 0.0166 - val_loss: 0.5524 - val_accuracy: 0.8299 - val_categorical_accuracy: 0.0103\n",
      "Epoch 3/8\n",
      "11994/11994 [==============================] - 34s 3ms/sample - loss: 0.7790 - accuracy: 0.7604 - categorical_accuracy: 0.0170 - val_loss: 0.4291 - val_accuracy: 0.8640 - val_categorical_accuracy: 0.0207\n",
      "Epoch 4/8\n",
      "11994/11994 [==============================] - 36s 3ms/sample - loss: 0.7267 - accuracy: 0.7726 - categorical_accuracy: 0.0163 - val_loss: 0.3868 - val_accuracy: 0.8790 - val_categorical_accuracy: 0.0140\n",
      "Epoch 5/8\n",
      "11994/11994 [==============================] - 32s 3ms/sample - loss: 0.6855 - accuracy: 0.7861 - categorical_accuracy: 0.0175 - val_loss: 0.4140 - val_accuracy: 0.8720 - val_categorical_accuracy: 0.0110\n",
      "Epoch 6/8\n",
      "11994/11994 [==============================] - 32s 3ms/sample - loss: 0.6454 - accuracy: 0.7980 - categorical_accuracy: 0.0157 - val_loss: 0.3857 - val_accuracy: 0.8813 - val_categorical_accuracy: 0.0147\n",
      "Epoch 7/8\n",
      "11994/11994 [==============================] - 32s 3ms/sample - loss: 0.6174 - accuracy: 0.8047 - categorical_accuracy: 0.0166 - val_loss: 0.3672 - val_accuracy: 0.8826 - val_categorical_accuracy: 0.0103\n",
      "Epoch 8/8\n",
      "11994/11994 [==============================] - 32s 3ms/sample - loss: 0.5961 - accuracy: 0.8103 - categorical_accuracy: 0.0173 - val_loss: 0.4804 - val_accuracy: 0.8593 - val_categorical_accuracy: 0.0097\n",
      "3749/3749 - 2s - loss: 0.5281 - accuracy: 0.8461 - categorical_accuracy: 0.0101\n",
      "Train on 11994 samples, validate on 2999 samples\n",
      "Epoch 1/8\n",
      "11994/11994 [==============================] - 31s 3ms/sample - loss: 0.5965 - accuracy: 0.8140 - categorical_accuracy: 0.0173 - val_loss: 0.2609 - val_accuracy: 0.9190 - val_categorical_accuracy: 0.0267\n",
      "Epoch 2/8\n",
      "11994/11994 [==============================] - 31s 3ms/sample - loss: 0.5530 - accuracy: 0.8262 - categorical_accuracy: 0.0177 - val_loss: 0.2546 - val_accuracy: 0.9230 - val_categorical_accuracy: 0.0217\n",
      "Epoch 3/8\n",
      "11994/11994 [==============================] - 32s 3ms/sample - loss: 0.5479 - accuracy: 0.8238 - categorical_accuracy: 0.0173 - val_loss: 0.2519 - val_accuracy: 0.9230 - val_categorical_accuracy: 0.0193\n",
      "Epoch 4/8\n",
      "11994/11994 [==============================] - 33s 3ms/sample - loss: 0.5155 - accuracy: 0.8353 - categorical_accuracy: 0.0166 - val_loss: 0.2120 - val_accuracy: 0.9316 - val_categorical_accuracy: 0.0160\n",
      "Epoch 5/8\n",
      "11994/11994 [==============================] - 33s 3ms/sample - loss: 0.5080 - accuracy: 0.8343 - categorical_accuracy: 0.0166 - val_loss: 0.2118 - val_accuracy: 0.9343 - val_categorical_accuracy: 0.0133\n",
      "Epoch 6/8\n",
      "11994/11994 [==============================] - 31s 3ms/sample - loss: 0.4661 - accuracy: 0.8504 - categorical_accuracy: 0.0158 - val_loss: 0.2483 - val_accuracy: 0.9243 - val_categorical_accuracy: 0.0203\n",
      "Epoch 7/8\n",
      "11994/11994 [==============================] - 32s 3ms/sample - loss: 0.4737 - accuracy: 0.8467 - categorical_accuracy: 0.0166 - val_loss: 0.2462 - val_accuracy: 0.9276 - val_categorical_accuracy: 0.0143\n",
      "Epoch 8/8\n",
      "11994/11994 [==============================] - 32s 3ms/sample - loss: 0.4331 - accuracy: 0.8617 - categorical_accuracy: 0.0162 - val_loss: 0.2227 - val_accuracy: 0.9270 - val_categorical_accuracy: 0.0233\n",
      "3749/3749 - 2s - loss: 0.3367 - accuracy: 0.9040 - categorical_accuracy: 0.0232\n",
      "Train on 11995 samples, validate on 2998 samples\n",
      "Epoch 1/8\n",
      "11995/11995 [==============================] - 32s 3ms/sample - loss: 0.4726 - accuracy: 0.8504 - categorical_accuracy: 0.0169 - val_loss: 0.1607 - val_accuracy: 0.9550 - val_categorical_accuracy: 0.0137\n",
      "Epoch 2/8\n",
      "11995/11995 [==============================] - 32s 3ms/sample - loss: 0.4401 - accuracy: 0.8605 - categorical_accuracy: 0.0170 - val_loss: 0.1493 - val_accuracy: 0.9543 - val_categorical_accuracy: 0.0173\n",
      "Epoch 3/8\n",
      "11995/11995 [==============================] - 32s 3ms/sample - loss: 0.4141 - accuracy: 0.8683 - categorical_accuracy: 0.0167 - val_loss: 0.1662 - val_accuracy: 0.9473 - val_categorical_accuracy: 0.0187\n",
      "Epoch 4/8\n",
      "11995/11995 [==============================] - 32s 3ms/sample - loss: 0.4013 - accuracy: 0.8686 - categorical_accuracy: 0.0169 - val_loss: 0.1557 - val_accuracy: 0.9500 - val_categorical_accuracy: 0.0130\n",
      "Epoch 5/8\n",
      "11995/11995 [==============================] - 32s 3ms/sample - loss: 0.4101 - accuracy: 0.8659 - categorical_accuracy: 0.0172 - val_loss: 0.1819 - val_accuracy: 0.9460 - val_categorical_accuracy: 0.0170\n",
      "Epoch 6/8\n",
      "11995/11995 [==============================] - 32s 3ms/sample - loss: 0.3910 - accuracy: 0.8732 - categorical_accuracy: 0.0165 - val_loss: 0.1753 - val_accuracy: 0.9453 - val_categorical_accuracy: 0.0157\n",
      "Epoch 7/8\n",
      "11995/11995 [==============================] - 31s 3ms/sample - loss: 0.3754 - accuracy: 0.8774 - categorical_accuracy: 0.0163 - val_loss: 0.1667 - val_accuracy: 0.9483 - val_categorical_accuracy: 0.0137\n",
      "Epoch 8/8\n",
      "11995/11995 [==============================] - 31s 3ms/sample - loss: 0.3682 - accuracy: 0.8820 - categorical_accuracy: 0.0165 - val_loss: 0.1775 - val_accuracy: 0.9480 - val_categorical_accuracy: 0.0180\n",
      "3749/3749 - 2s - loss: 0.2973 - accuracy: 0.9224 - categorical_accuracy: 0.0181\n",
      "Train on 11995 samples, validate on 2998 samples\n",
      "Epoch 1/8\n",
      "11995/11995 [==============================] - 31s 3ms/sample - loss: 0.3831 - accuracy: 0.8739 - categorical_accuracy: 0.0166 - val_loss: 0.1069 - val_accuracy: 0.9646 - val_categorical_accuracy: 0.0147\n",
      "Epoch 2/8\n",
      "11995/11995 [==============================] - 31s 3ms/sample - loss: 0.3717 - accuracy: 0.8793 - categorical_accuracy: 0.0161 - val_loss: 0.1275 - val_accuracy: 0.9606 - val_categorical_accuracy: 0.0167\n",
      "Epoch 3/8\n",
      "11995/11995 [==============================] - 31s 3ms/sample - loss: 0.3584 - accuracy: 0.8820 - categorical_accuracy: 0.0167 - val_loss: 0.1373 - val_accuracy: 0.9600 - val_categorical_accuracy: 0.0127\n",
      "Epoch 4/8\n",
      "11995/11995 [==============================] - 31s 3ms/sample - loss: 0.3462 - accuracy: 0.8914 - categorical_accuracy: 0.0169 - val_loss: 0.1245 - val_accuracy: 0.9603 - val_categorical_accuracy: 0.0163\n"
     ]
    },
    {
     "name": "stdout",
     "output_type": "stream",
     "text": [
      "Epoch 5/8\n",
      "11995/11995 [==============================] - 32s 3ms/sample - loss: 0.3355 - accuracy: 0.8954 - categorical_accuracy: 0.0162 - val_loss: 0.1391 - val_accuracy: 0.9590 - val_categorical_accuracy: 0.0173\n",
      "Epoch 6/8\n",
      "11995/11995 [==============================] - 31s 3ms/sample - loss: 0.3269 - accuracy: 0.8964 - categorical_accuracy: 0.0154 - val_loss: 0.1329 - val_accuracy: 0.9563 - val_categorical_accuracy: 0.0167\n",
      "Epoch 7/8\n",
      "11995/11995 [==============================] - 31s 3ms/sample - loss: 0.3389 - accuracy: 0.8912 - categorical_accuracy: 0.0156 - val_loss: 0.1375 - val_accuracy: 0.9553 - val_categorical_accuracy: 0.0217\n",
      "Epoch 8/8\n",
      "11995/11995 [==============================] - 32s 3ms/sample - loss: 0.3163 - accuracy: 0.8972 - categorical_accuracy: 0.0169 - val_loss: 0.1333 - val_accuracy: 0.9566 - val_categorical_accuracy: 0.0163\n",
      "3749/3749 - 2s - loss: 0.2896 - accuracy: 0.9261 - categorical_accuracy: 0.0192\n"
     ]
    }
   ],
   "source": [
    "test_acc_arr = []\n",
    "\n",
    "for k_train_index, k_val_index in k_fold.split(X_train_, y_train_):\n",
    "    \n",
    "    model.fit(X_train_[k_train_index,:], y_train_[k_train_index], \n",
    "              epochs=8, \n",
    "              validation_data=(X_train_[k_val_index,:], y_train_[k_val_index]))\n",
    "    \n",
    "    test_loss, test_acc, _ = model.evaluate(X_test_, y_test_,  verbose=2)\n",
    "    test_acc_arr.append(test_acc)\n"
   ]
  },
  {
   "cell_type": "code",
   "execution_count": 126,
   "id": "5e3e8e7a",
   "metadata": {},
   "outputs": [
    {
     "data": {
      "text/plain": [
       "[0.8092825, 0.8460923, 0.9039744, 0.9223793, 0.9261136]"
      ]
     },
     "execution_count": 126,
     "metadata": {},
     "output_type": "execute_result"
    }
   ],
   "source": [
    "test_acc_arr"
   ]
  },
  {
   "cell_type": "code",
   "execution_count": null,
   "id": "f08d4f62",
   "metadata": {},
   "outputs": [],
   "source": []
  },
  {
   "cell_type": "markdown",
   "id": "4ccddcff",
   "metadata": {},
   "source": [
    "#### Evaluate model"
   ]
  },
  {
   "cell_type": "code",
   "execution_count": 101,
   "id": "ef91f424",
   "metadata": {},
   "outputs": [
    {
     "data": {
      "text/plain": [
       "<matplotlib.legend.Legend at 0x1f4e2507d88>"
      ]
     },
     "execution_count": 101,
     "metadata": {},
     "output_type": "execute_result"
    },
    {
     "data": {
      "image/png": "[encoded data removed]",
      "text/plain": [
       "<Figure size 432x288 with 1 Axes>"
      ]
     },
     "metadata": {
      "needs_background": "light"
     },
     "output_type": "display_data"
    }
   ],
   "source": [
    "plt.plot(history.history['accuracy'], label='accuracy')\n",
    "plt.plot(history.history['val_accuracy'], label='val_accuracy')\n",
    "plt.plot(history.history['categorical_accuracy'], label='categorical_accuracy')\n",
    "plt.plot(history.history['val_categorical_accuracy'], label = 'val_categorical_accuracy')\n",
    "plt.xlabel('Epoch')\n",
    "plt.ylabel('Accuracy')\n",
    "plt.ylim([0, 1])\n",
    "plt.legend(loc='lower right')\n",
    "\n",
    "# test_loss, test_acc = model.evaluate(X_test_, y_test_,  verbose=2)"
   ]
  },
  {
   "cell_type": "code",
   "execution_count": 102,
   "id": "7f225245",
   "metadata": {},
   "outputs": [
    {
     "data": {
      "image/png": "[encoded data removed]",
      "text/plain": [
       "<Figure size 432x288 with 1 Axes>"
      ]
     },
     "metadata": {
      "needs_background": "light"
     },
     "output_type": "display_data"
    }
   ],
   "source": [
    "plt.plot(history.history['loss'], label='loss')\n",
    "plt.plot(history.history['val_loss'], label = 'val_loss')\n",
    "plt.xlabel('Epoch')\n",
    "plt.ylabel('Loss')\n",
    "plt.ylim([0, 5])\n",
    "plt.legend(loc='upper right')\n",
    "plt.show()"
   ]
  },
  {
   "cell_type": "code",
   "execution_count": 103,
   "id": "3a0743b0",
   "metadata": {},
   "outputs": [
    {
     "name": "stdout",
     "output_type": "stream",
     "text": [
      "3749/3749 - 2s - loss: 0.3027 - accuracy: 0.9176 - categorical_accuracy: 0.0128\n"
     ]
    },
    {
     "data": {
      "text/plain": [
       "0.91757804"
      ]
     },
     "execution_count": 103,
     "metadata": {},
     "output_type": "execute_result"
    }
   ],
   "source": [
    "test_loss, test_acc, _ = model.evaluate(X_test_, y_test_,  verbose=2)\n",
    "test_acc"
   ]
  },
  {
   "cell_type": "markdown",
   "id": "102d1bef",
   "metadata": {},
   "source": [
    "#### Make predictions"
   ]
  },
  {
   "cell_type": "code",
   "execution_count": 127,
   "id": "e361d783",
   "metadata": {},
   "outputs": [
    {
     "data": {
      "text/plain": [
       "(3749, 62)"
      ]
     },
     "execution_count": 127,
     "metadata": {},
     "output_type": "execute_result"
    }
   ],
   "source": [
    "pred = model.predict(X_test_)\n",
    "pred.shape"
   ]
  },
  {
   "cell_type": "code",
   "execution_count": 128,
   "id": "28666431",
   "metadata": {},
   "outputs": [],
   "source": [
    "pred_labels = np.asarray([np.argmax(i) for i in pred])\n"
   ]
  },
  {
   "cell_type": "markdown",
   "id": "05295ee1",
   "metadata": {},
   "source": [
    "#### invert labels"
   ]
  },
  {
   "cell_type": "code",
   "execution_count": 129,
   "id": "c58a3790",
   "metadata": {},
   "outputs": [],
   "source": [
    "y_test_inv = label_enc.inverse_transform(y_test_)\n",
    "pred_labels_inv = label_enc.inverse_transform(pred_labels)\n"
   ]
  },
  {
   "cell_type": "code",
   "execution_count": null,
   "id": "fefb0ac6",
   "metadata": {},
   "outputs": [],
   "source": []
  },
  {
   "cell_type": "code",
   "execution_count": 130,
   "id": "e7bd6ce3",
   "metadata": {},
   "outputs": [
    {
     "name": "stdout",
     "output_type": "stream",
     "text": [
      "              precision    recall  f1-score   support\n",
      "\n",
      "           0       0.75      0.95      0.84        57\n",
      "           1       0.97      0.95      0.96        41\n",
      "           2       0.98      0.98      0.98        55\n",
      "           3       1.00      1.00      1.00        65\n",
      "           4       0.98      1.00      0.99        64\n",
      "           5       0.97      1.00      0.98        64\n",
      "           6       0.98      0.98      0.98        56\n",
      "           7       1.00      0.98      0.99        59\n",
      "           8       1.00      1.00      1.00        61\n",
      "           9       0.96      1.00      0.98        52\n",
      "           A       0.87      0.89      0.88        70\n",
      "           B       0.91      0.98      0.95        44\n",
      "           C       0.75      0.91      0.82        56\n",
      "           D       0.93      0.92      0.93        62\n",
      "           E       0.98      0.91      0.95        68\n",
      "           F       0.92      0.98      0.95        49\n",
      "           G       0.87      0.97      0.91        61\n",
      "           H       0.80      0.93      0.86        56\n",
      "           I       0.76      0.61      0.68        69\n",
      "           J       0.98      0.95      0.96        57\n",
      "           K       0.98      1.00      0.99        44\n",
      "           L       0.97      0.94      0.95        62\n",
      "           M       0.88      0.96      0.92        70\n",
      "           N       0.93      0.87      0.90        61\n",
      "           O       0.63      0.63      0.63        57\n",
      "           P       0.89      0.98      0.94        52\n",
      "           Q       1.00      1.00      1.00        69\n",
      "           R       0.94      0.84      0.89        61\n",
      "           S       0.77      0.81      0.79        58\n",
      "           T       1.00      0.90      0.95        71\n",
      "           U       0.98      0.98      0.98        59\n",
      "           V       0.98      0.87      0.92        70\n",
      "           W       0.98      0.95      0.96        56\n",
      "           X       0.99      0.97      0.98        70\n",
      "           Y       1.00      0.96      0.98        71\n",
      "           Z       0.93      1.00      0.96        51\n",
      "           a       0.95      0.88      0.92        69\n",
      "           b       0.98      1.00      0.99        52\n",
      "           c       0.91      0.74      0.82        54\n",
      "           d       0.91      0.98      0.94        61\n",
      "           e       0.95      0.82      0.88        71\n",
      "           f       0.89      1.00      0.94        66\n",
      "           g       1.00      1.00      1.00        63\n",
      "           h       1.00      0.93      0.97        61\n",
      "           i       0.82      0.88      0.85        57\n",
      "           j       0.98      0.97      0.97        60\n",
      "           k       1.00      1.00      1.00        63\n",
      "           l       0.84      0.87      0.86        75\n",
      "           m       0.94      0.98      0.96        60\n",
      "           n       0.92      0.91      0.92        66\n",
      "           o       0.75      0.58      0.65        62\n",
      "           p       0.98      0.97      0.98        61\n",
      "           q       1.00      1.00      1.00        63\n",
      "           r       0.88      0.89      0.88        64\n",
      "           s       0.81      0.75      0.78        56\n",
      "           t       0.95      0.87      0.91        61\n",
      "           u       0.95      1.00      0.97        57\n",
      "           v       0.92      1.00      0.96        68\n",
      "           w       0.95      1.00      0.98        59\n",
      "           x       0.96      0.98      0.97        55\n",
      "           y       0.97      1.00      0.98        60\n",
      "           z       1.00      1.00      1.00        57\n",
      "\n",
      "    accuracy                           0.93      3749\n",
      "   macro avg       0.93      0.93      0.93      3749\n",
      "weighted avg       0.93      0.93      0.93      3749\n",
      "\n"
     ]
    }
   ],
   "source": [
    "print(classification_report(y_test_inv, pred_labels_inv))"
   ]
  },
  {
   "cell_type": "code",
   "execution_count": 131,
   "id": "b520b8fd",
   "metadata": {},
   "outputs": [],
   "source": [
    "# confusion_matrix(y_test_, pred_labels)"
   ]
  },
  {
   "cell_type": "code",
   "execution_count": null,
   "id": "dfa62e54",
   "metadata": {},
   "outputs": [],
   "source": []
  },
  {
   "cell_type": "code",
   "execution_count": 132,
   "id": "2c685dd5",
   "metadata": {},
   "outputs": [
    {
     "data": {
      "text/html": [
       "<div>\n",
       "<style scoped>\n",
       "    .dataframe tbody tr th:only-of-type {\n",
       "        vertical-align: middle;\n",
       "    }\n",
       "\n",
       "    .dataframe tbody tr th {\n",
       "        vertical-align: top;\n",
       "    }\n",
       "\n",
       "    .dataframe thead th {\n",
       "        text-align: right;\n",
       "    }\n",
       "</style>\n",
       "<table border=\"1\" class=\"dataframe\">\n",
       "  <thead>\n",
       "    <tr style=\"text-align: right;\">\n",
       "      <th></th>\n",
       "      <th>y_test</th>\n",
       "      <th>predicted</th>\n",
       "    </tr>\n",
       "  </thead>\n",
       "  <tbody>\n",
       "    <tr>\n",
       "      <th>0</th>\n",
       "      <td>X</td>\n",
       "      <td>X</td>\n",
       "    </tr>\n",
       "    <tr>\n",
       "      <th>1</th>\n",
       "      <td>p</td>\n",
       "      <td>p</td>\n",
       "    </tr>\n",
       "    <tr>\n",
       "      <th>2</th>\n",
       "      <td>l</td>\n",
       "      <td>I</td>\n",
       "    </tr>\n",
       "    <tr>\n",
       "      <th>3</th>\n",
       "      <td>G</td>\n",
       "      <td>G</td>\n",
       "    </tr>\n",
       "    <tr>\n",
       "      <th>4</th>\n",
       "      <td>p</td>\n",
       "      <td>p</td>\n",
       "    </tr>\n",
       "    <tr>\n",
       "      <th>...</th>\n",
       "      <td>...</td>\n",
       "      <td>...</td>\n",
       "    </tr>\n",
       "    <tr>\n",
       "      <th>3744</th>\n",
       "      <td>l</td>\n",
       "      <td>l</td>\n",
       "    </tr>\n",
       "    <tr>\n",
       "      <th>3745</th>\n",
       "      <td>s</td>\n",
       "      <td>S</td>\n",
       "    </tr>\n",
       "    <tr>\n",
       "      <th>3746</th>\n",
       "      <td>r</td>\n",
       "      <td>r</td>\n",
       "    </tr>\n",
       "    <tr>\n",
       "      <th>3747</th>\n",
       "      <td>t</td>\n",
       "      <td>t</td>\n",
       "    </tr>\n",
       "    <tr>\n",
       "      <th>3748</th>\n",
       "      <td>W</td>\n",
       "      <td>W</td>\n",
       "    </tr>\n",
       "  </tbody>\n",
       "</table>\n",
       "<p>3749 rows × 2 columns</p>\n",
       "</div>"
      ],
      "text/plain": [
       "     y_test predicted\n",
       "0         X         X\n",
       "1         p         p\n",
       "2         l         I\n",
       "3         G         G\n",
       "4         p         p\n",
       "...     ...       ...\n",
       "3744      l         l\n",
       "3745      s         S\n",
       "3746      r         r\n",
       "3747      t         t\n",
       "3748      W         W\n",
       "\n",
       "[3749 rows x 2 columns]"
      ]
     },
     "execution_count": 132,
     "metadata": {},
     "output_type": "execute_result"
    }
   ],
   "source": [
    "result_df = pd.DataFrame()\n",
    "result_df['y_test'] = y_test_inv\n",
    "result_df['predicted'] = pred_labels_inv\n",
    "result_df"
   ]
  },
  {
   "cell_type": "code",
   "execution_count": 133,
   "id": "2d00a0bb",
   "metadata": {},
   "outputs": [],
   "source": [
    "def check_and_plot(num):\n",
    "    print(result_df.loc[num])\n",
    "    imshow(X_test_[num])\n",
    "    plt.show()"
   ]
  },
  {
   "cell_type": "code",
   "execution_count": 134,
   "id": "273ba140",
   "metadata": {},
   "outputs": [
    {
     "name": "stdout",
     "output_type": "stream",
     "text": [
      "y_test       G\n",
      "predicted    G\n",
      "Name: 3, dtype: object\n"
     ]
    },
    {
     "data": {
      "image/png": "[encoded data removed]",
      "text/plain": [
       "<Figure size 432x288 with 1 Axes>"
      ]
     },
     "metadata": {
      "needs_background": "light"
     },
     "output_type": "display_data"
    }
   ],
   "source": [
    "check_and_plot(3)"
   ]
  },
  {
   "cell_type": "code",
   "execution_count": null,
   "id": "8e35f36c",
   "metadata": {},
   "outputs": [],
   "source": []
  },
  {
   "attachments": {
    "image.png": {
     "image/png": "[encoded data removed]"
    }
   },
   "cell_type": "markdown",
   "id": "a164819c",
   "metadata": {},
   "source": [
    "![image.png](attachment:image.png)"
   ]
  },
  {
   "cell_type": "code",
   "execution_count": 135,
   "id": "42c5ab0f",
   "metadata": {},
   "outputs": [],
   "source": [
    "class_accuracy = (result_df['y_test'] == result_df['predicted']).sum() / len(result_df)"
   ]
  },
  {
   "cell_type": "code",
   "execution_count": 136,
   "id": "f0cf5c81",
   "metadata": {},
   "outputs": [
    {
     "data": {
      "text/plain": [
       "0.9261136303014137"
      ]
     },
     "execution_count": 136,
     "metadata": {},
     "output_type": "execute_result"
    }
   ],
   "source": [
    "class_accuracy"
   ]
  },
  {
   "cell_type": "code",
   "execution_count": null,
   "id": "6b03f72a",
   "metadata": {},
   "outputs": [],
   "source": []
  },
  {
   "cell_type": "markdown",
   "id": "6ae95f29",
   "metadata": {},
   "source": [
    "### Prepare data for submission"
   ]
  },
  {
   "cell_type": "code",
   "execution_count": null,
   "id": "1e6df3ab",
   "metadata": {},
   "outputs": [],
   "source": []
  },
  {
   "cell_type": "code",
   "execution_count": 65,
   "id": "c506b7f5",
   "metadata": {},
   "outputs": [],
   "source": [
    "def get_imnames():\n",
    "    txtfiles = []\n",
    "    for file in glob.glob(TEST_IMG_PATH + \"*.Bmp\"):\n",
    "        file = file.split('\\\\')[-1][:-4] #get only filename\n",
    "        txtfiles.append(file)\n",
    "        \n",
    "    return txtfiles"
   ]
  },
  {
   "cell_type": "code",
   "execution_count": 29,
   "id": "0fe1df6e",
   "metadata": {},
   "outputs": [
    {
     "data": {
      "text/plain": [
       "6220"
      ]
     },
     "execution_count": 29,
     "metadata": {},
     "output_type": "execute_result"
    }
   ],
   "source": [
    "txtfiles = get_imnames()\n",
    "len(txtfiles)"
   ]
  },
  {
   "cell_type": "code",
   "execution_count": 30,
   "id": "205bc175",
   "metadata": {},
   "outputs": [],
   "source": [
    "presub_df = pd.DataFrame()\n",
    "presub_df['id'] = txtfiles\n",
    "presub_df['id'] = pd.to_numeric(presub_df['id'])\n",
    "presub_df['img'] = [TEST_IMG_PATH + str(id_) + '.Bmp' for id_ in presub_df['id'].values]\n",
    "presub_df.sort_values(by=['id'], inplace=True)\n",
    "presub_df.reset_index(inplace=True, drop=True)"
   ]
  },
  {
   "cell_type": "code",
   "execution_count": 31,
   "id": "a726592a",
   "metadata": {},
   "outputs": [
    {
     "data": {
      "text/html": [
       "<div>\n",
       "<style scoped>\n",
       "    .dataframe tbody tr th:only-of-type {\n",
       "        vertical-align: middle;\n",
       "    }\n",
       "\n",
       "    .dataframe tbody tr th {\n",
       "        vertical-align: top;\n",
       "    }\n",
       "\n",
       "    .dataframe thead th {\n",
       "        text-align: right;\n",
       "    }\n",
       "</style>\n",
       "<table border=\"1\" class=\"dataframe\">\n",
       "  <thead>\n",
       "    <tr style=\"text-align: right;\">\n",
       "      <th></th>\n",
       "      <th>id</th>\n",
       "      <th>img</th>\n",
       "    </tr>\n",
       "  </thead>\n",
       "  <tbody>\n",
       "    <tr>\n",
       "      <th>0</th>\n",
       "      <td>6284</td>\n",
       "      <td>./data/street-view-getting-started-with-julia/...</td>\n",
       "    </tr>\n",
       "    <tr>\n",
       "      <th>1</th>\n",
       "      <td>6285</td>\n",
       "      <td>./data/street-view-getting-started-with-julia/...</td>\n",
       "    </tr>\n",
       "    <tr>\n",
       "      <th>2</th>\n",
       "      <td>6286</td>\n",
       "      <td>./data/street-view-getting-started-with-julia/...</td>\n",
       "    </tr>\n",
       "    <tr>\n",
       "      <th>3</th>\n",
       "      <td>6287</td>\n",
       "      <td>./data/street-view-getting-started-with-julia/...</td>\n",
       "    </tr>\n",
       "    <tr>\n",
       "      <th>4</th>\n",
       "      <td>6288</td>\n",
       "      <td>./data/street-view-getting-started-with-julia/...</td>\n",
       "    </tr>\n",
       "    <tr>\n",
       "      <th>...</th>\n",
       "      <td>...</td>\n",
       "      <td>...</td>\n",
       "    </tr>\n",
       "    <tr>\n",
       "      <th>6215</th>\n",
       "      <td>12499</td>\n",
       "      <td>./data/street-view-getting-started-with-julia/...</td>\n",
       "    </tr>\n",
       "    <tr>\n",
       "      <th>6216</th>\n",
       "      <td>12500</td>\n",
       "      <td>./data/street-view-getting-started-with-julia/...</td>\n",
       "    </tr>\n",
       "    <tr>\n",
       "      <th>6217</th>\n",
       "      <td>12501</td>\n",
       "      <td>./data/street-view-getting-started-with-julia/...</td>\n",
       "    </tr>\n",
       "    <tr>\n",
       "      <th>6218</th>\n",
       "      <td>12502</td>\n",
       "      <td>./data/street-view-getting-started-with-julia/...</td>\n",
       "    </tr>\n",
       "    <tr>\n",
       "      <th>6219</th>\n",
       "      <td>12503</td>\n",
       "      <td>./data/street-view-getting-started-with-julia/...</td>\n",
       "    </tr>\n",
       "  </tbody>\n",
       "</table>\n",
       "<p>6220 rows × 2 columns</p>\n",
       "</div>"
      ],
      "text/plain": [
       "         id                                                img\n",
       "0      6284  ./data/street-view-getting-started-with-julia/...\n",
       "1      6285  ./data/street-view-getting-started-with-julia/...\n",
       "2      6286  ./data/street-view-getting-started-with-julia/...\n",
       "3      6287  ./data/street-view-getting-started-with-julia/...\n",
       "4      6288  ./data/street-view-getting-started-with-julia/...\n",
       "...     ...                                                ...\n",
       "6215  12499  ./data/street-view-getting-started-with-julia/...\n",
       "6216  12500  ./data/street-view-getting-started-with-julia/...\n",
       "6217  12501  ./data/street-view-getting-started-with-julia/...\n",
       "6218  12502  ./data/street-view-getting-started-with-julia/...\n",
       "6219  12503  ./data/street-view-getting-started-with-julia/...\n",
       "\n",
       "[6220 rows x 2 columns]"
      ]
     },
     "execution_count": 31,
     "metadata": {},
     "output_type": "execute_result"
    }
   ],
   "source": [
    "\n",
    "presub_df"
   ]
  },
  {
   "cell_type": "markdown",
   "id": "bb923e28",
   "metadata": {},
   "source": [
    "#### Check grey imgs"
   ]
  },
  {
   "cell_type": "code",
   "execution_count": 36,
   "id": "8f76f15c",
   "metadata": {},
   "outputs": [
    {
     "data": {
      "text/plain": [
       "[]"
      ]
     },
     "execution_count": 36,
     "metadata": {},
     "output_type": "execute_result"
    }
   ],
   "source": [
    "grey_imgs = check_grey_imgs(presub_df[['img']])\n",
    "grey_imgs"
   ]
  },
  {
   "cell_type": "code",
   "execution_count": 37,
   "id": "79493870",
   "metadata": {},
   "outputs": [],
   "source": [
    "#rewrite imgs\n",
    "for im in grey_imgs:\n",
    "    img_cnt = imread(im)\n",
    "    rgb_img_arr = cv2.cvtColor(img_cnt, cv2.COLOR_GRAY2RGB)\n",
    "    rgb_img = Image.fromarray(rgb_img_arr)\n",
    "    os.remove(im)\n",
    "    rgb_img.save(im)\n",
    "    \n",
    "   "
   ]
  },
  {
   "cell_type": "code",
   "execution_count": 38,
   "id": "4879c161",
   "metadata": {},
   "outputs": [
    {
     "data": {
      "text/plain": [
       "[]"
      ]
     },
     "execution_count": 38,
     "metadata": {},
     "output_type": "execute_result"
    }
   ],
   "source": [
    "check_grey_imgs(presub_df[['img']])"
   ]
  },
  {
   "cell_type": "code",
   "execution_count": 39,
   "id": "0ed7e167",
   "metadata": {},
   "outputs": [
    {
     "data": {
      "image/png": "[encoded data removed]",
      "text/plain": [
       "<Figure size 432x288 with 1 Axes>"
      ]
     },
     "metadata": {
      "needs_background": "light"
     },
     "output_type": "display_data"
    }
   ],
   "source": [
    "imshow('./data/street-view-getting-started-with-julia/testResized/7318.Bmp');"
   ]
  },
  {
   "cell_type": "code",
   "execution_count": 42,
   "id": "4719da45",
   "metadata": {},
   "outputs": [
    {
     "data": {
      "text/plain": [
       "(6220, 20, 20, 3)"
      ]
     },
     "execution_count": 42,
     "metadata": {},
     "output_type": "execute_result"
    }
   ],
   "source": [
    "X_sub = np.asarray([transform_image(i).tolist() for i in presub_df['img'].values])\n",
    "X_sub.shape"
   ]
  },
  {
   "cell_type": "code",
   "execution_count": null,
   "id": "0efe9c10",
   "metadata": {},
   "outputs": [],
   "source": []
  },
  {
   "cell_type": "markdown",
   "id": "ac196377",
   "metadata": {},
   "source": [
    "### Submit prediction"
   ]
  },
  {
   "cell_type": "code",
   "execution_count": null,
   "id": "4f044e73",
   "metadata": {},
   "outputs": [],
   "source": []
  },
  {
   "cell_type": "code",
   "execution_count": 137,
   "id": "65fbaa27",
   "metadata": {},
   "outputs": [
    {
     "data": {
      "text/plain": [
       "array([17, 14,  1, ..., 27, 23, 22], dtype=int64)"
      ]
     },
     "execution_count": 137,
     "metadata": {},
     "output_type": "execute_result"
    }
   ],
   "source": [
    "sub_predict = model.predict(X_sub)\n",
    "sub_labels = np.asarray([np.argmax(i) for i in sub_predict])\n",
    "sub_labels"
   ]
  },
  {
   "cell_type": "code",
   "execution_count": 138,
   "id": "9f7e08aa",
   "metadata": {},
   "outputs": [
    {
     "data": {
      "text/plain": [
       "array(['H', 'E', '1', ..., 'R', 'N', 'M'], dtype=object)"
      ]
     },
     "execution_count": 138,
     "metadata": {},
     "output_type": "execute_result"
    }
   ],
   "source": [
    "sub_labels_inv = label_enc.inverse_transform(sub_labels)\n",
    "sub_labels_inv"
   ]
  },
  {
   "cell_type": "code",
   "execution_count": 139,
   "id": "33b13f32",
   "metadata": {},
   "outputs": [],
   "source": [
    "def diplay(num):\n",
    "    print(sub_labels_inv[num])\n",
    "    imshow(X_sub[num])\n",
    "    plt.show()"
   ]
  },
  {
   "cell_type": "code",
   "execution_count": 140,
   "id": "238b6f9f",
   "metadata": {},
   "outputs": [
    {
     "name": "stdout",
     "output_type": "stream",
     "text": [
      "1\n"
     ]
    },
    {
     "data": {
      "image/png": "[encoded data removed]",
      "text/plain": [
       "<Figure size 432x288 with 1 Axes>"
      ]
     },
     "metadata": {
      "needs_background": "light"
     },
     "output_type": "display_data"
    }
   ],
   "source": [
    "diplay(2)"
   ]
  },
  {
   "cell_type": "markdown",
   "id": "e8974f95",
   "metadata": {},
   "source": [
    "### Create submission file\n"
   ]
  },
  {
   "cell_type": "code",
   "execution_count": 141,
   "id": "32ae7cf8",
   "metadata": {},
   "outputs": [
    {
     "data": {
      "text/html": [
       "<div>\n",
       "<style scoped>\n",
       "    .dataframe tbody tr th:only-of-type {\n",
       "        vertical-align: middle;\n",
       "    }\n",
       "\n",
       "    .dataframe tbody tr th {\n",
       "        vertical-align: top;\n",
       "    }\n",
       "\n",
       "    .dataframe thead th {\n",
       "        text-align: right;\n",
       "    }\n",
       "</style>\n",
       "<table border=\"1\" class=\"dataframe\">\n",
       "  <thead>\n",
       "    <tr style=\"text-align: right;\">\n",
       "      <th></th>\n",
       "      <th>Class</th>\n",
       "    </tr>\n",
       "    <tr>\n",
       "      <th>ID</th>\n",
       "      <th></th>\n",
       "    </tr>\n",
       "  </thead>\n",
       "  <tbody>\n",
       "    <tr>\n",
       "      <th>6284</th>\n",
       "      <td>H</td>\n",
       "    </tr>\n",
       "    <tr>\n",
       "      <th>6285</th>\n",
       "      <td>E</td>\n",
       "    </tr>\n",
       "    <tr>\n",
       "      <th>6286</th>\n",
       "      <td>1</td>\n",
       "    </tr>\n",
       "    <tr>\n",
       "      <th>6287</th>\n",
       "      <td>U</td>\n",
       "    </tr>\n",
       "    <tr>\n",
       "      <th>6288</th>\n",
       "      <td>T</td>\n",
       "    </tr>\n",
       "    <tr>\n",
       "      <th>...</th>\n",
       "      <td>...</td>\n",
       "    </tr>\n",
       "    <tr>\n",
       "      <th>12499</th>\n",
       "      <td>0</td>\n",
       "    </tr>\n",
       "    <tr>\n",
       "      <th>12500</th>\n",
       "      <td>o</td>\n",
       "    </tr>\n",
       "    <tr>\n",
       "      <th>12501</th>\n",
       "      <td>R</td>\n",
       "    </tr>\n",
       "    <tr>\n",
       "      <th>12502</th>\n",
       "      <td>N</td>\n",
       "    </tr>\n",
       "    <tr>\n",
       "      <th>12503</th>\n",
       "      <td>M</td>\n",
       "    </tr>\n",
       "  </tbody>\n",
       "</table>\n",
       "<p>6220 rows × 1 columns</p>\n",
       "</div>"
      ],
      "text/plain": [
       "      Class\n",
       "ID         \n",
       "6284      H\n",
       "6285      E\n",
       "6286      1\n",
       "6287      U\n",
       "6288      T\n",
       "...     ...\n",
       "12499     0\n",
       "12500     o\n",
       "12501     R\n",
       "12502     N\n",
       "12503     M\n",
       "\n",
       "[6220 rows x 1 columns]"
      ]
     },
     "execution_count": 141,
     "metadata": {},
     "output_type": "execute_result"
    }
   ],
   "source": [
    "sub_df = pd.DataFrame()\n",
    "sub_df['ID'] = presub_df['id']\n",
    "sub_df['Class'] = sub_labels_inv\n",
    "sub_df.set_index('ID', inplace=True)\n",
    "sub_df"
   ]
  },
  {
   "cell_type": "code",
   "execution_count": 142,
   "id": "93e931fb",
   "metadata": {},
   "outputs": [],
   "source": [
    "sub_df.to_csv('submission.csv')"
   ]
  },
  {
   "cell_type": "code",
   "execution_count": null,
   "id": "dec09d54",
   "metadata": {},
   "outputs": [],
   "source": []
  },
  {
   "cell_type": "code",
   "execution_count": null,
   "id": "342723de",
   "metadata": {},
   "outputs": [],
   "source": []
  },
  {
   "cell_type": "code",
   "execution_count": null,
   "id": "7a862c9f",
   "metadata": {},
   "outputs": [],
   "source": []
  },
  {
   "cell_type": "code",
   "execution_count": null,
   "id": "e193b440",
   "metadata": {},
   "outputs": [],
   "source": []
  },
  {
   "cell_type": "code",
   "execution_count": null,
   "id": "c1b315e1",
   "metadata": {},
   "outputs": [],
   "source": []
  },
  {
   "cell_type": "code",
   "execution_count": 99,
   "id": "89c00eec",
   "metadata": {},
   "outputs": [
    {
     "data": {
      "text/plain": [
       "18"
      ]
     },
     "execution_count": 99,
     "metadata": {},
     "output_type": "execute_result"
    }
   ],
   "source": [
    "idx = np.argmax(pred[2])\n",
    "idx"
   ]
  },
  {
   "cell_type": "code",
   "execution_count": 100,
   "id": "06c469d3",
   "metadata": {},
   "outputs": [
    {
     "data": {
      "text/plain": [
       "'I'"
      ]
     },
     "execution_count": 100,
     "metadata": {},
     "output_type": "execute_result"
    }
   ],
   "source": [
    "replaced_labels[idx]"
   ]
  },
  {
   "cell_type": "code",
   "execution_count": 101,
   "id": "43983589",
   "metadata": {},
   "outputs": [
    {
     "data": {
      "text/plain": [
       "<matplotlib.image.AxesImage at 0x1c90bc7a4c8>"
      ]
     },
     "execution_count": 101,
     "metadata": {},
     "output_type": "execute_result"
    },
    {
     "data": {
      "image/png": "[encoded data removed]",
      "text/plain": [
       "<Figure size 432x288 with 1 Axes>"
      ]
     },
     "metadata": {
      "needs_background": "light"
     },
     "output_type": "display_data"
    }
   ],
   "source": [
    "imshow(X_test_[2])"
   ]
  },
  {
   "cell_type": "code",
   "execution_count": null,
   "id": "268ec98b",
   "metadata": {},
   "outputs": [],
   "source": []
  },
  {
   "cell_type": "code",
   "execution_count": null,
   "id": "9ad3e268",
   "metadata": {},
   "outputs": [],
   "source": []
  },
  {
   "cell_type": "code",
   "execution_count": null,
   "id": "450092ec",
   "metadata": {},
   "outputs": [],
   "source": []
  },
  {
   "cell_type": "code",
   "execution_count": 15,
   "id": "44cff0ed",
   "metadata": {},
   "outputs": [
    {
     "data": {
      "text/plain": [
       "array([[[0.89803922, 0.85882353, 0.21176471],\n",
       "        [0.89411765, 0.84705882, 0.2       ],\n",
       "        [0.88235294, 0.85098039, 0.2       ],\n",
       "        ...,\n",
       "        [0.87058824, 0.83529412, 0.19607843],\n",
       "        [0.87843137, 0.84313725, 0.19607843],\n",
       "        [0.85882353, 0.82352941, 0.18431373]],\n",
       "\n",
       "       [[0.89411765, 0.85882353, 0.21176471],\n",
       "        [0.89411765, 0.85098039, 0.19607843],\n",
       "        [0.88235294, 0.85490196, 0.19607843],\n",
       "        ...,\n",
       "        [0.83529412, 0.81176471, 0.18039216],\n",
       "        [0.85490196, 0.82745098, 0.17647059],\n",
       "        [0.85098039, 0.81960784, 0.18823529]],\n",
       "\n",
       "       [[0.89019608, 0.85490196, 0.20392157],\n",
       "        [0.88235294, 0.83921569, 0.18039216],\n",
       "        [0.85490196, 0.82745098, 0.16862745],\n",
       "        ...,\n",
       "        [0.80392157, 0.78431373, 0.18039216],\n",
       "        [0.79215686, 0.77647059, 0.14509804],\n",
       "        [0.80392157, 0.77254902, 0.15686275]],\n",
       "\n",
       "       ...,\n",
       "\n",
       "       [[0.8745098 , 0.84313725, 0.21568627],\n",
       "        [0.85098039, 0.82745098, 0.21568627],\n",
       "        [0.82352941, 0.78431373, 0.16078431],\n",
       "        ...,\n",
       "        [0.77254902, 0.74901961, 0.17254902],\n",
       "        [0.78431373, 0.76078431, 0.15294118],\n",
       "        [0.79607843, 0.74509804, 0.15294118]],\n",
       "\n",
       "       [[0.88235294, 0.84705882, 0.21176471],\n",
       "        [0.85882353, 0.83137255, 0.20392157],\n",
       "        [0.85098039, 0.81568627, 0.18039216],\n",
       "        ...,\n",
       "        [0.82352941, 0.8       , 0.17647059],\n",
       "        [0.81960784, 0.79215686, 0.16470588],\n",
       "        [0.84313725, 0.79607843, 0.16078431]],\n",
       "\n",
       "       [[0.87843137, 0.84313725, 0.19607843],\n",
       "        [0.87843137, 0.84705882, 0.20784314],\n",
       "        [0.88627451, 0.85490196, 0.21960784],\n",
       "        ...,\n",
       "        [0.88235294, 0.85098039, 0.21176471],\n",
       "        [0.8627451 , 0.83529412, 0.18039216],\n",
       "        [0.85098039, 0.81960784, 0.16078431]]])"
      ]
     },
     "execution_count": 15,
     "metadata": {},
     "output_type": "execute_result"
    }
   ],
   "source": [
    "X_train_[0]"
   ]
  },
  {
   "cell_type": "code",
   "execution_count": 20,
   "id": "221b5328",
   "metadata": {},
   "outputs": [
    {
     "data": {
      "text/plain": [
       "<matplotlib.image.AxesImage at 0x13fb3afbdc8>"
      ]
     },
     "execution_count": 20,
     "metadata": {},
     "output_type": "execute_result"
    },
    {
     "data": {
      "image/png": "[encoded data removed]",
      "text/plain": [
       "<Figure size 432x288 with 1 Axes>"
      ]
     },
     "metadata": {
      "needs_background": "light"
     },
     "output_type": "display_data"
    }
   ],
   "source": [
    "imshow(X_train_[0])"
   ]
  },
  {
   "cell_type": "code",
   "execution_count": 22,
   "id": "34d935be",
   "metadata": {},
   "outputs": [
    {
     "data": {
      "text/html": [
       "<div>\n",
       "<style scoped>\n",
       "    .dataframe tbody tr th:only-of-type {\n",
       "        vertical-align: middle;\n",
       "    }\n",
       "\n",
       "    .dataframe tbody tr th {\n",
       "        vertical-align: top;\n",
       "    }\n",
       "\n",
       "    .dataframe thead th {\n",
       "        text-align: right;\n",
       "    }\n",
       "</style>\n",
       "<table border=\"1\" class=\"dataframe\">\n",
       "  <thead>\n",
       "    <tr style=\"text-align: right;\">\n",
       "      <th></th>\n",
       "      <th>Label</th>\n",
       "    </tr>\n",
       "  </thead>\n",
       "  <tbody>\n",
       "    <tr>\n",
       "      <th>3577</th>\n",
       "      <td>22</td>\n",
       "    </tr>\n",
       "    <tr>\n",
       "      <th>2493</th>\n",
       "      <td>42</td>\n",
       "    </tr>\n",
       "    <tr>\n",
       "      <th>5007</th>\n",
       "      <td>46</td>\n",
       "    </tr>\n",
       "    <tr>\n",
       "      <th>12833</th>\n",
       "      <td>39</td>\n",
       "    </tr>\n",
       "    <tr>\n",
       "      <th>15953</th>\n",
       "      <td>24</td>\n",
       "    </tr>\n",
       "    <tr>\n",
       "      <th>...</th>\n",
       "      <td>...</td>\n",
       "    </tr>\n",
       "    <tr>\n",
       "      <th>11284</th>\n",
       "      <td>61</td>\n",
       "    </tr>\n",
       "    <tr>\n",
       "      <th>11964</th>\n",
       "      <td>36</td>\n",
       "    </tr>\n",
       "    <tr>\n",
       "      <th>5390</th>\n",
       "      <td>61</td>\n",
       "    </tr>\n",
       "    <tr>\n",
       "      <th>860</th>\n",
       "      <td>16</td>\n",
       "    </tr>\n",
       "    <tr>\n",
       "      <th>15795</th>\n",
       "      <td>42</td>\n",
       "    </tr>\n",
       "  </tbody>\n",
       "</table>\n",
       "<p>14993 rows × 1 columns</p>\n",
       "</div>"
      ],
      "text/plain": [
       "       Label\n",
       "3577      22\n",
       "2493      42\n",
       "5007      46\n",
       "12833     39\n",
       "15953     24\n",
       "...      ...\n",
       "11284     61\n",
       "11964     36\n",
       "5390      61\n",
       "860       16\n",
       "15795     42\n",
       "\n",
       "[14993 rows x 1 columns]"
      ]
     },
     "execution_count": 22,
     "metadata": {},
     "output_type": "execute_result"
    }
   ],
   "source": [
    "y_train"
   ]
  },
  {
   "cell_type": "code",
   "execution_count": null,
   "id": "5a64a38d",
   "metadata": {},
   "outputs": [],
   "source": []
  },
  {
   "cell_type": "code",
   "execution_count": null,
   "id": "6777a02f",
   "metadata": {},
   "outputs": [],
   "source": []
  },
  {
   "cell_type": "code",
   "execution_count": null,
   "id": "1b959397",
   "metadata": {},
   "outputs": [],
   "source": []
  },
  {
   "cell_type": "code",
   "execution_count": null,
   "id": "32a14547",
   "metadata": {},
   "outputs": [],
   "source": []
  },
  {
   "cell_type": "markdown",
   "id": "3ee9248b",
   "metadata": {},
   "source": [
    "## Test"
   ]
  },
  {
   "cell_type": "code",
   "execution_count": 195,
   "id": "8d5bee70",
   "metadata": {},
   "outputs": [],
   "source": [
    "img_='./data/street-view-getting-started-with-julia/trainResized/3559.Bmp'"
   ]
  },
  {
   "cell_type": "code",
   "execution_count": 196,
   "id": "ebc0942b",
   "metadata": {},
   "outputs": [],
   "source": [
    "def display_image(id_):\n",
    "    sample_img = TRAIN_IMG_PATH + str(id_) + '.Bmp'\n",
    "    img= imread(sample_img)\n",
    "    imshow(img);\n",
    "    "
   ]
  },
  {
   "cell_type": "code",
   "execution_count": 197,
   "id": "24f20ab8",
   "metadata": {},
   "outputs": [
    {
     "data": {
      "image/png": "[encoded data removed]",
      "text/plain": [
       "<Figure size 432x288 with 1 Axes>"
      ]
     },
     "metadata": {
      "needs_background": "light"
     },
     "output_type": "display_data"
    }
   ],
   "source": [
    "display_image(3559)"
   ]
  },
  {
   "cell_type": "code",
   "execution_count": 198,
   "id": "a341ce9c",
   "metadata": {},
   "outputs": [
    {
     "data": {
      "text/plain": [
       "array([[101,  99, 100,  98, 101, 101, 101, 100, 100, 103, 100, 101, 100,\n",
       "        100, 100, 101,  97,  97, 100,  98],\n",
       "       [103, 105, 105, 101,  99, 204, 192, 198, 200, 190, 194, 189, 199,\n",
       "        191, 125, 108, 102, 101, 103, 103],\n",
       "       [105, 107,  93, 197, 196, 196, 190, 199, 197, 203, 199, 199, 198,\n",
       "        202, 195, 192, 103, 105, 109, 106],\n",
       "       [109, 111, 208, 201, 200, 203, 196, 200, 201, 203, 204, 200, 201,\n",
       "        204, 199, 203, 201,  97, 103, 108],\n",
       "       [115, 136, 197, 203, 206, 206, 200, 205, 200, 199, 206, 203, 204,\n",
       "        203, 202, 191, 194, 177, 113, 111],\n",
       "       [119, 188, 202, 206, 206, 207, 208, 202, 135, 121, 115, 208, 204,\n",
       "        206, 204, 207, 198, 210, 122, 115],\n",
       "       [118, 200, 209, 211, 206, 204, 204, 209, 120, 121, 120, 210, 207,\n",
       "        208, 206, 204, 207, 214, 116, 119],\n",
       "       [121, 208, 213, 207, 218, 208, 210, 208, 122, 122, 122, 213, 208,\n",
       "        204, 211, 211, 210, 208, 122, 121],\n",
       "       [122, 194, 212, 212, 214, 220, 210, 210, 123, 121, 118, 211, 205,\n",
       "        202, 211, 209, 211, 207, 122, 121],\n",
       "       [123, 198, 213, 214, 207, 216, 214, 206, 129, 119, 119, 217, 207,\n",
       "        211, 214, 210, 200, 213, 122, 124],\n",
       "       [122, 186, 210, 211, 212, 212, 213, 210, 129, 123, 123, 219, 211,\n",
       "        213, 202, 219, 211, 220, 122, 123],\n",
       "       [121, 183, 214, 213, 204, 212, 204, 210, 117, 120, 120, 218, 205,\n",
       "        215, 212, 211, 216, 214, 119, 121],\n",
       "       [121, 192, 205, 206, 210, 202, 212, 214, 127, 118, 127, 214, 213,\n",
       "        206, 214, 205, 210, 207, 119, 123],\n",
       "       [123, 180, 209, 213, 209, 217, 213, 214, 128, 121, 125, 218, 209,\n",
       "        206, 215, 207, 209, 214, 120, 123],\n",
       "       [123, 137, 206, 206, 210, 210, 202, 205, 176, 122, 124, 209, 210,\n",
       "        206, 206, 209, 212, 205, 118, 123],\n",
       "       [122, 117, 209, 210, 210, 210, 206, 204, 213, 209, 215, 207, 210,\n",
       "        206, 210, 210, 212, 209, 126, 123],\n",
       "       [118, 122, 174, 204, 213, 214, 209, 214, 211, 211, 224, 211, 209,\n",
       "        213, 210, 213, 207, 120, 118, 124],\n",
       "       [121, 120, 118, 148, 218, 219, 204, 209, 216, 212, 211, 209, 205,\n",
       "        209, 203, 215, 117, 124, 122, 121],\n",
       "       [124, 120, 121, 120, 121, 121, 124, 200, 212, 222, 214, 211, 204,\n",
       "        116, 112, 119, 119, 123, 119, 119],\n",
       "       [125, 120, 119, 120, 123, 120, 120, 121, 121, 122, 120, 122, 123,\n",
       "        124, 123, 127, 122, 123, 121, 122]], dtype=uint8)"
      ]
     },
     "execution_count": 198,
     "metadata": {},
     "output_type": "execute_result"
    }
   ],
   "source": [
    "imread(img_)"
   ]
  },
  {
   "cell_type": "code",
   "execution_count": 155,
   "id": "c533c113",
   "metadata": {},
   "outputs": [
    {
     "data": {
      "text/plain": [
       "array([[[0.64313725, 0.17647059, 0.06666667],\n",
       "        [0.67058824, 0.25882353, 0.09411765],\n",
       "        [0.82352941, 0.48627451, 0.27058824],\n",
       "        ...,\n",
       "        [0.73333333, 0.52156863, 0.24705882],\n",
       "        [0.7372549 , 0.5254902 , 0.25098039],\n",
       "        [0.71764706, 0.50980392, 0.23529412]],\n",
       "\n",
       "       [[0.63529412, 0.2       , 0.07843137],\n",
       "        [0.74509804, 0.38039216, 0.19215686],\n",
       "        [0.83921569, 0.54509804, 0.30588235],\n",
       "        ...,\n",
       "        [0.73333333, 0.52941176, 0.23529412],\n",
       "        [0.73333333, 0.52941176, 0.24313725],\n",
       "        [0.70588235, 0.50588235, 0.21176471]],\n",
       "\n",
       "       [[0.7254902 , 0.34509804, 0.15686275],\n",
       "        [0.83529412, 0.53333333, 0.28235294],\n",
       "        [0.78039216, 0.52941176, 0.23529412],\n",
       "        ...,\n",
       "        [0.70588235, 0.50196078, 0.23529412],\n",
       "        [0.72941176, 0.53333333, 0.2627451 ],\n",
       "        [0.71372549, 0.5254902 , 0.24705882]],\n",
       "\n",
       "       ...,\n",
       "\n",
       "       [[0.74509804, 0.5372549 , 0.24313725],\n",
       "        [0.74117647, 0.52156863, 0.24705882],\n",
       "        [0.72156863, 0.50588235, 0.23921569],\n",
       "        ...,\n",
       "        [0.6627451 , 0.50588235, 0.34117647],\n",
       "        [0.59607843, 0.46666667, 0.36470588],\n",
       "        [0.50980392, 0.41960784, 0.38431373]],\n",
       "\n",
       "       [[0.72941176, 0.52156863, 0.22745098],\n",
       "        [0.72941176, 0.5254902 , 0.22352941],\n",
       "        [0.71764706, 0.51764706, 0.22352941],\n",
       "        ...,\n",
       "        [0.71372549, 0.5254902 , 0.29803922],\n",
       "        [0.69019608, 0.5254902 , 0.34509804],\n",
       "        [0.63529412, 0.49411765, 0.35686275]],\n",
       "\n",
       "       [[0.74509804, 0.52941176, 0.22745098],\n",
       "        [0.74901961, 0.53333333, 0.21960784],\n",
       "        [0.75294118, 0.5372549 , 0.21960784],\n",
       "        ...,\n",
       "        [0.74117647, 0.53333333, 0.26666667],\n",
       "        [0.7372549 , 0.54117647, 0.30588235],\n",
       "        [0.69803922, 0.51764706, 0.30980392]]])"
      ]
     },
     "execution_count": 155,
     "metadata": {},
     "output_type": "execute_result"
    }
   ],
   "source": [
    "transform_image(img_)"
   ]
  },
  {
   "cell_type": "code",
   "execution_count": 103,
   "id": "d5c9cf0b",
   "metadata": {},
   "outputs": [],
   "source": [
    "img_cnt = tf.io.read_file(img_)\n"
   ]
  },
  {
   "cell_type": "code",
   "execution_count": 104,
   "id": "25164a37",
   "metadata": {},
   "outputs": [
    {
     "ename": "InvalidArgumentError",
     "evalue": "channels attribute 3 does not match bits per pixel from file 1 [Op:DecodeBmp]",
     "output_type": "error",
     "traceback": [
      "\u001b[1;31m---------------------------------------------------------------------------\u001b[0m",
      "\u001b[1;31mInvalidArgumentError\u001b[0m                      Traceback (most recent call last)",
      "\u001b[1;32m<ipython-input-104-bf1b802bf51a>\u001b[0m in \u001b[0;36m<module>\u001b[1;34m\u001b[0m\n\u001b[1;32m----> 1\u001b[1;33m \u001b[0mimg_cnt\u001b[0m \u001b[1;33m=\u001b[0m \u001b[0mtf\u001b[0m\u001b[1;33m.\u001b[0m\u001b[0mio\u001b[0m\u001b[1;33m.\u001b[0m\u001b[0mdecode_bmp\u001b[0m\u001b[1;33m(\u001b[0m\u001b[0mimg_cnt\u001b[0m\u001b[1;33m,\u001b[0m \u001b[0mchannels\u001b[0m\u001b[1;33m=\u001b[0m\u001b[1;36m3\u001b[0m\u001b[1;33m)\u001b[0m\u001b[1;33m.\u001b[0m\u001b[0mnumpy\u001b[0m\u001b[1;33m(\u001b[0m\u001b[1;33m)\u001b[0m\u001b[1;33m.\u001b[0m\u001b[0mastype\u001b[0m\u001b[1;33m(\u001b[0m\u001b[0mfloat\u001b[0m\u001b[1;33m)\u001b[0m\u001b[1;33m\u001b[0m\u001b[1;33m\u001b[0m\u001b[0m\n\u001b[0m",
      "\u001b[1;32m~\\anaconda3\\envs\\kaggleenv\\lib\\site-packages\\tensorflow_core\\python\\ops\\gen_image_ops.py\u001b[0m in \u001b[0;36mdecode_bmp\u001b[1;34m(contents, channels, name)\u001b[0m\n\u001b[0;32m    896\u001b[0m         \u001b[1;32mpass\u001b[0m  \u001b[1;31m# Add nodes to the TensorFlow graph.\u001b[0m\u001b[1;33m\u001b[0m\u001b[1;33m\u001b[0m\u001b[0m\n\u001b[0;32m    897\u001b[0m     \u001b[1;32mexcept\u001b[0m \u001b[0m_core\u001b[0m\u001b[1;33m.\u001b[0m\u001b[0m_NotOkStatusException\u001b[0m \u001b[1;32mas\u001b[0m \u001b[0me\u001b[0m\u001b[1;33m:\u001b[0m\u001b[1;33m\u001b[0m\u001b[1;33m\u001b[0m\u001b[0m\n\u001b[1;32m--> 898\u001b[1;33m       \u001b[0m_ops\u001b[0m\u001b[1;33m.\u001b[0m\u001b[0mraise_from_not_ok_status\u001b[0m\u001b[1;33m(\u001b[0m\u001b[0me\u001b[0m\u001b[1;33m,\u001b[0m \u001b[0mname\u001b[0m\u001b[1;33m)\u001b[0m\u001b[1;33m\u001b[0m\u001b[1;33m\u001b[0m\u001b[0m\n\u001b[0m\u001b[0;32m    899\u001b[0m   \u001b[1;31m# Add nodes to the TensorFlow graph.\u001b[0m\u001b[1;33m\u001b[0m\u001b[1;33m\u001b[0m\u001b[1;33m\u001b[0m\u001b[0m\n\u001b[0;32m    900\u001b[0m   \u001b[1;32mif\u001b[0m \u001b[0mchannels\u001b[0m \u001b[1;32mis\u001b[0m \u001b[1;32mNone\u001b[0m\u001b[1;33m:\u001b[0m\u001b[1;33m\u001b[0m\u001b[1;33m\u001b[0m\u001b[0m\n",
      "\u001b[1;32m~\\anaconda3\\envs\\kaggleenv\\lib\\site-packages\\tensorflow_core\\python\\framework\\ops.py\u001b[0m in \u001b[0;36mraise_from_not_ok_status\u001b[1;34m(e, name)\u001b[0m\n\u001b[0;32m   6604\u001b[0m   \u001b[0mmessage\u001b[0m \u001b[1;33m=\u001b[0m \u001b[0me\u001b[0m\u001b[1;33m.\u001b[0m\u001b[0mmessage\u001b[0m \u001b[1;33m+\u001b[0m \u001b[1;33m(\u001b[0m\u001b[1;34m\" name: \"\u001b[0m \u001b[1;33m+\u001b[0m \u001b[0mname\u001b[0m \u001b[1;32mif\u001b[0m \u001b[0mname\u001b[0m \u001b[1;32mis\u001b[0m \u001b[1;32mnot\u001b[0m \u001b[1;32mNone\u001b[0m \u001b[1;32melse\u001b[0m \u001b[1;34m\"\"\u001b[0m\u001b[1;33m)\u001b[0m\u001b[1;33m\u001b[0m\u001b[1;33m\u001b[0m\u001b[0m\n\u001b[0;32m   6605\u001b[0m   \u001b[1;31m# pylint: disable=protected-access\u001b[0m\u001b[1;33m\u001b[0m\u001b[1;33m\u001b[0m\u001b[1;33m\u001b[0m\u001b[0m\n\u001b[1;32m-> 6606\u001b[1;33m   \u001b[0msix\u001b[0m\u001b[1;33m.\u001b[0m\u001b[0mraise_from\u001b[0m\u001b[1;33m(\u001b[0m\u001b[0mcore\u001b[0m\u001b[1;33m.\u001b[0m\u001b[0m_status_to_exception\u001b[0m\u001b[1;33m(\u001b[0m\u001b[0me\u001b[0m\u001b[1;33m.\u001b[0m\u001b[0mcode\u001b[0m\u001b[1;33m,\u001b[0m \u001b[0mmessage\u001b[0m\u001b[1;33m)\u001b[0m\u001b[1;33m,\u001b[0m \u001b[1;32mNone\u001b[0m\u001b[1;33m)\u001b[0m\u001b[1;33m\u001b[0m\u001b[1;33m\u001b[0m\u001b[0m\n\u001b[0m\u001b[0;32m   6607\u001b[0m   \u001b[1;31m# pylint: enable=protected-access\u001b[0m\u001b[1;33m\u001b[0m\u001b[1;33m\u001b[0m\u001b[1;33m\u001b[0m\u001b[0m\n\u001b[0;32m   6608\u001b[0m \u001b[1;33m\u001b[0m\u001b[0m\n",
      "\u001b[1;32m~\\anaconda3\\envs\\kaggleenv\\lib\\site-packages\\six.py\u001b[0m in \u001b[0;36mraise_from\u001b[1;34m(value, from_value)\u001b[0m\n",
      "\u001b[1;31mInvalidArgumentError\u001b[0m: channels attribute 3 does not match bits per pixel from file 1 [Op:DecodeBmp]"
     ]
    }
   ],
   "source": [
    "img_cnt = tf.io.decode_bmp(img_cnt, channels=3).numpy().astype(float)"
   ]
  },
  {
   "cell_type": "code",
   "execution_count": 67,
   "id": "3e114876",
   "metadata": {},
   "outputs": [
    {
     "data": {
      "text/plain": [
       "array([[[148.,  24.,  33.],\n",
       "        [152.,  25.,  31.],\n",
       "        [169.,  52.,  68.],\n",
       "        ...,\n",
       "        [152.,  20.,  30.],\n",
       "        [154.,  23.,  28.],\n",
       "        [151.,  26.,  30.]],\n",
       "\n",
       "       [[154.,  25.,  32.],\n",
       "        [152.,  27.,  33.],\n",
       "        [153.,  26.,  32.],\n",
       "        ...,\n",
       "        [151.,  27.,  33.],\n",
       "        [148.,  28.,  33.],\n",
       "        [153.,  28.,  34.]],\n",
       "\n",
       "       [[152.,  27.,  31.],\n",
       "        [155.,  26.,  32.],\n",
       "        [153.,  23.,  35.],\n",
       "        ...,\n",
       "        [154.,  30.,  33.],\n",
       "        [157.,  29.,  36.],\n",
       "        [154.,  29.,  33.]],\n",
       "\n",
       "       ...,\n",
       "\n",
       "       [[ 52.,  28.,  31.],\n",
       "        [105.,  22.,  22.],\n",
       "        [ 88.,  26.,  41.],\n",
       "        ...,\n",
       "        [ 54.,  22.,  30.],\n",
       "        [ 55.,  22.,  34.],\n",
       "        [150.,  32.,  29.]],\n",
       "\n",
       "       [[156.,  35.,  40.],\n",
       "        [156.,  34.,  32.],\n",
       "        [160.,  35.,  36.],\n",
       "        ...,\n",
       "        [153.,  30.,  29.],\n",
       "        [157.,  35.,  33.],\n",
       "        [155.,  30.,  28.]],\n",
       "\n",
       "       [[161.,  35.,  38.],\n",
       "        [161.,  31.,  35.],\n",
       "        [164.,  40.,  38.],\n",
       "        ...,\n",
       "        [159.,  33.,  34.],\n",
       "        [159.,  29.,  39.],\n",
       "        [158.,  34.,  36.]]])"
      ]
     },
     "execution_count": 67,
     "metadata": {},
     "output_type": "execute_result"
    }
   ],
   "source": [
    "img_cnt"
   ]
  },
  {
   "cell_type": "code",
   "execution_count": 18,
   "id": "3a0d9746",
   "metadata": {},
   "outputs": [
    {
     "data": {
      "text/plain": [
       "<matplotlib.image.AxesImage at 0x185863f9608>"
      ]
     },
     "execution_count": 18,
     "metadata": {},
     "output_type": "execute_result"
    },
    {
     "data": {
      "image/png": "[encoded data removed]",
      "text/plain": [
       "<Figure size 432x288 with 1 Axes>"
      ]
     },
     "metadata": {
      "needs_background": "light"
     },
     "output_type": "display_data"
    }
   ],
   "source": [
    "imshow(img_cnt.numpy())"
   ]
  },
  {
   "cell_type": "code",
   "execution_count": 19,
   "id": "9f7ccd75",
   "metadata": {},
   "outputs": [],
   "source": [
    "img_cnt_norm = img_cnt / 255"
   ]
  },
  {
   "cell_type": "code",
   "execution_count": 79,
   "id": "4b61fefb",
   "metadata": {},
   "outputs": [
    {
     "data": {
      "text/plain": [
       "<tf.Tensor: shape=(20, 20, 3), dtype=float32, numpy=\n",
       "array([[[0.5803922 , 0.09411765, 0.12941177],\n",
       "        [0.59607846, 0.09803922, 0.12156863],\n",
       "        [0.6627451 , 0.20392157, 0.26666668],\n",
       "        ...,\n",
       "        [0.59607846, 0.07843138, 0.11764706],\n",
       "        [0.6039216 , 0.09019608, 0.10980392],\n",
       "        [0.5921569 , 0.10196079, 0.11764706]],\n",
       "\n",
       "       [[0.6039216 , 0.09803922, 0.1254902 ],\n",
       "        [0.59607846, 0.10588235, 0.12941177],\n",
       "        [0.6       , 0.10196079, 0.1254902 ],\n",
       "        ...,\n",
       "        [0.5921569 , 0.10588235, 0.12941177],\n",
       "        [0.5803922 , 0.10980392, 0.12941177],\n",
       "        [0.6       , 0.10980392, 0.13333334]],\n",
       "\n",
       "       [[0.59607846, 0.10588235, 0.12156863],\n",
       "        [0.60784316, 0.10196079, 0.1254902 ],\n",
       "        [0.6       , 0.09019608, 0.13725491],\n",
       "        ...,\n",
       "        [0.6039216 , 0.11764706, 0.12941177],\n",
       "        [0.6156863 , 0.11372549, 0.14117648],\n",
       "        [0.6039216 , 0.11372549, 0.12941177]],\n",
       "\n",
       "       ...,\n",
       "\n",
       "       [[0.20392157, 0.10980392, 0.12156863],\n",
       "        [0.4117647 , 0.08627451, 0.08627451],\n",
       "        [0.34509805, 0.10196079, 0.16078432],\n",
       "        ...,\n",
       "        [0.21176471, 0.08627451, 0.11764706],\n",
       "        [0.21568628, 0.08627451, 0.13333334],\n",
       "        [0.5882353 , 0.1254902 , 0.11372549]],\n",
       "\n",
       "       [[0.6117647 , 0.13725491, 0.15686275],\n",
       "        [0.6117647 , 0.13333334, 0.1254902 ],\n",
       "        [0.627451  , 0.13725491, 0.14117648],\n",
       "        ...,\n",
       "        [0.6       , 0.11764706, 0.11372549],\n",
       "        [0.6156863 , 0.13725491, 0.12941177],\n",
       "        [0.60784316, 0.11764706, 0.10980392]],\n",
       "\n",
       "       [[0.6313726 , 0.13725491, 0.14901961],\n",
       "        [0.6313726 , 0.12156863, 0.13725491],\n",
       "        [0.6431373 , 0.15686275, 0.14901961],\n",
       "        ...,\n",
       "        [0.62352943, 0.12941177, 0.13333334],\n",
       "        [0.62352943, 0.11372549, 0.15294118],\n",
       "        [0.61960787, 0.13333334, 0.14117648]]], dtype=float32)>"
      ]
     },
     "execution_count": 79,
     "metadata": {},
     "output_type": "execute_result"
    }
   ],
   "source": [
    "img_cnt_norm"
   ]
  },
  {
   "cell_type": "code",
   "execution_count": 20,
   "id": "d26a159e",
   "metadata": {},
   "outputs": [
    {
     "data": {
      "text/plain": [
       "<matplotlib.image.AxesImage at 0x185864a0bc8>"
      ]
     },
     "execution_count": 20,
     "metadata": {},
     "output_type": "execute_result"
    },
    {
     "data": {
      "image/png": "[encoded data removed]",
      "text/plain": [
       "<Figure size 432x288 with 1 Axes>"
      ]
     },
     "metadata": {
      "needs_background": "light"
     },
     "output_type": "display_data"
    }
   ],
   "source": [
    "imshow(img_cnt_norm.numpy())"
   ]
  },
  {
   "cell_type": "code",
   "execution_count": 28,
   "id": "4a2c4941",
   "metadata": {},
   "outputs": [
    {
     "data": {
      "text/plain": [
       "array([[[0.5803922 , 0.09411765, 0.12941177],\n",
       "        [0.59607846, 0.09803922, 0.12156863],\n",
       "        [0.6627451 , 0.20392157, 0.26666668],\n",
       "        ...,\n",
       "        [0.59607846, 0.07843138, 0.11764706],\n",
       "        [0.6039216 , 0.09019608, 0.10980392],\n",
       "        [0.5921569 , 0.10196079, 0.11764706]],\n",
       "\n",
       "       [[0.6039216 , 0.09803922, 0.1254902 ],\n",
       "        [0.59607846, 0.10588235, 0.12941177],\n",
       "        [0.6       , 0.10196079, 0.1254902 ],\n",
       "        ...,\n",
       "        [0.5921569 , 0.10588235, 0.12941177],\n",
       "        [0.5803922 , 0.10980392, 0.12941177],\n",
       "        [0.6       , 0.10980392, 0.13333334]],\n",
       "\n",
       "       [[0.59607846, 0.10588235, 0.12156863],\n",
       "        [0.60784316, 0.10196079, 0.1254902 ],\n",
       "        [0.6       , 0.09019608, 0.13725491],\n",
       "        ...,\n",
       "        [0.6039216 , 0.11764706, 0.12941177],\n",
       "        [0.6156863 , 0.11372549, 0.14117648],\n",
       "        [0.6039216 , 0.11372549, 0.12941177]],\n",
       "\n",
       "       ...,\n",
       "\n",
       "       [[0.20392157, 0.10980392, 0.12156863],\n",
       "        [0.4117647 , 0.08627451, 0.08627451],\n",
       "        [0.34509805, 0.10196079, 0.16078432],\n",
       "        ...,\n",
       "        [0.21176471, 0.08627451, 0.11764706],\n",
       "        [0.21568628, 0.08627451, 0.13333334],\n",
       "        [0.5882353 , 0.1254902 , 0.11372549]],\n",
       "\n",
       "       [[0.6117647 , 0.13725491, 0.15686275],\n",
       "        [0.6117647 , 0.13333334, 0.1254902 ],\n",
       "        [0.627451  , 0.13725491, 0.14117648],\n",
       "        ...,\n",
       "        [0.6       , 0.11764706, 0.11372549],\n",
       "        [0.6156863 , 0.13725491, 0.12941177],\n",
       "        [0.60784316, 0.11764706, 0.10980392]],\n",
       "\n",
       "       [[0.6313726 , 0.13725491, 0.14901961],\n",
       "        [0.6313726 , 0.12156863, 0.13725491],\n",
       "        [0.6431373 , 0.15686275, 0.14901961],\n",
       "        ...,\n",
       "        [0.62352943, 0.12941177, 0.13333334],\n",
       "        [0.62352943, 0.11372549, 0.15294118],\n",
       "        [0.61960787, 0.13333334, 0.14117648]]], dtype=float32)"
      ]
     },
     "execution_count": 28,
     "metadata": {},
     "output_type": "execute_result"
    }
   ],
   "source": [
    "img_cnt_norm.numpy()"
   ]
  },
  {
   "cell_type": "code",
   "execution_count": 29,
   "id": "ad70808c",
   "metadata": {},
   "outputs": [
    {
     "data": {
      "text/plain": [
       "<tf.Tensor: shape=(), dtype=int32, numpy=7>"
      ]
     },
     "execution_count": 29,
     "metadata": {},
     "output_type": "execute_result"
    }
   ],
   "source": [
    "label = tf.constant(7)\n",
    "label"
   ]
  },
  {
   "cell_type": "code",
   "execution_count": 30,
   "id": "4586d4fc",
   "metadata": {},
   "outputs": [
    {
     "ename": "ValueError",
     "evalue": "Value tf.Tensor(7, shape=(), dtype=int32) has insufficient rank for batching.",
     "output_type": "error",
     "traceback": [
      "\u001b[1;31m---------------------------------------------------------------------------\u001b[0m",
      "\u001b[1;31mValueError\u001b[0m                                Traceback (most recent call last)",
      "\u001b[1;32m<ipython-input-30-a227edc2202e>\u001b[0m in \u001b[0;36m<module>\u001b[1;34m\u001b[0m\n\u001b[1;32m----> 1\u001b[1;33m \u001b[0mdataset\u001b[0m \u001b[1;33m=\u001b[0m  \u001b[0mtf\u001b[0m\u001b[1;33m.\u001b[0m\u001b[0mdata\u001b[0m\u001b[1;33m.\u001b[0m\u001b[0mDataset\u001b[0m\u001b[1;33m.\u001b[0m\u001b[0mfrom_tensor_slices\u001b[0m\u001b[1;33m(\u001b[0m\u001b[1;33m(\u001b[0m\u001b[0mimg_cnt_norm\u001b[0m\u001b[1;33m,\u001b[0m \u001b[0mlabel\u001b[0m\u001b[1;33m)\u001b[0m\u001b[1;33m)\u001b[0m\u001b[1;33m\u001b[0m\u001b[1;33m\u001b[0m\u001b[0m\n\u001b[0m\u001b[0;32m      2\u001b[0m \u001b[0mdataset\u001b[0m\u001b[1;33m\u001b[0m\u001b[1;33m\u001b[0m\u001b[0m\n",
      "\u001b[1;32m~\\anaconda3\\envs\\kaggleenv\\lib\\site-packages\\tensorflow_core\\python\\data\\ops\\dataset_ops.py\u001b[0m in \u001b[0;36mfrom_tensor_slices\u001b[1;34m(tensors)\u001b[0m\n\u001b[0;32m    642\u001b[0m       \u001b[0mDataset\u001b[0m\u001b[1;33m:\u001b[0m \u001b[0mA\u001b[0m\u001b[0;31m \u001b[0m\u001b[0;31m`\u001b[0m\u001b[0mDataset\u001b[0m\u001b[0;31m`\u001b[0m\u001b[1;33m.\u001b[0m\u001b[1;33m\u001b[0m\u001b[1;33m\u001b[0m\u001b[0m\n\u001b[0;32m    643\u001b[0m     \"\"\"\n\u001b[1;32m--> 644\u001b[1;33m     \u001b[1;32mreturn\u001b[0m \u001b[0mTensorSliceDataset\u001b[0m\u001b[1;33m(\u001b[0m\u001b[0mtensors\u001b[0m\u001b[1;33m)\u001b[0m\u001b[1;33m\u001b[0m\u001b[1;33m\u001b[0m\u001b[0m\n\u001b[0m\u001b[0;32m    645\u001b[0m \u001b[1;33m\u001b[0m\u001b[0m\n\u001b[0;32m    646\u001b[0m   \u001b[1;32mclass\u001b[0m \u001b[0m_GeneratorState\u001b[0m\u001b[1;33m(\u001b[0m\u001b[0mobject\u001b[0m\u001b[1;33m)\u001b[0m\u001b[1;33m:\u001b[0m\u001b[1;33m\u001b[0m\u001b[1;33m\u001b[0m\u001b[0m\n",
      "\u001b[1;32m~\\anaconda3\\envs\\kaggleenv\\lib\\site-packages\\tensorflow_core\\python\\data\\ops\\dataset_ops.py\u001b[0m in \u001b[0;36m__init__\u001b[1;34m(self, element)\u001b[0m\n\u001b[0;32m   2784\u001b[0m     \u001b[0melement\u001b[0m \u001b[1;33m=\u001b[0m \u001b[0mstructure\u001b[0m\u001b[1;33m.\u001b[0m\u001b[0mnormalize_element\u001b[0m\u001b[1;33m(\u001b[0m\u001b[0melement\u001b[0m\u001b[1;33m)\u001b[0m\u001b[1;33m\u001b[0m\u001b[1;33m\u001b[0m\u001b[0m\n\u001b[0;32m   2785\u001b[0m     \u001b[0mbatched_spec\u001b[0m \u001b[1;33m=\u001b[0m \u001b[0mstructure\u001b[0m\u001b[1;33m.\u001b[0m\u001b[0mtype_spec_from_value\u001b[0m\u001b[1;33m(\u001b[0m\u001b[0melement\u001b[0m\u001b[1;33m)\u001b[0m\u001b[1;33m\u001b[0m\u001b[1;33m\u001b[0m\u001b[0m\n\u001b[1;32m-> 2786\u001b[1;33m     \u001b[0mself\u001b[0m\u001b[1;33m.\u001b[0m\u001b[0m_tensors\u001b[0m \u001b[1;33m=\u001b[0m \u001b[0mstructure\u001b[0m\u001b[1;33m.\u001b[0m\u001b[0mto_batched_tensor_list\u001b[0m\u001b[1;33m(\u001b[0m\u001b[0mbatched_spec\u001b[0m\u001b[1;33m,\u001b[0m \u001b[0melement\u001b[0m\u001b[1;33m)\u001b[0m\u001b[1;33m\u001b[0m\u001b[1;33m\u001b[0m\u001b[0m\n\u001b[0m\u001b[0;32m   2787\u001b[0m     self._structure = nest.map_structure(\n\u001b[0;32m   2788\u001b[0m         lambda component_spec: component_spec._unbatch(), batched_spec)  # pylint: disable=protected-access\n",
      "\u001b[1;32m~\\anaconda3\\envs\\kaggleenv\\lib\\site-packages\\tensorflow_core\\python\\data\\util\\structure.py\u001b[0m in \u001b[0;36mto_batched_tensor_list\u001b[1;34m(element_spec, element)\u001b[0m\n\u001b[0;32m    348\u001b[0m   return _to_tensor_list_helper(\n\u001b[0;32m    349\u001b[0m       lambda state, spec, component: state + spec._to_batched_tensor_list(\n\u001b[1;32m--> 350\u001b[1;33m           component), element_spec, element)\n\u001b[0m\u001b[0;32m    351\u001b[0m \u001b[1;33m\u001b[0m\u001b[0m\n\u001b[0;32m    352\u001b[0m \u001b[1;33m\u001b[0m\u001b[0m\n",
      "\u001b[1;32m~\\anaconda3\\envs\\kaggleenv\\lib\\site-packages\\tensorflow_core\\python\\data\\util\\structure.py\u001b[0m in \u001b[0;36m_to_tensor_list_helper\u001b[1;34m(encode_fn, element_spec, element)\u001b[0m\n\u001b[0;32m    322\u001b[0m \u001b[1;33m\u001b[0m\u001b[0m\n\u001b[0;32m    323\u001b[0m   return functools.reduce(\n\u001b[1;32m--> 324\u001b[1;33m       reduce_fn, zip(nest.flatten(element_spec), nest.flatten(element)), [])\n\u001b[0m\u001b[0;32m    325\u001b[0m \u001b[1;33m\u001b[0m\u001b[0m\n\u001b[0;32m    326\u001b[0m \u001b[1;33m\u001b[0m\u001b[0m\n",
      "\u001b[1;32m~\\anaconda3\\envs\\kaggleenv\\lib\\site-packages\\tensorflow_core\\python\\data\\util\\structure.py\u001b[0m in \u001b[0;36mreduce_fn\u001b[1;34m(state, value)\u001b[0m\n\u001b[0;32m    319\u001b[0m   \u001b[1;32mdef\u001b[0m \u001b[0mreduce_fn\u001b[0m\u001b[1;33m(\u001b[0m\u001b[0mstate\u001b[0m\u001b[1;33m,\u001b[0m \u001b[0mvalue\u001b[0m\u001b[1;33m)\u001b[0m\u001b[1;33m:\u001b[0m\u001b[1;33m\u001b[0m\u001b[1;33m\u001b[0m\u001b[0m\n\u001b[0;32m    320\u001b[0m     \u001b[0mspec\u001b[0m\u001b[1;33m,\u001b[0m \u001b[0mcomponent\u001b[0m \u001b[1;33m=\u001b[0m \u001b[0mvalue\u001b[0m\u001b[1;33m\u001b[0m\u001b[1;33m\u001b[0m\u001b[0m\n\u001b[1;32m--> 321\u001b[1;33m     \u001b[1;32mreturn\u001b[0m \u001b[0mencode_fn\u001b[0m\u001b[1;33m(\u001b[0m\u001b[0mstate\u001b[0m\u001b[1;33m,\u001b[0m \u001b[0mspec\u001b[0m\u001b[1;33m,\u001b[0m \u001b[0mcomponent\u001b[0m\u001b[1;33m)\u001b[0m\u001b[1;33m\u001b[0m\u001b[1;33m\u001b[0m\u001b[0m\n\u001b[0m\u001b[0;32m    322\u001b[0m \u001b[1;33m\u001b[0m\u001b[0m\n\u001b[0;32m    323\u001b[0m   return functools.reduce(\n",
      "\u001b[1;32m~\\anaconda3\\envs\\kaggleenv\\lib\\site-packages\\tensorflow_core\\python\\data\\util\\structure.py\u001b[0m in \u001b[0;36m<lambda>\u001b[1;34m(state, spec, component)\u001b[0m\n\u001b[0;32m    348\u001b[0m   return _to_tensor_list_helper(\n\u001b[0;32m    349\u001b[0m       lambda state, spec, component: state + spec._to_batched_tensor_list(\n\u001b[1;32m--> 350\u001b[1;33m           component), element_spec, element)\n\u001b[0m\u001b[0;32m    351\u001b[0m \u001b[1;33m\u001b[0m\u001b[0m\n\u001b[0;32m    352\u001b[0m \u001b[1;33m\u001b[0m\u001b[0m\n",
      "\u001b[1;32m~\\anaconda3\\envs\\kaggleenv\\lib\\site-packages\\tensorflow_core\\python\\framework\\type_spec.py\u001b[0m in \u001b[0;36m_to_batched_tensor_list\u001b[1;34m(self, value)\u001b[0m\n\u001b[0;32m    460\u001b[0m     \u001b[0mtensor_list\u001b[0m \u001b[1;33m=\u001b[0m \u001b[0mself\u001b[0m\u001b[1;33m.\u001b[0m\u001b[0m_to_tensor_list\u001b[0m\u001b[1;33m(\u001b[0m\u001b[0mvalue\u001b[0m\u001b[1;33m)\u001b[0m\u001b[1;33m\u001b[0m\u001b[1;33m\u001b[0m\u001b[0m\n\u001b[0;32m    461\u001b[0m     \u001b[1;32mif\u001b[0m \u001b[0many\u001b[0m\u001b[1;33m(\u001b[0m\u001b[0mt\u001b[0m\u001b[1;33m.\u001b[0m\u001b[0mshape\u001b[0m\u001b[1;33m.\u001b[0m\u001b[0mndims\u001b[0m \u001b[1;33m==\u001b[0m \u001b[1;36m0\u001b[0m \u001b[1;32mfor\u001b[0m \u001b[0mt\u001b[0m \u001b[1;32min\u001b[0m \u001b[0mtensor_list\u001b[0m\u001b[1;33m)\u001b[0m\u001b[1;33m:\u001b[0m\u001b[1;33m\u001b[0m\u001b[1;33m\u001b[0m\u001b[0m\n\u001b[1;32m--> 462\u001b[1;33m       \u001b[1;32mraise\u001b[0m \u001b[0mValueError\u001b[0m\u001b[1;33m(\u001b[0m\u001b[1;34m\"Value %s has insufficient rank for batching.\"\u001b[0m \u001b[1;33m%\u001b[0m \u001b[0mvalue\u001b[0m\u001b[1;33m)\u001b[0m\u001b[1;33m\u001b[0m\u001b[1;33m\u001b[0m\u001b[0m\n\u001b[0m\u001b[0;32m    463\u001b[0m     \u001b[1;32mreturn\u001b[0m \u001b[0mtensor_list\u001b[0m\u001b[1;33m\u001b[0m\u001b[1;33m\u001b[0m\u001b[0m\n\u001b[0;32m    464\u001b[0m \u001b[1;33m\u001b[0m\u001b[0m\n",
      "\u001b[1;31mValueError\u001b[0m: Value tf.Tensor(7, shape=(), dtype=int32) has insufficient rank for batching."
     ]
    }
   ],
   "source": [
    "dataset =  tf.data.Dataset.from_tensor_slices((img_cnt_norm, label))\n",
    "dataset"
   ]
  }
 ],
 "metadata": {
  "kernelspec": {
   "display_name": "Python 3 (ipykernel)",
   "language": "python",
   "name": "python3"
  },
  "language_info": {
   "codemirror_mode": {
    "name": "ipython",
    "version": 3
   },
   "file_extension": ".py",
   "mimetype": "text/x-python",
   "name": "python",
   "nbconvert_exporter": "python",
   "pygments_lexer": "ipython3",
   "version": "3.7.9"
  }
 },
 "nbformat": 4,
 "nbformat_minor": 5
}
