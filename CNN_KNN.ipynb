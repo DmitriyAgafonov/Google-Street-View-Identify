{
 "cells": [
  {
   "cell_type": "code",
   "execution_count": 37,
   "id": "0f005614",
   "metadata": {},
   "outputs": [],
   "source": [
    "#load packages\n",
    "#%matplotlib inline\n",
    "\n",
    "import numpy as np\n",
    "import pandas as pd\n",
    "\n",
    "from sklearn.preprocessing import LabelEncoder\n",
    "from sklearn.metrics import confusion_matrix, classification_report\n",
    "from sklearn.svm import SVC\n",
    "from sklearn.model_selection import StratifiedKFold\n",
    "from sklearn.model_selection import GridSearchCV\n",
    "from sklearn.neighbors import KNeighborsClassifier\n",
    "\n",
    "\n",
    "from skimage.io import imread, imshow\n",
    "\n",
    "from tensorflow import keras\n",
    "from tensorflow.keras import layers\n",
    "from tensorflow.keras.models import Sequential, Model\n",
    "\n",
    "from tensorflow.keras.losses import SparseCategoricalCrossentropy\n",
    "\n",
    "\n",
    "import matplotlib.pyplot as plt\n",
    "import seaborn as sns\n",
    "\n",
    "import glob\n",
    "\n",
    "from ipynb.fs.defs.CNN import check_grey_imgs, transform_image"
   ]
  },
  {
   "cell_type": "code",
   "execution_count": 2,
   "id": "576fabf8",
   "metadata": {},
   "outputs": [],
   "source": [
    "#path to data\n",
    "\n",
    "TRAIN_LABELS_PATH = './data/street-view-getting-started-with-julia/TrainLabelsExtended.csv'\n",
    "TRAIN_IMG_PATH = './data/street-view-getting-started-with-julia/trainResized/'\n",
    "TEST_IMG_PATH = './data/street-view-getting-started-with-julia/testResized/'"
   ]
  },
  {
   "cell_type": "code",
   "execution_count": 3,
   "id": "da9178f4",
   "metadata": {},
   "outputs": [],
   "source": [
    "train_df = pd.read_csv(TRAIN_LABELS_PATH)"
   ]
  },
  {
   "cell_type": "code",
   "execution_count": null,
   "id": "e10f8310",
   "metadata": {},
   "outputs": [],
   "source": []
  },
  {
   "cell_type": "markdown",
   "id": "71046143",
   "metadata": {},
   "source": [
    "### Label Encoding"
   ]
  },
  {
   "cell_type": "code",
   "execution_count": 4,
   "id": "83e0d644",
   "metadata": {},
   "outputs": [],
   "source": [
    "train_df_enc = train_df.copy()"
   ]
  },
  {
   "cell_type": "code",
   "execution_count": 5,
   "id": "52ef29e7",
   "metadata": {},
   "outputs": [
    {
     "data": {
      "text/html": [
       "<div>\n",
       "<style scoped>\n",
       "    .dataframe tbody tr th:only-of-type {\n",
       "        vertical-align: middle;\n",
       "    }\n",
       "\n",
       "    .dataframe tbody tr th {\n",
       "        vertical-align: top;\n",
       "    }\n",
       "\n",
       "    .dataframe thead th {\n",
       "        text-align: right;\n",
       "    }\n",
       "</style>\n",
       "<table border=\"1\" class=\"dataframe\">\n",
       "  <thead>\n",
       "    <tr style=\"text-align: right;\">\n",
       "      <th></th>\n",
       "      <th>ID</th>\n",
       "      <th>Class</th>\n",
       "      <th>Label</th>\n",
       "    </tr>\n",
       "  </thead>\n",
       "  <tbody>\n",
       "    <tr>\n",
       "      <th>0</th>\n",
       "      <td>5944</td>\n",
       "      <td>H</td>\n",
       "      <td>17</td>\n",
       "    </tr>\n",
       "    <tr>\n",
       "      <th>1</th>\n",
       "      <td>11109</td>\n",
       "      <td>Y</td>\n",
       "      <td>34</td>\n",
       "    </tr>\n",
       "    <tr>\n",
       "      <th>2</th>\n",
       "      <td>11177</td>\n",
       "      <td>Y</td>\n",
       "      <td>34</td>\n",
       "    </tr>\n",
       "    <tr>\n",
       "      <th>3</th>\n",
       "      <td>1380</td>\n",
       "      <td>I</td>\n",
       "      <td>18</td>\n",
       "    </tr>\n",
       "    <tr>\n",
       "      <th>4</th>\n",
       "      <td>9773</td>\n",
       "      <td>F</td>\n",
       "      <td>15</td>\n",
       "    </tr>\n",
       "    <tr>\n",
       "      <th>...</th>\n",
       "      <td>...</td>\n",
       "      <td>...</td>\n",
       "      <td>...</td>\n",
       "    </tr>\n",
       "    <tr>\n",
       "      <th>18737</th>\n",
       "      <td>10112</td>\n",
       "      <td>K</td>\n",
       "      <td>20</td>\n",
       "    </tr>\n",
       "    <tr>\n",
       "      <th>18738</th>\n",
       "      <td>4076</td>\n",
       "      <td>S</td>\n",
       "      <td>28</td>\n",
       "    </tr>\n",
       "    <tr>\n",
       "      <th>18739</th>\n",
       "      <td>2999</td>\n",
       "      <td>S</td>\n",
       "      <td>28</td>\n",
       "    </tr>\n",
       "    <tr>\n",
       "      <th>18740</th>\n",
       "      <td>5404</td>\n",
       "      <td>h</td>\n",
       "      <td>43</td>\n",
       "    </tr>\n",
       "    <tr>\n",
       "      <th>18741</th>\n",
       "      <td>4203</td>\n",
       "      <td>o</td>\n",
       "      <td>50</td>\n",
       "    </tr>\n",
       "  </tbody>\n",
       "</table>\n",
       "<p>18742 rows × 3 columns</p>\n",
       "</div>"
      ],
      "text/plain": [
       "          ID Class  Label\n",
       "0       5944     H     17\n",
       "1      11109     Y     34\n",
       "2      11177     Y     34\n",
       "3       1380     I     18\n",
       "4       9773     F     15\n",
       "...      ...   ...    ...\n",
       "18737  10112     K     20\n",
       "18738   4076     S     28\n",
       "18739   2999     S     28\n",
       "18740   5404     h     43\n",
       "18741   4203     o     50\n",
       "\n",
       "[18742 rows x 3 columns]"
      ]
     },
     "execution_count": 5,
     "metadata": {},
     "output_type": "execute_result"
    }
   ],
   "source": [
    "label_enc = LabelEncoder()\n",
    "train_df_enc['Label'] = label_enc.fit_transform(train_df_enc['Class'])\n",
    "train_df_enc"
   ]
  },
  {
   "cell_type": "code",
   "execution_count": 6,
   "id": "e3e1fff2",
   "metadata": {},
   "outputs": [],
   "source": [
    "replaced_labels = dict(enumerate(label_enc.classes_))\n",
    "# replaced_labels"
   ]
  },
  {
   "cell_type": "code",
   "execution_count": null,
   "id": "7bed141d",
   "metadata": {},
   "outputs": [],
   "source": []
  },
  {
   "cell_type": "markdown",
   "id": "6e1efd99",
   "metadata": {},
   "source": [
    "### Load transformed data"
   ]
  },
  {
   "cell_type": "code",
   "execution_count": 7,
   "id": "c08828da",
   "metadata": {},
   "outputs": [
    {
     "data": {
      "text/plain": [
       "['X_train_', 'X_test_', 'y_train_', 'y_test_']"
      ]
     },
     "execution_count": 7,
     "metadata": {},
     "output_type": "execute_result"
    }
   ],
   "source": [
    "transformed_data = np.load('transformed_data.npz')\n",
    "transformed_data.files"
   ]
  },
  {
   "cell_type": "code",
   "execution_count": 8,
   "id": "238f8379",
   "metadata": {},
   "outputs": [],
   "source": [
    "X_train_ = transformed_data[transformed_data.files[0]] \n",
    "X_test_ = transformed_data[transformed_data.files[1]]\n",
    "y_train_ = transformed_data[transformed_data.files[2]].flatten()\n",
    "y_test_ = transformed_data[transformed_data.files[3]].flatten()"
   ]
  },
  {
   "cell_type": "code",
   "execution_count": null,
   "id": "e082e156",
   "metadata": {},
   "outputs": [],
   "source": []
  },
  {
   "cell_type": "markdown",
   "id": "f2a0bd56",
   "metadata": {},
   "source": [
    "### CNN model"
   ]
  },
  {
   "cell_type": "code",
   "execution_count": 12,
   "id": "d75ccc31",
   "metadata": {},
   "outputs": [
    {
     "data": {
      "text/plain": [
       "62"
      ]
     },
     "execution_count": 12,
     "metadata": {},
     "output_type": "execute_result"
    }
   ],
   "source": [
    "num_classes = len(np.unique(y_train_))\n",
    "num_classes"
   ]
  },
  {
   "cell_type": "code",
   "execution_count": 123,
   "id": "e7bf98d5",
   "metadata": {},
   "outputs": [],
   "source": [
    "model = Sequential([\n",
    "    layers.Conv2D(20, (3, 3), padding= 'same', activation='relu', input_shape=(20, 20, 3)),\n",
    "    layers.BatchNormalization(),\n",
    "    layers.Conv2D(20, (3, 3), padding= 'same', activation='relu'),\n",
    "    layers.BatchNormalization(),\n",
    "    layers.MaxPooling2D((2, 2)),\n",
    "    layers.Dropout(0.2),\n",
    "    layers.Conv2D(32, (3, 3), padding= 'same', activation='relu'),\n",
    "    layers.BatchNormalization(),\n",
    "#     layers.Conv2D(32, (3, 3), padding= 'same', activation='relu'),\n",
    "#     layers.BatchNormalization(),\n",
    "    layers.MaxPooling2D((2, 2)),\n",
    "    layers.Dropout(0.2),\n",
    "    layers.Conv2D(64, (3, 3), padding= 'same', activation='relu'),\n",
    "#     layers.Conv2D(64, (3, 3), padding= 'same', activation='relu'),\n",
    "    layers.BatchNormalization(),\n",
    "#     layers.Conv2D(64, (3, 3), padding= 'same', activation='relu'),\n",
    "    layers.MaxPooling2D((2, 2), name='feature_layer'),\n",
    "    layers.Dropout(0.2),\n",
    "#     layers.Conv2D(128, (3, 3), padding= 'same', activation='relu'),\n",
    "#     layers.Conv2D(128, (3, 3), padding= 'same', activation='relu'),\n",
    "#     layers.MaxPooling2D((2, 2)),\n",
    "    layers.Flatten(name='feature_layer2'),\n",
    "    layers.Dense(128, activation='relu'),\n",
    "    layers.BatchNormalization(),\n",
    "#     layers.Dropout(0.2),\n",
    "    layers.Dense(num_classes)\n",
    "])"
   ]
  },
  {
   "cell_type": "code",
   "execution_count": 124,
   "id": "1183d883",
   "metadata": {},
   "outputs": [],
   "source": [
    "model.compile(optimizer='adam',\n",
    "              loss=SparseCategoricalCrossentropy(from_logits=True),\n",
    "              metrics=['accuracy', 'categorical_accuracy'])"
   ]
  },
  {
   "cell_type": "code",
   "execution_count": 125,
   "id": "038f554e",
   "metadata": {},
   "outputs": [
    {
     "name": "stdout",
     "output_type": "stream",
     "text": [
      "Model: \"sequential_7\"\n",
      "_________________________________________________________________\n",
      "Layer (type)                 Output Shape              Param #   \n",
      "=================================================================\n",
      "conv2d_23 (Conv2D)           (None, 20, 20, 20)        560       \n",
      "_________________________________________________________________\n",
      "batch_normalization_15 (Batc (None, 20, 20, 20)        80        \n",
      "_________________________________________________________________\n",
      "conv2d_24 (Conv2D)           (None, 20, 20, 20)        3620      \n",
      "_________________________________________________________________\n",
      "batch_normalization_16 (Batc (None, 20, 20, 20)        80        \n",
      "_________________________________________________________________\n",
      "max_pooling2d_14 (MaxPooling (None, 10, 10, 20)        0         \n",
      "_________________________________________________________________\n",
      "dropout_7 (Dropout)          (None, 10, 10, 20)        0         \n",
      "_________________________________________________________________\n",
      "conv2d_25 (Conv2D)           (None, 10, 10, 32)        5792      \n",
      "_________________________________________________________________\n",
      "batch_normalization_17 (Batc (None, 10, 10, 32)        128       \n",
      "_________________________________________________________________\n",
      "max_pooling2d_15 (MaxPooling (None, 5, 5, 32)          0         \n",
      "_________________________________________________________________\n",
      "dropout_8 (Dropout)          (None, 5, 5, 32)          0         \n",
      "_________________________________________________________________\n",
      "conv2d_26 (Conv2D)           (None, 5, 5, 64)          18496     \n",
      "_________________________________________________________________\n",
      "batch_normalization_18 (Batc (None, 5, 5, 64)          256       \n",
      "_________________________________________________________________\n",
      "feature_layer (MaxPooling2D) (None, 2, 2, 64)          0         \n",
      "_________________________________________________________________\n",
      "dropout_9 (Dropout)          (None, 2, 2, 64)          0         \n",
      "_________________________________________________________________\n",
      "feature_layer2 (Flatten)     (None, 256)               0         \n",
      "_________________________________________________________________\n",
      "dense_14 (Dense)             (None, 128)               32896     \n",
      "_________________________________________________________________\n",
      "batch_normalization_19 (Batc (None, 128)               512       \n",
      "_________________________________________________________________\n",
      "dense_15 (Dense)             (None, 62)                7998      \n",
      "=================================================================\n",
      "Total params: 70,418\n",
      "Trainable params: 69,890\n",
      "Non-trainable params: 528\n",
      "_________________________________________________________________\n"
     ]
    }
   ],
   "source": [
    "model.summary()"
   ]
  },
  {
   "cell_type": "code",
   "execution_count": 126,
   "id": "dc811eff",
   "metadata": {},
   "outputs": [
    {
     "name": "stdout",
     "output_type": "stream",
     "text": [
      "Train on 14993 samples, validate on 3749 samples\n",
      "Epoch 1/12\n",
      "14993/14993 [==============================] - 34s 2ms/sample - loss: 3.7459 - accuracy: 0.1231 - categorical_accuracy: 0.0185 - val_loss: 2.7751 - val_accuracy: 0.3228 - val_categorical_accuracy: 0.0405\n",
      "Epoch 2/12\n",
      "14993/14993 [==============================] - 31s 2ms/sample - loss: 1.9593 - accuracy: 0.4890 - categorical_accuracy: 0.0183 - val_loss: 1.3248 - val_accuracy: 0.6660 - val_categorical_accuracy: 0.0120\n",
      "Epoch 3/12\n",
      "14993/14993 [==============================] - 33s 2ms/sample - loss: 1.2718 - accuracy: 0.6508 - categorical_accuracy: 0.0166 - val_loss: 0.8953 - val_accuracy: 0.7650 - val_categorical_accuracy: 0.0157\n",
      "Epoch 4/12\n",
      "14993/14993 [==============================] - 33s 2ms/sample - loss: 0.9887 - accuracy: 0.7233 - categorical_accuracy: 0.0167 - val_loss: 0.7130 - val_accuracy: 0.8037 - val_categorical_accuracy: 0.0192\n",
      "Epoch 5/12\n",
      "14993/14993 [==============================] - 31s 2ms/sample - loss: 0.8195 - accuracy: 0.7646 - categorical_accuracy: 0.0161 - val_loss: 0.6037 - val_accuracy: 0.8314 - val_categorical_accuracy: 0.0203\n",
      "Epoch 6/12\n",
      "14993/14993 [==============================] - 32s 2ms/sample - loss: 0.7160 - accuracy: 0.7928 - categorical_accuracy: 0.0164 - val_loss: 0.5158 - val_accuracy: 0.8589 - val_categorical_accuracy: 0.0125\n",
      "Epoch 7/12\n",
      "14993/14993 [==============================] - 31s 2ms/sample - loss: 0.6322 - accuracy: 0.8134 - categorical_accuracy: 0.0170 - val_loss: 0.4618 - val_accuracy: 0.8717 - val_categorical_accuracy: 0.0192\n",
      "Epoch 8/12\n",
      "14993/14993 [==============================] - 32s 2ms/sample - loss: 0.5734 - accuracy: 0.8275 - categorical_accuracy: 0.0163 - val_loss: 0.4290 - val_accuracy: 0.8800 - val_categorical_accuracy: 0.0227\n",
      "Epoch 9/12\n",
      "14993/14993 [==============================] - 32s 2ms/sample - loss: 0.5168 - accuracy: 0.8450 - categorical_accuracy: 0.0166 - val_loss: 0.4053 - val_accuracy: 0.8906 - val_categorical_accuracy: 0.0229\n",
      "Epoch 10/12\n",
      "14993/14993 [==============================] - 32s 2ms/sample - loss: 0.4939 - accuracy: 0.8521 - categorical_accuracy: 0.0166 - val_loss: 0.4765 - val_accuracy: 0.8768 - val_categorical_accuracy: 0.0219\n",
      "Epoch 11/12\n",
      "14993/14993 [==============================] - 31s 2ms/sample - loss: 0.4497 - accuracy: 0.8614 - categorical_accuracy: 0.0172 - val_loss: 0.3915 - val_accuracy: 0.8960 - val_categorical_accuracy: 0.0205\n",
      "Epoch 12/12\n",
      "14993/14993 [==============================] - 31s 2ms/sample - loss: 0.4272 - accuracy: 0.8682 - categorical_accuracy: 0.0162 - val_loss: 0.3703 - val_accuracy: 0.8946 - val_categorical_accuracy: 0.0293\n"
     ]
    }
   ],
   "source": [
    "history = model.fit(X_train_, y_train_, epochs=12,# batch_size=64,\n",
    "                    validation_data=(X_test_, y_test_))"
   ]
  },
  {
   "cell_type": "code",
   "execution_count": null,
   "id": "b086a65d",
   "metadata": {},
   "outputs": [],
   "source": []
  },
  {
   "cell_type": "code",
   "execution_count": null,
   "id": "7b55750c",
   "metadata": {},
   "outputs": [],
   "source": []
  },
  {
   "cell_type": "markdown",
   "id": "ae42df18",
   "metadata": {},
   "source": [
    "#### Evaluate model"
   ]
  },
  {
   "cell_type": "code",
   "execution_count": 127,
   "id": "24978c6c",
   "metadata": {},
   "outputs": [
    {
     "data": {
      "text/plain": [
       "<matplotlib.legend.Legend at 0x2ba9d22bdc8>"
      ]
     },
     "execution_count": 127,
     "metadata": {},
     "output_type": "execute_result"
    },
    {
     "data": {
      "image/png": "[encoded data removed]",
      "text/plain": [
       "<Figure size 432x288 with 1 Axes>"
      ]
     },
     "metadata": {
      "needs_background": "light"
     },
     "output_type": "display_data"
    }
   ],
   "source": [
    "plt.plot(history.history['accuracy'], label='accuracy')\n",
    "plt.plot(history.history['val_accuracy'], label='val_accuracy')\n",
    "plt.plot(history.history['categorical_accuracy'], label='categorical_accuracy')\n",
    "plt.plot(history.history['val_categorical_accuracy'], label = 'val_categorical_accuracy')\n",
    "plt.xlabel('Epoch')\n",
    "plt.ylabel('Accuracy')\n",
    "plt.ylim([0, 1])\n",
    "plt.legend(loc='lower right')"
   ]
  },
  {
   "cell_type": "code",
   "execution_count": 128,
   "id": "4dfc8a3e",
   "metadata": {},
   "outputs": [
    {
     "data": {
      "image/png": "[encoded data removed]",
      "text/plain": [
       "<Figure size 432x288 with 1 Axes>"
      ]
     },
     "metadata": {
      "needs_background": "light"
     },
     "output_type": "display_data"
    }
   ],
   "source": [
    "plt.plot(history.history['loss'], label='loss')\n",
    "plt.plot(history.history['val_loss'], label = 'val_loss')\n",
    "plt.xlabel('Epoch')\n",
    "plt.ylabel('Loss')\n",
    "plt.ylim([0, 5])\n",
    "plt.legend(loc='upper right')\n",
    "plt.show()"
   ]
  },
  {
   "cell_type": "code",
   "execution_count": 129,
   "id": "2365e037",
   "metadata": {},
   "outputs": [
    {
     "name": "stdout",
     "output_type": "stream",
     "text": [
      "3749/3749 - 1s - loss: 0.3703 - accuracy: 0.8946 - categorical_accuracy: 0.0293\n"
     ]
    },
    {
     "data": {
      "text/plain": [
       "0.8946386"
      ]
     },
     "execution_count": 129,
     "metadata": {},
     "output_type": "execute_result"
    }
   ],
   "source": [
    "test_loss, test_acc, _ = model.evaluate(X_test_, y_test_,  verbose=2)\n",
    "test_acc"
   ]
  },
  {
   "cell_type": "code",
   "execution_count": null,
   "id": "285208ea",
   "metadata": {},
   "outputs": [],
   "source": []
  },
  {
   "cell_type": "markdown",
   "id": "b2c6289c",
   "metadata": {},
   "source": [
    "#### Make predictions"
   ]
  },
  {
   "cell_type": "code",
   "execution_count": 130,
   "id": "bf8b7451",
   "metadata": {},
   "outputs": [
    {
     "data": {
      "text/plain": [
       "(3749, 62)"
      ]
     },
     "execution_count": 130,
     "metadata": {},
     "output_type": "execute_result"
    }
   ],
   "source": [
    "pred = model.predict(X_test_)\n",
    "pred.shape"
   ]
  },
  {
   "cell_type": "code",
   "execution_count": 131,
   "id": "b7228eb0",
   "metadata": {},
   "outputs": [],
   "source": [
    "pred_labels = np.asarray([np.argmax(i) for i in pred])"
   ]
  },
  {
   "cell_type": "code",
   "execution_count": null,
   "id": "2ef9daf7",
   "metadata": {},
   "outputs": [],
   "source": []
  },
  {
   "cell_type": "markdown",
   "id": "7af15c47",
   "metadata": {},
   "source": [
    "#### Invert labels"
   ]
  },
  {
   "cell_type": "code",
   "execution_count": 132,
   "id": "e66663ad",
   "metadata": {},
   "outputs": [],
   "source": [
    "y_test_inv = label_enc.inverse_transform(y_test_)\n",
    "pred_labels_inv = label_enc.inverse_transform(pred_labels)"
   ]
  },
  {
   "cell_type": "code",
   "execution_count": 133,
   "id": "8e302203",
   "metadata": {},
   "outputs": [
    {
     "name": "stdout",
     "output_type": "stream",
     "text": [
      "              precision    recall  f1-score   support\n",
      "\n",
      "           0       0.50      0.96      0.66        57\n",
      "           1       0.90      0.90      0.90        41\n",
      "           2       0.98      0.93      0.95        55\n",
      "           3       1.00      1.00      1.00        65\n",
      "           4       0.97      1.00      0.98        64\n",
      "           5       1.00      0.98      0.99        64\n",
      "           6       1.00      0.98      0.99        56\n",
      "           7       0.98      1.00      0.99        59\n",
      "           8       0.98      1.00      0.99        61\n",
      "           9       0.98      0.98      0.98        52\n",
      "           A       0.83      0.89      0.86        70\n",
      "           B       0.86      0.98      0.91        44\n",
      "           C       0.81      0.79      0.80        56\n",
      "           D       0.90      0.92      0.91        62\n",
      "           E       0.95      0.81      0.87        68\n",
      "           F       0.84      1.00      0.92        49\n",
      "           G       0.96      0.82      0.88        61\n",
      "           H       0.89      0.89      0.89        56\n",
      "           I       0.56      0.59      0.58        69\n",
      "           J       0.98      0.95      0.96        57\n",
      "           K       0.95      0.91      0.93        44\n",
      "           L       0.94      0.95      0.94        62\n",
      "           M       0.86      0.96      0.91        70\n",
      "           N       0.94      0.84      0.89        61\n",
      "           O       0.52      0.26      0.35        57\n",
      "           P       0.89      0.94      0.92        52\n",
      "           Q       0.93      1.00      0.97        69\n",
      "           R       0.91      0.80      0.85        61\n",
      "           S       0.70      0.60      0.65        58\n",
      "           T       0.97      0.86      0.91        71\n",
      "           U       0.90      0.95      0.93        59\n",
      "           V       0.85      0.89      0.87        70\n",
      "           W       0.85      0.93      0.89        56\n",
      "           X       0.96      0.96      0.96        70\n",
      "           Y       0.96      0.94      0.95        71\n",
      "           Z       0.89      1.00      0.94        51\n",
      "           a       0.88      0.77      0.82        69\n",
      "           b       0.95      1.00      0.97        52\n",
      "           c       0.75      0.87      0.80        54\n",
      "           d       0.95      0.97      0.96        61\n",
      "           e       0.96      0.77      0.86        71\n",
      "           f       0.97      0.97      0.97        66\n",
      "           g       0.98      0.98      0.98        63\n",
      "           h       0.98      0.98      0.98        61\n",
      "           i       0.87      0.79      0.83        57\n",
      "           j       0.97      1.00      0.98        60\n",
      "           k       0.93      1.00      0.96        63\n",
      "           l       0.85      0.77      0.81        75\n",
      "           m       0.87      1.00      0.93        60\n",
      "           n       0.95      0.89      0.92        66\n",
      "           o       0.72      0.47      0.57        62\n",
      "           p       0.97      0.98      0.98        61\n",
      "           q       0.95      0.98      0.97        63\n",
      "           r       0.91      0.83      0.87        64\n",
      "           s       0.73      0.82      0.77        56\n",
      "           t       0.93      0.90      0.92        61\n",
      "           u       0.92      0.96      0.94        57\n",
      "           v       0.92      0.88      0.90        68\n",
      "           w       0.98      0.92      0.95        59\n",
      "           x       0.90      0.98      0.94        55\n",
      "           y       0.97      1.00      0.98        60\n",
      "           z       0.93      0.93      0.93        57\n",
      "\n",
      "    accuracy                           0.89      3749\n",
      "   macro avg       0.90      0.90      0.89      3749\n",
      "weighted avg       0.90      0.89      0.89      3749\n",
      "\n"
     ]
    }
   ],
   "source": [
    "print(classification_report(y_test_inv, pred_labels_inv))"
   ]
  },
  {
   "cell_type": "code",
   "execution_count": 134,
   "id": "210b39ef",
   "metadata": {},
   "outputs": [
    {
     "data": {
      "text/html": [
       "<div>\n",
       "<style scoped>\n",
       "    .dataframe tbody tr th:only-of-type {\n",
       "        vertical-align: middle;\n",
       "    }\n",
       "\n",
       "    .dataframe tbody tr th {\n",
       "        vertical-align: top;\n",
       "    }\n",
       "\n",
       "    .dataframe thead th {\n",
       "        text-align: right;\n",
       "    }\n",
       "</style>\n",
       "<table border=\"1\" class=\"dataframe\">\n",
       "  <thead>\n",
       "    <tr style=\"text-align: right;\">\n",
       "      <th></th>\n",
       "      <th>y_test</th>\n",
       "      <th>predicted</th>\n",
       "    </tr>\n",
       "  </thead>\n",
       "  <tbody>\n",
       "    <tr>\n",
       "      <th>0</th>\n",
       "      <td>X</td>\n",
       "      <td>X</td>\n",
       "    </tr>\n",
       "    <tr>\n",
       "      <th>1</th>\n",
       "      <td>p</td>\n",
       "      <td>p</td>\n",
       "    </tr>\n",
       "    <tr>\n",
       "      <th>2</th>\n",
       "      <td>l</td>\n",
       "      <td>l</td>\n",
       "    </tr>\n",
       "    <tr>\n",
       "      <th>3</th>\n",
       "      <td>G</td>\n",
       "      <td>c</td>\n",
       "    </tr>\n",
       "    <tr>\n",
       "      <th>4</th>\n",
       "      <td>p</td>\n",
       "      <td>p</td>\n",
       "    </tr>\n",
       "    <tr>\n",
       "      <th>...</th>\n",
       "      <td>...</td>\n",
       "      <td>...</td>\n",
       "    </tr>\n",
       "    <tr>\n",
       "      <th>3744</th>\n",
       "      <td>l</td>\n",
       "      <td>l</td>\n",
       "    </tr>\n",
       "    <tr>\n",
       "      <th>3745</th>\n",
       "      <td>s</td>\n",
       "      <td>s</td>\n",
       "    </tr>\n",
       "    <tr>\n",
       "      <th>3746</th>\n",
       "      <td>r</td>\n",
       "      <td>r</td>\n",
       "    </tr>\n",
       "    <tr>\n",
       "      <th>3747</th>\n",
       "      <td>t</td>\n",
       "      <td>t</td>\n",
       "    </tr>\n",
       "    <tr>\n",
       "      <th>3748</th>\n",
       "      <td>W</td>\n",
       "      <td>W</td>\n",
       "    </tr>\n",
       "  </tbody>\n",
       "</table>\n",
       "<p>3749 rows × 2 columns</p>\n",
       "</div>"
      ],
      "text/plain": [
       "     y_test predicted\n",
       "0         X         X\n",
       "1         p         p\n",
       "2         l         l\n",
       "3         G         c\n",
       "4         p         p\n",
       "...     ...       ...\n",
       "3744      l         l\n",
       "3745      s         s\n",
       "3746      r         r\n",
       "3747      t         t\n",
       "3748      W         W\n",
       "\n",
       "[3749 rows x 2 columns]"
      ]
     },
     "execution_count": 134,
     "metadata": {},
     "output_type": "execute_result"
    }
   ],
   "source": [
    "result_df = pd.DataFrame()\n",
    "result_df['y_test'] = y_test_inv\n",
    "result_df['predicted'] = pred_labels_inv\n",
    "result_df"
   ]
  },
  {
   "cell_type": "code",
   "execution_count": 135,
   "id": "949a3767",
   "metadata": {},
   "outputs": [],
   "source": [
    "def check_and_plot(num):\n",
    "    print(result_df.loc[num])\n",
    "    imshow(X_test_[num])\n",
    "    plt.show()"
   ]
  },
  {
   "cell_type": "code",
   "execution_count": 136,
   "id": "2c9ce024",
   "metadata": {},
   "outputs": [
    {
     "name": "stdout",
     "output_type": "stream",
     "text": [
      "y_test       G\n",
      "predicted    c\n",
      "Name: 3, dtype: object\n"
     ]
    },
    {
     "data": {
      "image/png": "[encoded data removed]",
      "text/plain": [
       "<Figure size 432x288 with 1 Axes>"
      ]
     },
     "metadata": {
      "needs_background": "light"
     },
     "output_type": "display_data"
    }
   ],
   "source": [
    "check_and_plot(3)"
   ]
  },
  {
   "attachments": {
    "image.png": {
     "image/png": "[encoded data removed]"
    }
   },
   "cell_type": "markdown",
   "id": "df0ac096",
   "metadata": {},
   "source": [
    "![image.png](attachment:image.png)"
   ]
  },
  {
   "cell_type": "code",
   "execution_count": 137,
   "id": "9eec868e",
   "metadata": {},
   "outputs": [
    {
     "data": {
      "text/plain": [
       "0.8946385702854095"
      ]
     },
     "execution_count": 137,
     "metadata": {},
     "output_type": "execute_result"
    }
   ],
   "source": [
    "class_accuracy = (result_df['y_test'] == result_df['predicted']).sum() / len(result_df)\n",
    "class_accuracy"
   ]
  },
  {
   "cell_type": "code",
   "execution_count": null,
   "id": "e1430a5e",
   "metadata": {},
   "outputs": [],
   "source": []
  },
  {
   "cell_type": "markdown",
   "id": "45e678b7",
   "metadata": {},
   "source": [
    "### Extract features"
   ]
  },
  {
   "cell_type": "code",
   "execution_count": 138,
   "id": "f2b76399",
   "metadata": {},
   "outputs": [],
   "source": [
    "# new_model = Model(inputs = model.input, outputs = model.get_layer('feature_layer').output)"
   ]
  },
  {
   "cell_type": "code",
   "execution_count": 139,
   "id": "fb21698a",
   "metadata": {},
   "outputs": [],
   "source": [
    "# train_x = new_model.predict(X_train_)"
   ]
  },
  {
   "cell_type": "code",
   "execution_count": 140,
   "id": "9885ed29",
   "metadata": {},
   "outputs": [
    {
     "data": {
      "text/plain": [
       "(14993, 2, 2, 64)"
      ]
     },
     "execution_count": 140,
     "metadata": {},
     "output_type": "execute_result"
    }
   ],
   "source": [
    "# train_x.shape"
   ]
  },
  {
   "cell_type": "code",
   "execution_count": 141,
   "id": "2ea895b4",
   "metadata": {},
   "outputs": [],
   "source": [
    "# train_x_resh = train_x.reshape(train_x.shape[0], 2*2*64)"
   ]
  },
  {
   "cell_type": "code",
   "execution_count": 142,
   "id": "d9a1d2ff",
   "metadata": {},
   "outputs": [
    {
     "data": {
      "text/plain": [
       "(14993, 256)"
      ]
     },
     "execution_count": 142,
     "metadata": {},
     "output_type": "execute_result"
    }
   ],
   "source": [
    "# train_x_resh.shape"
   ]
  },
  {
   "cell_type": "code",
   "execution_count": 143,
   "id": "602b1785",
   "metadata": {},
   "outputs": [
    {
     "data": {
      "text/plain": [
       "array([[-0.08564439,  2.355207  , -1.0622369 , ...,  1.7638212 ,\n",
       "        -0.6215662 ,  0.16698644],\n",
       "       [-0.32227552, -0.7645089 , -0.49655986, ...,  2.2611923 ,\n",
       "        -0.6633208 , -0.99258447],\n",
       "       [ 1.3287126 , -0.14748307, -0.8733938 , ..., -0.89495736,\n",
       "         0.2331211 ,  1.7826953 ],\n",
       "       ...,\n",
       "       [ 1.7524687 , -0.7645089 ,  3.5203767 , ...,  3.9376955 ,\n",
       "        -0.6633208 , -0.38536114],\n",
       "       [ 0.11648136, -0.7645089 , -1.0622369 , ..., -0.89495736,\n",
       "        -0.6633208 , -0.99258447],\n",
       "       [ 0.5542438 ,  1.1870826 ,  1.2951024 , ..., -0.89495736,\n",
       "        -0.6633208 , -0.99258447]], dtype=float32)"
      ]
     },
     "execution_count": 143,
     "metadata": {},
     "output_type": "execute_result"
    }
   ],
   "source": [
    "# train_x_resh"
   ]
  },
  {
   "cell_type": "code",
   "execution_count": null,
   "id": "e322ef1c",
   "metadata": {},
   "outputs": [],
   "source": []
  },
  {
   "cell_type": "code",
   "execution_count": 148,
   "id": "2a3f6fe0",
   "metadata": {},
   "outputs": [],
   "source": [
    "new_model2 = Model(inputs = model.input, outputs = model.get_layer('feature_layer2').output)   #from flatten layer"
   ]
  },
  {
   "cell_type": "code",
   "execution_count": null,
   "id": "5429d9e5",
   "metadata": {},
   "outputs": [],
   "source": []
  },
  {
   "cell_type": "code",
   "execution_count": 174,
   "id": "d4ab9824",
   "metadata": {},
   "outputs": [
    {
     "name": "stdout",
     "output_type": "stream",
     "text": [
      "WARNING:tensorflow:From C:\\Users\\adima\\anaconda3\\envs\\kaggleenv\\lib\\site-packages\\tensorflow_core\\python\\ops\\resource_variable_ops.py:1786: calling BaseResourceVariable.__init__ (from tensorflow.python.ops.resource_variable_ops) with constraint is deprecated and will be removed in a future version.\n",
      "Instructions for updating:\n",
      "If using Keras pass *_constraint arguments to layers.\n",
      "INFO:tensorflow:Assets written to: feature_extr_model\\assets\n"
     ]
    }
   ],
   "source": [
    "#save model\n",
    "# new_model2.save('feature_extr_model')"
   ]
  },
  {
   "cell_type": "code",
   "execution_count": 9,
   "id": "7a16f5b2",
   "metadata": {},
   "outputs": [],
   "source": [
    "model_test = keras.models.load_model('./feature_extr_model')"
   ]
  },
  {
   "cell_type": "code",
   "execution_count": 10,
   "id": "1f07e9e1",
   "metadata": {},
   "outputs": [
    {
     "name": "stdout",
     "output_type": "stream",
     "text": [
      "Model: \"model_7\"\n",
      "_________________________________________________________________\n",
      "Layer (type)                 Output Shape              Param #   \n",
      "=================================================================\n",
      "conv2d_23_input (InputLayer) [(None, 20, 20, 3)]       0         \n",
      "_________________________________________________________________\n",
      "conv2d_23 (Conv2D)           (None, 20, 20, 20)        560       \n",
      "_________________________________________________________________\n",
      "batch_normalization_15 (Batc (None, 20, 20, 20)        80        \n",
      "_________________________________________________________________\n",
      "conv2d_24 (Conv2D)           (None, 20, 20, 20)        3620      \n",
      "_________________________________________________________________\n",
      "batch_normalization_16 (Batc (None, 20, 20, 20)        80        \n",
      "_________________________________________________________________\n",
      "max_pooling2d_14 (MaxPooling (None, 10, 10, 20)        0         \n",
      "_________________________________________________________________\n",
      "dropout_7 (Dropout)          (None, 10, 10, 20)        0         \n",
      "_________________________________________________________________\n",
      "conv2d_25 (Conv2D)           (None, 10, 10, 32)        5792      \n",
      "_________________________________________________________________\n",
      "batch_normalization_17 (Batc (None, 10, 10, 32)        128       \n",
      "_________________________________________________________________\n",
      "max_pooling2d_15 (MaxPooling (None, 5, 5, 32)          0         \n",
      "_________________________________________________________________\n",
      "dropout_8 (Dropout)          (None, 5, 5, 32)          0         \n",
      "_________________________________________________________________\n",
      "conv2d_26 (Conv2D)           (None, 5, 5, 64)          18496     \n",
      "_________________________________________________________________\n",
      "batch_normalization_18 (Batc (None, 5, 5, 64)          256       \n",
      "_________________________________________________________________\n",
      "feature_layer (MaxPooling2D) (None, 2, 2, 64)          0         \n",
      "_________________________________________________________________\n",
      "dropout_9 (Dropout)          (None, 2, 2, 64)          0         \n",
      "_________________________________________________________________\n",
      "feature_layer2 (Flatten)     (None, 256)               0         \n",
      "=================================================================\n",
      "Total params: 29,012\n",
      "Trainable params: 28,740\n",
      "Non-trainable params: 272\n",
      "_________________________________________________________________\n"
     ]
    }
   ],
   "source": [
    "model_test.summary()"
   ]
  },
  {
   "cell_type": "code",
   "execution_count": 11,
   "id": "0b82f861",
   "metadata": {},
   "outputs": [],
   "source": [
    "new_model2 = model_test"
   ]
  },
  {
   "cell_type": "code",
   "execution_count": null,
   "id": "9126a870",
   "metadata": {},
   "outputs": [],
   "source": []
  },
  {
   "cell_type": "code",
   "execution_count": 12,
   "id": "53a6fea8",
   "metadata": {},
   "outputs": [
    {
     "name": "stdout",
     "output_type": "stream",
     "text": [
      "(14993, 256) (3749, 256)\n"
     ]
    }
   ],
   "source": [
    "train_x_compr = new_model2.predict(X_train_)\n",
    "test_x_compr = new_model2.predict(X_test_)\n",
    "\n",
    "print(train_x_compr.shape, test_x_compr.shape)"
   ]
  },
  {
   "cell_type": "code",
   "execution_count": 13,
   "id": "66296c82",
   "metadata": {},
   "outputs": [],
   "source": [
    "# np.savez('extracted_imgs', train_x_compr = train_x_compr, test_x_compr = test_x_compr)"
   ]
  },
  {
   "cell_type": "code",
   "execution_count": 14,
   "id": "7b2b0dc5",
   "metadata": {},
   "outputs": [
    {
     "data": {
      "text/plain": [
       "['train_x_compr', 'test_x_compr']"
      ]
     },
     "execution_count": 14,
     "metadata": {},
     "output_type": "execute_result"
    }
   ],
   "source": [
    "extracted_imgs = np.load('extracted_imgs.npz')\n",
    "extracted_imgs.files"
   ]
  },
  {
   "cell_type": "code",
   "execution_count": 15,
   "id": "9691d215",
   "metadata": {},
   "outputs": [
    {
     "name": "stdout",
     "output_type": "stream",
     "text": [
      "(14993, 256) (3749, 256)\n"
     ]
    }
   ],
   "source": [
    "train_x_compr = extracted_imgs[extracted_imgs.files[0]]\n",
    "test_x_compr = extracted_imgs[extracted_imgs.files[1]]\n",
    "\n",
    "print(train_x_compr.shape, test_x_compr.shape)"
   ]
  },
  {
   "cell_type": "code",
   "execution_count": null,
   "id": "a7a95fd1",
   "metadata": {},
   "outputs": [],
   "source": []
  },
  {
   "cell_type": "markdown",
   "id": "00f16584",
   "metadata": {},
   "source": [
    "### SVM"
   ]
  },
  {
   "cell_type": "code",
   "execution_count": 34,
   "id": "97488005",
   "metadata": {},
   "outputs": [
    {
     "name": "stdout",
     "output_type": "stream",
     "text": [
      "Wall time: 14.3 s\n"
     ]
    }
   ],
   "source": [
    "%%time\n",
    "\n",
    "# linear = SVC(kernel='linear', C=1, decision_function_shape='ovo').fit(train_x_compr, y_train_)\n",
    "\n",
    "# rbf = SVC(kernel='rbf', gamma=1, C=1, decision_function_shape='ovo').fit(train_x_compr, y_train_)\n",
    "\n",
    "poly = SVC(kernel='poly', degree=2, C=1000, decision_function_shape='ovo').fit(train_x_compr, y_train_)\n",
    "\n",
    "# sig = SVC(kernel='sigmoid', C=1, decision_function_shape='ovo').fit(train_x_compr, y_train_)"
   ]
  },
  {
   "cell_type": "code",
   "execution_count": 35,
   "id": "570ab2e2",
   "metadata": {},
   "outputs": [],
   "source": [
    "# linear_pred = linear.predict(test_x_compr)\n",
    "\n",
    "poly_pred = poly.predict(test_x_compr)\n",
    "\n",
    "# rbf_pred = rbf.predict(test_x_compr)\n",
    "\n",
    "# sig_pred = sig.predict(test_x_compr)"
   ]
  },
  {
   "cell_type": "code",
   "execution_count": 36,
   "id": "45ff7dfb",
   "metadata": {},
   "outputs": [
    {
     "name": "stdout",
     "output_type": "stream",
     "text": [
      "Accuracy Polynomial Kernel: 0.9423846359029074\n"
     ]
    }
   ],
   "source": [
    "# retrieve the accuracy and print it for all 4 kernel functions\n",
    "# # accuracy_lin = linear.score(test_x_compr, y_test_)\n",
    "accuracy_poly = poly.score(test_x_compr, y_test_)\n",
    "# # accuracy_rbf = rbf.score(test_x_compr, y_test_)\n",
    "# # accuracy_sig = sig.score(test_x_compr, y_test_)\n",
    "\n",
    "# print('Accuracy Linear Kernel:', accuracy_lin)\n",
    "print('Accuracy Polynomial Kernel:', accuracy_poly)\n",
    "# print('Accuracy Radial Basis Kernel:', accuracy_rbf)\n",
    "# print('Accuracy Sigmoid Kernel:', accuracy_sig)"
   ]
  },
  {
   "cell_type": "code",
   "execution_count": 157,
   "id": "1beb8d12",
   "metadata": {},
   "outputs": [
    {
     "data": {
      "text/plain": [
       "array([33, 51, 47, ..., 53, 55, 32])"
      ]
     },
     "execution_count": 157,
     "metadata": {},
     "output_type": "execute_result"
    }
   ],
   "source": [
    "linear_pred"
   ]
  },
  {
   "cell_type": "code",
   "execution_count": 20,
   "id": "1fd710ae",
   "metadata": {},
   "outputs": [],
   "source": [
    "y_test_inv = label_enc.inverse_transform(y_test_)\n",
    "linear_pred_inv = label_enc.inverse_transform(linear_pred)"
   ]
  },
  {
   "cell_type": "code",
   "execution_count": 21,
   "id": "cd06806a",
   "metadata": {},
   "outputs": [
    {
     "name": "stdout",
     "output_type": "stream",
     "text": [
      "              precision    recall  f1-score   support\n",
      "\n",
      "           0       0.78      0.88      0.83        57\n",
      "           1       0.90      0.93      0.92        41\n",
      "           2       0.95      0.98      0.96        55\n",
      "           3       0.97      1.00      0.98        65\n",
      "           4       1.00      1.00      1.00        64\n",
      "           5       0.97      1.00      0.98        64\n",
      "           6       1.00      1.00      1.00        56\n",
      "           7       1.00      1.00      1.00        59\n",
      "           8       1.00      1.00      1.00        61\n",
      "           9       1.00      1.00      1.00        52\n",
      "           A       0.91      0.90      0.91        70\n",
      "           B       0.83      0.98      0.90        44\n",
      "           C       0.91      0.86      0.88        56\n",
      "           D       0.97      0.95      0.96        62\n",
      "           E       0.87      0.88      0.88        68\n",
      "           F       0.92      1.00      0.96        49\n",
      "           G       0.93      0.90      0.92        61\n",
      "           H       0.85      0.91      0.88        56\n",
      "           I       0.83      0.65      0.73        69\n",
      "           J       0.96      0.96      0.96        57\n",
      "           K       0.93      0.98      0.96        44\n",
      "           L       0.98      0.95      0.97        62\n",
      "           M       0.97      0.96      0.96        70\n",
      "           N       0.89      0.90      0.89        61\n",
      "           O       0.64      0.67      0.66        57\n",
      "           P       0.93      0.96      0.94        52\n",
      "           Q       0.97      1.00      0.99        69\n",
      "           R       0.91      0.80      0.85        61\n",
      "           S       0.80      0.60      0.69        58\n",
      "           T       0.97      0.93      0.95        71\n",
      "           U       0.98      0.97      0.97        59\n",
      "           V       0.98      0.89      0.93        70\n",
      "           W       0.97      1.00      0.98        56\n",
      "           X       0.99      1.00      0.99        70\n",
      "           Y       0.97      0.97      0.97        71\n",
      "           Z       0.98      1.00      0.99        51\n",
      "           a       0.91      0.86      0.88        69\n",
      "           b       0.98      1.00      0.99        52\n",
      "           c       0.86      0.94      0.90        54\n",
      "           d       0.94      0.97      0.95        61\n",
      "           e       0.97      0.80      0.88        71\n",
      "           f       0.99      1.00      0.99        66\n",
      "           g       0.95      1.00      0.98        63\n",
      "           h       0.98      0.98      0.98        61\n",
      "           i       0.86      0.86      0.86        57\n",
      "           j       0.98      1.00      0.99        60\n",
      "           k       0.98      1.00      0.99        63\n",
      "           l       0.88      0.92      0.90        75\n",
      "           m       0.98      1.00      0.99        60\n",
      "           n       0.91      0.95      0.93        66\n",
      "           o       0.72      0.68      0.70        62\n",
      "           p       0.97      0.98      0.98        61\n",
      "           q       0.97      0.98      0.98        63\n",
      "           r       0.96      0.86      0.91        64\n",
      "           s       0.72      0.89      0.80        56\n",
      "           t       0.95      0.90      0.92        61\n",
      "           u       0.98      1.00      0.99        57\n",
      "           v       0.94      1.00      0.97        68\n",
      "           w       1.00      1.00      1.00        59\n",
      "           x       1.00      0.98      0.99        55\n",
      "           y       0.98      1.00      0.99        60\n",
      "           z       0.97      1.00      0.98        57\n",
      "\n",
      "    accuracy                           0.93      3749\n",
      "   macro avg       0.93      0.93      0.93      3749\n",
      "weighted avg       0.93      0.93      0.93      3749\n",
      "\n"
     ]
    }
   ],
   "source": [
    "print(classification_report(y_test_inv, linear_pred_inv))"
   ]
  },
  {
   "cell_type": "code",
   "execution_count": 22,
   "id": "41b3460a",
   "metadata": {},
   "outputs": [
    {
     "data": {
      "text/html": [
       "<div>\n",
       "<style scoped>\n",
       "    .dataframe tbody tr th:only-of-type {\n",
       "        vertical-align: middle;\n",
       "    }\n",
       "\n",
       "    .dataframe tbody tr th {\n",
       "        vertical-align: top;\n",
       "    }\n",
       "\n",
       "    .dataframe thead th {\n",
       "        text-align: right;\n",
       "    }\n",
       "</style>\n",
       "<table border=\"1\" class=\"dataframe\">\n",
       "  <thead>\n",
       "    <tr style=\"text-align: right;\">\n",
       "      <th></th>\n",
       "      <th>y_test</th>\n",
       "      <th>predicted</th>\n",
       "    </tr>\n",
       "  </thead>\n",
       "  <tbody>\n",
       "    <tr>\n",
       "      <th>0</th>\n",
       "      <td>X</td>\n",
       "      <td>X</td>\n",
       "    </tr>\n",
       "    <tr>\n",
       "      <th>1</th>\n",
       "      <td>p</td>\n",
       "      <td>p</td>\n",
       "    </tr>\n",
       "    <tr>\n",
       "      <th>2</th>\n",
       "      <td>l</td>\n",
       "      <td>l</td>\n",
       "    </tr>\n",
       "    <tr>\n",
       "      <th>3</th>\n",
       "      <td>G</td>\n",
       "      <td>C</td>\n",
       "    </tr>\n",
       "    <tr>\n",
       "      <th>4</th>\n",
       "      <td>p</td>\n",
       "      <td>p</td>\n",
       "    </tr>\n",
       "    <tr>\n",
       "      <th>...</th>\n",
       "      <td>...</td>\n",
       "      <td>...</td>\n",
       "    </tr>\n",
       "    <tr>\n",
       "      <th>3744</th>\n",
       "      <td>l</td>\n",
       "      <td>l</td>\n",
       "    </tr>\n",
       "    <tr>\n",
       "      <th>3745</th>\n",
       "      <td>s</td>\n",
       "      <td>S</td>\n",
       "    </tr>\n",
       "    <tr>\n",
       "      <th>3746</th>\n",
       "      <td>r</td>\n",
       "      <td>r</td>\n",
       "    </tr>\n",
       "    <tr>\n",
       "      <th>3747</th>\n",
       "      <td>t</td>\n",
       "      <td>t</td>\n",
       "    </tr>\n",
       "    <tr>\n",
       "      <th>3748</th>\n",
       "      <td>W</td>\n",
       "      <td>W</td>\n",
       "    </tr>\n",
       "  </tbody>\n",
       "</table>\n",
       "<p>3749 rows × 2 columns</p>\n",
       "</div>"
      ],
      "text/plain": [
       "     y_test predicted\n",
       "0         X         X\n",
       "1         p         p\n",
       "2         l         l\n",
       "3         G         C\n",
       "4         p         p\n",
       "...     ...       ...\n",
       "3744      l         l\n",
       "3745      s         S\n",
       "3746      r         r\n",
       "3747      t         t\n",
       "3748      W         W\n",
       "\n",
       "[3749 rows x 2 columns]"
      ]
     },
     "execution_count": 22,
     "metadata": {},
     "output_type": "execute_result"
    }
   ],
   "source": [
    "result_df_svc = pd.DataFrame()\n",
    "result_df_svc['y_test'] = y_test_inv\n",
    "result_df_svc['predicted'] = linear_pred_inv\n",
    "result_df_svc"
   ]
  },
  {
   "cell_type": "code",
   "execution_count": 23,
   "id": "6ad762ad",
   "metadata": {},
   "outputs": [
    {
     "data": {
      "text/plain": [
       "0.9327820752200587"
      ]
     },
     "execution_count": 23,
     "metadata": {},
     "output_type": "execute_result"
    }
   ],
   "source": [
    "class_accuracy_svc = (result_df_svc['y_test'] == result_df_svc['predicted']).sum() / len(result_df_svc)\n",
    "class_accuracy_svc"
   ]
  },
  {
   "cell_type": "code",
   "execution_count": null,
   "id": "e678a9e6",
   "metadata": {},
   "outputs": [],
   "source": []
  },
  {
   "cell_type": "markdown",
   "id": "469b2130",
   "metadata": {},
   "source": [
    "#### Grid search"
   ]
  },
  {
   "cell_type": "code",
   "execution_count": 23,
   "id": "3d2f8b1a",
   "metadata": {},
   "outputs": [],
   "source": [
    "parameters = [\n",
    "  {'C': [0.1, 1, 10], 'kernel': ['linear']},\n",
    "  {'C': [0.1, 1, 10], 'gamma': [0.01, 1, 10], 'kernel': ['rbf']},\n",
    "    {'C': [0.1, 1, 10], 'degree': [1, 2, 3], 'kernel': ['poly']},\n",
    "    {'C': [0.1, 1, 10], 'gamma': [0.01, 1, 10], 'kernel': ['sigmoid']}\n",
    " ]"
   ]
  },
  {
   "cell_type": "code",
   "execution_count": 24,
   "id": "85c09f3a",
   "metadata": {
    "collapsed": true
   },
   "outputs": [
    {
     "name": "stdout",
     "output_type": "stream",
     "text": [
      "Fitting 5 folds for each of 30 candidates, totalling 150 fits\n",
      "[CV 1/5; 1/30] START C=0.1, kernel=linear.......................................\n",
      "[CV 1/5; 1/30] END ........C=0.1, kernel=linear;, score=0.944 total time=  12.4s\n",
      "[CV 2/5; 1/30] START C=0.1, kernel=linear.......................................\n",
      "[CV 2/5; 1/30] END ........C=0.1, kernel=linear;, score=0.940 total time=  12.7s\n",
      "[CV 3/5; 1/30] START C=0.1, kernel=linear.......................................\n",
      "[CV 3/5; 1/30] END ........C=0.1, kernel=linear;, score=0.947 total time=  12.0s\n",
      "[CV 4/5; 1/30] START C=0.1, kernel=linear.......................................\n",
      "[CV 4/5; 1/30] END ........C=0.1, kernel=linear;, score=0.936 total time=  11.9s\n",
      "[CV 5/5; 1/30] START C=0.1, kernel=linear.......................................\n",
      "[CV 5/5; 1/30] END ........C=0.1, kernel=linear;, score=0.944 total time=  11.9s\n",
      "[CV 1/5; 2/30] START C=1, kernel=linear.........................................\n",
      "[CV 1/5; 2/30] END ..........C=1, kernel=linear;, score=0.943 total time=  11.8s\n",
      "[CV 2/5; 2/30] START C=1, kernel=linear.........................................\n",
      "[CV 2/5; 2/30] END ..........C=1, kernel=linear;, score=0.940 total time=  11.9s\n",
      "[CV 3/5; 2/30] START C=1, kernel=linear.........................................\n",
      "[CV 3/5; 2/30] END ..........C=1, kernel=linear;, score=0.947 total time=  11.9s\n",
      "[CV 4/5; 2/30] START C=1, kernel=linear.........................................\n",
      "[CV 4/5; 2/30] END ..........C=1, kernel=linear;, score=0.935 total time=  11.8s\n",
      "[CV 5/5; 2/30] START C=1, kernel=linear.........................................\n",
      "[CV 5/5; 2/30] END ..........C=1, kernel=linear;, score=0.942 total time=  11.8s\n",
      "[CV 1/5; 3/30] START C=10, kernel=linear........................................\n",
      "[CV 1/5; 3/30] END .........C=10, kernel=linear;, score=0.943 total time=  12.2s\n",
      "[CV 2/5; 3/30] START C=10, kernel=linear........................................\n",
      "[CV 2/5; 3/30] END .........C=10, kernel=linear;, score=0.940 total time=  11.9s\n",
      "[CV 3/5; 3/30] START C=10, kernel=linear........................................\n",
      "[CV 3/5; 3/30] END .........C=10, kernel=linear;, score=0.947 total time=  12.0s\n",
      "[CV 4/5; 3/30] START C=10, kernel=linear........................................\n",
      "[CV 4/5; 3/30] END .........C=10, kernel=linear;, score=0.935 total time=  12.0s\n",
      "[CV 5/5; 3/30] START C=10, kernel=linear........................................\n",
      "[CV 5/5; 3/30] END .........C=10, kernel=linear;, score=0.942 total time=  11.8s\n",
      "[CV 1/5; 4/30] START C=0.1, gamma=0.01, kernel=rbf..............................\n",
      "[CV 1/5; 4/30] END C=0.1, gamma=0.01, kernel=rbf;, score=0.137 total time= 1.2min\n",
      "[CV 2/5; 4/30] START C=0.1, gamma=0.01, kernel=rbf..............................\n",
      "[CV 2/5; 4/30] END C=0.1, gamma=0.01, kernel=rbf;, score=0.131 total time= 1.2min\n",
      "[CV 3/5; 4/30] START C=0.1, gamma=0.01, kernel=rbf..............................\n",
      "[CV 3/5; 4/30] END C=0.1, gamma=0.01, kernel=rbf;, score=0.126 total time= 1.2min\n",
      "[CV 4/5; 4/30] START C=0.1, gamma=0.01, kernel=rbf..............................\n",
      "[CV 4/5; 4/30] END C=0.1, gamma=0.01, kernel=rbf;, score=0.137 total time= 1.2min\n",
      "[CV 5/5; 4/30] START C=0.1, gamma=0.01, kernel=rbf..............................\n",
      "[CV 5/5; 4/30] END C=0.1, gamma=0.01, kernel=rbf;, score=0.130 total time= 1.2min\n",
      "[CV 1/5; 5/30] START C=0.1, gamma=1, kernel=rbf.................................\n",
      "[CV 1/5; 5/30] END ..C=0.1, gamma=1, kernel=rbf;, score=0.026 total time= 1.6min\n",
      "[CV 2/5; 5/30] START C=0.1, gamma=1, kernel=rbf.................................\n",
      "[CV 2/5; 5/30] END ..C=0.1, gamma=1, kernel=rbf;, score=0.026 total time= 1.5min\n",
      "[CV 3/5; 5/30] START C=0.1, gamma=1, kernel=rbf.................................\n",
      "[CV 3/5; 5/30] END ..C=0.1, gamma=1, kernel=rbf;, score=0.026 total time= 1.6min\n",
      "[CV 4/5; 5/30] START C=0.1, gamma=1, kernel=rbf.................................\n",
      "[CV 4/5; 5/30] END ..C=0.1, gamma=1, kernel=rbf;, score=0.026 total time= 1.6min\n",
      "[CV 5/5; 5/30] START C=0.1, gamma=1, kernel=rbf.................................\n",
      "[CV 5/5; 5/30] END ..C=0.1, gamma=1, kernel=rbf;, score=0.026 total time= 1.6min\n",
      "[CV 1/5; 6/30] START C=0.1, gamma=10, kernel=rbf................................\n",
      "[CV 1/5; 6/30] END .C=0.1, gamma=10, kernel=rbf;, score=0.026 total time= 1.5min\n",
      "[CV 2/5; 6/30] START C=0.1, gamma=10, kernel=rbf................................\n",
      "[CV 2/5; 6/30] END .C=0.1, gamma=10, kernel=rbf;, score=0.026 total time= 1.5min\n",
      "[CV 3/5; 6/30] START C=0.1, gamma=10, kernel=rbf................................\n",
      "[CV 3/5; 6/30] END .C=0.1, gamma=10, kernel=rbf;, score=0.026 total time= 1.5min\n",
      "[CV 4/5; 6/30] START C=0.1, gamma=10, kernel=rbf................................\n",
      "[CV 4/5; 6/30] END .C=0.1, gamma=10, kernel=rbf;, score=0.026 total time= 1.5min\n",
      "[CV 5/5; 6/30] START C=0.1, gamma=10, kernel=rbf................................\n",
      "[CV 5/5; 6/30] END .C=0.1, gamma=10, kernel=rbf;, score=0.026 total time= 1.5min\n",
      "[CV 1/5; 7/30] START C=1, gamma=0.01, kernel=rbf................................\n",
      "[CV 1/5; 7/30] END .C=1, gamma=0.01, kernel=rbf;, score=0.911 total time= 1.0min\n",
      "[CV 2/5; 7/30] START C=1, gamma=0.01, kernel=rbf................................\n",
      "[CV 2/5; 7/30] END .C=1, gamma=0.01, kernel=rbf;, score=0.912 total time= 1.0min\n",
      "[CV 3/5; 7/30] START C=1, gamma=0.01, kernel=rbf................................\n",
      "[CV 3/5; 7/30] END .C=1, gamma=0.01, kernel=rbf;, score=0.898 total time= 1.0min\n",
      "[CV 4/5; 7/30] START C=1, gamma=0.01, kernel=rbf................................\n",
      "[CV 4/5; 7/30] END .C=1, gamma=0.01, kernel=rbf;, score=0.914 total time= 1.0min\n",
      "[CV 5/5; 7/30] START C=1, gamma=0.01, kernel=rbf................................\n",
      "[CV 5/5; 7/30] END .C=1, gamma=0.01, kernel=rbf;, score=0.915 total time= 1.0min\n",
      "[CV 1/5; 8/30] START C=1, gamma=1, kernel=rbf...................................\n",
      "[CV 1/5; 8/30] END ....C=1, gamma=1, kernel=rbf;, score=0.426 total time= 1.4min\n",
      "[CV 2/5; 8/30] START C=1, gamma=1, kernel=rbf...................................\n",
      "[CV 2/5; 8/30] END ....C=1, gamma=1, kernel=rbf;, score=0.420 total time= 1.4min\n",
      "[CV 3/5; 8/30] START C=1, gamma=1, kernel=rbf...................................\n",
      "[CV 3/5; 8/30] END ....C=1, gamma=1, kernel=rbf;, score=0.415 total time= 1.5min\n",
      "[CV 4/5; 8/30] START C=1, gamma=1, kernel=rbf...................................\n",
      "[CV 4/5; 8/30] END ....C=1, gamma=1, kernel=rbf;, score=0.422 total time= 1.5min\n",
      "[CV 5/5; 8/30] START C=1, gamma=1, kernel=rbf...................................\n",
      "[CV 5/5; 8/30] END ....C=1, gamma=1, kernel=rbf;, score=0.419 total time= 1.4min\n",
      "[CV 1/5; 9/30] START C=1, gamma=10, kernel=rbf..................................\n",
      "[CV 1/5; 9/30] END ...C=1, gamma=10, kernel=rbf;, score=0.403 total time= 1.4min\n",
      "[CV 2/5; 9/30] START C=1, gamma=10, kernel=rbf..................................\n",
      "[CV 2/5; 9/30] END ...C=1, gamma=10, kernel=rbf;, score=0.395 total time= 1.4min\n",
      "[CV 3/5; 9/30] START C=1, gamma=10, kernel=rbf..................................\n",
      "[CV 3/5; 9/30] END ...C=1, gamma=10, kernel=rbf;, score=0.390 total time= 1.4min\n",
      "[CV 4/5; 9/30] START C=1, gamma=10, kernel=rbf..................................\n",
      "[CV 4/5; 9/30] END ...C=1, gamma=10, kernel=rbf;, score=0.396 total time= 1.4min\n",
      "[CV 5/5; 9/30] START C=1, gamma=10, kernel=rbf..................................\n",
      "[CV 5/5; 9/30] END ...C=1, gamma=10, kernel=rbf;, score=0.392 total time= 1.4min\n",
      "[CV 1/5; 10/30] START C=10, gamma=0.01, kernel=rbf..............................\n",
      "[CV 1/5; 10/30] END C=10, gamma=0.01, kernel=rbf;, score=0.915 total time= 1.0min\n",
      "[CV 2/5; 10/30] START C=10, gamma=0.01, kernel=rbf..............................\n",
      "[CV 2/5; 10/30] END C=10, gamma=0.01, kernel=rbf;, score=0.915 total time=  59.9s\n",
      "[CV 3/5; 10/30] START C=10, gamma=0.01, kernel=rbf..............................\n",
      "[CV 3/5; 10/30] END C=10, gamma=0.01, kernel=rbf;, score=0.905 total time= 1.0min\n",
      "[CV 4/5; 10/30] START C=10, gamma=0.01, kernel=rbf..............................\n",
      "[CV 4/5; 10/30] END C=10, gamma=0.01, kernel=rbf;, score=0.915 total time= 1.0min\n",
      "[CV 5/5; 10/30] START C=10, gamma=0.01, kernel=rbf..............................\n",
      "[CV 5/5; 10/30] END C=10, gamma=0.01, kernel=rbf;, score=0.918 total time= 1.0min\n",
      "[CV 1/5; 11/30] START C=10, gamma=1, kernel=rbf.................................\n"
     ]
    },
    {
     "name": "stdout",
     "output_type": "stream",
     "text": [
      "[CV 1/5; 11/30] END ..C=10, gamma=1, kernel=rbf;, score=0.432 total time= 1.3min\n",
      "[CV 2/5; 11/30] START C=10, gamma=1, kernel=rbf.................................\n",
      "[CV 2/5; 11/30] END ..C=10, gamma=1, kernel=rbf;, score=0.430 total time= 1.3min\n",
      "[CV 3/5; 11/30] START C=10, gamma=1, kernel=rbf.................................\n",
      "[CV 3/5; 11/30] END ..C=10, gamma=1, kernel=rbf;, score=0.425 total time= 1.3min\n",
      "[CV 4/5; 11/30] START C=10, gamma=1, kernel=rbf.................................\n",
      "[CV 4/5; 11/30] END ..C=10, gamma=1, kernel=rbf;, score=0.434 total time= 1.3min\n",
      "[CV 5/5; 11/30] START C=10, gamma=1, kernel=rbf.................................\n",
      "[CV 5/5; 11/30] END ..C=10, gamma=1, kernel=rbf;, score=0.430 total time= 1.3min\n",
      "[CV 1/5; 12/30] START C=10, gamma=10, kernel=rbf................................\n",
      "[CV 1/5; 12/30] END .C=10, gamma=10, kernel=rbf;, score=0.405 total time= 1.2min\n",
      "[CV 2/5; 12/30] START C=10, gamma=10, kernel=rbf................................\n",
      "[CV 2/5; 12/30] END .C=10, gamma=10, kernel=rbf;, score=0.396 total time= 1.2min\n",
      "[CV 3/5; 12/30] START C=10, gamma=10, kernel=rbf................................\n",
      "[CV 3/5; 12/30] END .C=10, gamma=10, kernel=rbf;, score=0.392 total time= 1.2min\n",
      "[CV 4/5; 12/30] START C=10, gamma=10, kernel=rbf................................\n",
      "[CV 4/5; 12/30] END .C=10, gamma=10, kernel=rbf;, score=0.398 total time= 1.4min\n",
      "[CV 5/5; 12/30] START C=10, gamma=10, kernel=rbf................................\n",
      "[CV 5/5; 12/30] END .C=10, gamma=10, kernel=rbf;, score=0.394 total time= 1.4min\n",
      "[CV 1/5; 13/30] START C=0.1, degree=1, kernel=poly..............................\n",
      "[CV 1/5; 13/30] END C=0.1, degree=1, kernel=poly;, score=0.822 total time=  29.7s\n",
      "[CV 2/5; 13/30] START C=0.1, degree=1, kernel=poly..............................\n",
      "[CV 2/5; 13/30] END C=0.1, degree=1, kernel=poly;, score=0.823 total time=  30.2s\n",
      "[CV 3/5; 13/30] START C=0.1, degree=1, kernel=poly..............................\n",
      "[CV 3/5; 13/30] END C=0.1, degree=1, kernel=poly;, score=0.823 total time=  30.9s\n",
      "[CV 4/5; 13/30] START C=0.1, degree=1, kernel=poly..............................\n",
      "[CV 4/5; 13/30] END C=0.1, degree=1, kernel=poly;, score=0.829 total time=  30.2s\n",
      "[CV 5/5; 13/30] START C=0.1, degree=1, kernel=poly..............................\n",
      "[CV 5/5; 13/30] END C=0.1, degree=1, kernel=poly;, score=0.831 total time=  46.6s\n",
      "[CV 1/5; 14/30] START C=0.1, degree=2, kernel=poly..............................\n",
      "[CV 1/5; 14/30] END C=0.1, degree=2, kernel=poly;, score=0.775 total time=  42.8s\n",
      "[CV 2/5; 14/30] START C=0.1, degree=2, kernel=poly..............................\n",
      "[CV 2/5; 14/30] END C=0.1, degree=2, kernel=poly;, score=0.790 total time=  36.7s\n",
      "[CV 3/5; 14/30] START C=0.1, degree=2, kernel=poly..............................\n",
      "[CV 3/5; 14/30] END C=0.1, degree=2, kernel=poly;, score=0.786 total time=  36.4s\n",
      "[CV 4/5; 14/30] START C=0.1, degree=2, kernel=poly..............................\n",
      "[CV 4/5; 14/30] END C=0.1, degree=2, kernel=poly;, score=0.791 total time=  41.4s\n",
      "[CV 5/5; 14/30] START C=0.1, degree=2, kernel=poly..............................\n",
      "[CV 5/5; 14/30] END C=0.1, degree=2, kernel=poly;, score=0.787 total time= 1.0min\n",
      "[CV 1/5; 15/30] START C=0.1, degree=3, kernel=poly..............................\n",
      "[CV 1/5; 15/30] END C=0.1, degree=3, kernel=poly;, score=0.643 total time=  58.3s\n",
      "[CV 2/5; 15/30] START C=0.1, degree=3, kernel=poly..............................\n",
      "[CV 2/5; 15/30] END C=0.1, degree=3, kernel=poly;, score=0.638 total time= 1.0min\n",
      "[CV 3/5; 15/30] START C=0.1, degree=3, kernel=poly..............................\n",
      "[CV 3/5; 15/30] END C=0.1, degree=3, kernel=poly;, score=0.633 total time=  41.3s\n",
      "[CV 4/5; 15/30] START C=0.1, degree=3, kernel=poly..............................\n",
      "[CV 4/5; 15/30] END C=0.1, degree=3, kernel=poly;, score=0.637 total time=  41.1s\n",
      "[CV 5/5; 15/30] START C=0.1, degree=3, kernel=poly..............................\n",
      "[CV 5/5; 15/30] END C=0.1, degree=3, kernel=poly;, score=0.636 total time=  41.1s\n",
      "[CV 1/5; 16/30] START C=1, degree=1, kernel=poly................................\n",
      "[CV 1/5; 16/30] END .C=1, degree=1, kernel=poly;, score=0.928 total time=  15.8s\n",
      "[CV 2/5; 16/30] START C=1, degree=1, kernel=poly................................\n",
      "[CV 2/5; 16/30] END .C=1, degree=1, kernel=poly;, score=0.926 total time=  15.3s\n",
      "[CV 3/5; 16/30] START C=1, degree=1, kernel=poly................................\n",
      "[CV 3/5; 16/30] END .C=1, degree=1, kernel=poly;, score=0.931 total time=  15.2s\n",
      "[CV 4/5; 16/30] START C=1, degree=1, kernel=poly................................\n",
      "[CV 4/5; 16/30] END .C=1, degree=1, kernel=poly;, score=0.931 total time=  15.2s\n",
      "[CV 5/5; 16/30] START C=1, degree=1, kernel=poly................................\n",
      "[CV 5/5; 16/30] END .C=1, degree=1, kernel=poly;, score=0.934 total time=  15.1s\n",
      "[CV 1/5; 17/30] START C=1, degree=2, kernel=poly................................\n",
      "[CV 1/5; 17/30] END .C=1, degree=2, kernel=poly;, score=0.928 total time=  19.3s\n",
      "[CV 2/5; 17/30] START C=1, degree=2, kernel=poly................................\n",
      "[CV 2/5; 17/30] END .C=1, degree=2, kernel=poly;, score=0.936 total time=  20.1s\n",
      "[CV 3/5; 17/30] START C=1, degree=2, kernel=poly................................\n",
      "[CV 3/5; 17/30] END .C=1, degree=2, kernel=poly;, score=0.939 total time=  19.5s\n",
      "[CV 4/5; 17/30] START C=1, degree=2, kernel=poly................................\n",
      "[CV 4/5; 17/30] END .C=1, degree=2, kernel=poly;, score=0.934 total time=  19.3s\n",
      "[CV 5/5; 17/30] START C=1, degree=2, kernel=poly................................\n",
      "[CV 5/5; 17/30] END .C=1, degree=2, kernel=poly;, score=0.934 total time=  19.6s\n",
      "[CV 1/5; 18/30] START C=1, degree=3, kernel=poly................................\n",
      "[CV 1/5; 18/30] END .C=1, degree=3, kernel=poly;, score=0.896 total time=  23.4s\n",
      "[CV 2/5; 18/30] START C=1, degree=3, kernel=poly................................\n",
      "[CV 2/5; 18/30] END .C=1, degree=3, kernel=poly;, score=0.902 total time=  23.6s\n",
      "[CV 3/5; 18/30] START C=1, degree=3, kernel=poly................................\n",
      "[CV 3/5; 18/30] END .C=1, degree=3, kernel=poly;, score=0.905 total time=  23.8s\n",
      "[CV 4/5; 18/30] START C=1, degree=3, kernel=poly................................\n",
      "[CV 4/5; 18/30] END .C=1, degree=3, kernel=poly;, score=0.899 total time=  23.4s\n",
      "[CV 5/5; 18/30] START C=1, degree=3, kernel=poly................................\n",
      "[CV 5/5; 18/30] END .C=1, degree=3, kernel=poly;, score=0.902 total time=  23.7s\n",
      "[CV 1/5; 19/30] START C=10, degree=1, kernel=poly...............................\n",
      "[CV 1/5; 19/30] END C=10, degree=1, kernel=poly;, score=0.946 total time=  12.6s\n",
      "[CV 2/5; 19/30] START C=10, degree=1, kernel=poly...............................\n",
      "[CV 2/5; 19/30] END C=10, degree=1, kernel=poly;, score=0.946 total time=  12.2s\n",
      "[CV 3/5; 19/30] START C=10, degree=1, kernel=poly...............................\n",
      "[CV 3/5; 19/30] END C=10, degree=1, kernel=poly;, score=0.950 total time=  12.2s\n",
      "[CV 4/5; 19/30] START C=10, degree=1, kernel=poly...............................\n",
      "[CV 4/5; 19/30] END C=10, degree=1, kernel=poly;, score=0.939 total time=  12.2s\n",
      "[CV 5/5; 19/30] START C=10, degree=1, kernel=poly...............................\n",
      "[CV 5/5; 19/30] END C=10, degree=1, kernel=poly;, score=0.944 total time=  12.3s\n",
      "[CV 1/5; 20/30] START C=10, degree=2, kernel=poly...............................\n",
      "[CV 1/5; 20/30] END C=10, degree=2, kernel=poly;, score=0.949 total time=  16.0s\n",
      "[CV 2/5; 20/30] START C=10, degree=2, kernel=poly...............................\n",
      "[CV 2/5; 20/30] END C=10, degree=2, kernel=poly;, score=0.948 total time=  15.8s\n",
      "[CV 3/5; 20/30] START C=10, degree=2, kernel=poly...............................\n",
      "[CV 3/5; 20/30] END C=10, degree=2, kernel=poly;, score=0.949 total time=  15.7s\n",
      "[CV 4/5; 20/30] START C=10, degree=2, kernel=poly...............................\n",
      "[CV 4/5; 20/30] END C=10, degree=2, kernel=poly;, score=0.946 total time=  16.0s\n",
      "[CV 5/5; 20/30] START C=10, degree=2, kernel=poly...............................\n",
      "[CV 5/5; 20/30] END C=10, degree=2, kernel=poly;, score=0.951 total time=  15.8s\n",
      "[CV 1/5; 21/30] START C=10, degree=3, kernel=poly...............................\n",
      "[CV 1/5; 21/30] END C=10, degree=3, kernel=poly;, score=0.938 total time=  18.2s\n",
      "[CV 2/5; 21/30] START C=10, degree=3, kernel=poly...............................\n"
     ]
    },
    {
     "name": "stdout",
     "output_type": "stream",
     "text": [
      "[CV 2/5; 21/30] END C=10, degree=3, kernel=poly;, score=0.940 total time=  18.7s\n",
      "[CV 3/5; 21/30] START C=10, degree=3, kernel=poly...............................\n",
      "[CV 3/5; 21/30] END C=10, degree=3, kernel=poly;, score=0.942 total time=  18.7s\n",
      "[CV 4/5; 21/30] START C=10, degree=3, kernel=poly...............................\n",
      "[CV 4/5; 21/30] END C=10, degree=3, kernel=poly;, score=0.937 total time=  18.5s\n",
      "[CV 5/5; 21/30] START C=10, degree=3, kernel=poly...............................\n",
      "[CV 5/5; 21/30] END C=10, degree=3, kernel=poly;, score=0.943 total time=  18.1s\n",
      "[CV 1/5; 22/30] START C=0.1, gamma=0.01, kernel=sigmoid.........................\n",
      "[CV 1/5; 22/30] END C=0.1, gamma=0.01, kernel=sigmoid;, score=0.441 total time=  37.4s\n",
      "[CV 2/5; 22/30] START C=0.1, gamma=0.01, kernel=sigmoid.........................\n",
      "[CV 2/5; 22/30] END C=0.1, gamma=0.01, kernel=sigmoid;, score=0.464 total time=  36.7s\n",
      "[CV 3/5; 22/30] START C=0.1, gamma=0.01, kernel=sigmoid.........................\n",
      "[CV 3/5; 22/30] END C=0.1, gamma=0.01, kernel=sigmoid;, score=0.441 total time=  37.0s\n",
      "[CV 4/5; 22/30] START C=0.1, gamma=0.01, kernel=sigmoid.........................\n",
      "[CV 4/5; 22/30] END C=0.1, gamma=0.01, kernel=sigmoid;, score=0.465 total time=  37.5s\n",
      "[CV 5/5; 22/30] START C=0.1, gamma=0.01, kernel=sigmoid.........................\n",
      "[CV 5/5; 22/30] END C=0.1, gamma=0.01, kernel=sigmoid;, score=0.461 total time=  46.9s\n",
      "[CV 1/5; 23/30] START C=0.1, gamma=1, kernel=sigmoid............................\n",
      "[CV 1/5; 23/30] END C=0.1, gamma=1, kernel=sigmoid;, score=0.027 total time=  47.2s\n",
      "[CV 2/5; 23/30] START C=0.1, gamma=1, kernel=sigmoid............................\n",
      "[CV 2/5; 23/30] END C=0.1, gamma=1, kernel=sigmoid;, score=0.034 total time=  47.1s\n",
      "[CV 3/5; 23/30] START C=0.1, gamma=1, kernel=sigmoid............................\n",
      "[CV 3/5; 23/30] END C=0.1, gamma=1, kernel=sigmoid;, score=0.032 total time=  47.6s\n",
      "[CV 4/5; 23/30] START C=0.1, gamma=1, kernel=sigmoid............................\n",
      "[CV 4/5; 23/30] END C=0.1, gamma=1, kernel=sigmoid;, score=0.033 total time=  46.4s\n",
      "[CV 5/5; 23/30] START C=0.1, gamma=1, kernel=sigmoid............................\n",
      "[CV 5/5; 23/30] END C=0.1, gamma=1, kernel=sigmoid;, score=0.035 total time=  44.2s\n",
      "[CV 1/5; 24/30] START C=0.1, gamma=10, kernel=sigmoid...........................\n",
      "[CV 1/5; 24/30] END C=0.1, gamma=10, kernel=sigmoid;, score=0.028 total time=  41.4s\n",
      "[CV 2/5; 24/30] START C=0.1, gamma=10, kernel=sigmoid...........................\n",
      "[CV 2/5; 24/30] END C=0.1, gamma=10, kernel=sigmoid;, score=0.035 total time=  40.2s\n",
      "[CV 3/5; 24/30] START C=0.1, gamma=10, kernel=sigmoid...........................\n",
      "[CV 3/5; 24/30] END C=0.1, gamma=10, kernel=sigmoid;, score=0.031 total time=  40.4s\n",
      "[CV 4/5; 24/30] START C=0.1, gamma=10, kernel=sigmoid...........................\n",
      "[CV 4/5; 24/30] END C=0.1, gamma=10, kernel=sigmoid;, score=0.038 total time=  40.2s\n",
      "[CV 5/5; 24/30] START C=0.1, gamma=10, kernel=sigmoid...........................\n",
      "[CV 5/5; 24/30] END C=0.1, gamma=10, kernel=sigmoid;, score=0.036 total time=  42.7s\n",
      "[CV 1/5; 25/30] START C=1, gamma=0.01, kernel=sigmoid...........................\n",
      "[CV 1/5; 25/30] END C=1, gamma=0.01, kernel=sigmoid;, score=0.306 total time=  25.7s\n",
      "[CV 2/5; 25/30] START C=1, gamma=0.01, kernel=sigmoid...........................\n",
      "[CV 2/5; 25/30] END C=1, gamma=0.01, kernel=sigmoid;, score=0.320 total time=  26.6s\n",
      "[CV 3/5; 25/30] START C=1, gamma=0.01, kernel=sigmoid...........................\n",
      "[CV 3/5; 25/30] END C=1, gamma=0.01, kernel=sigmoid;, score=0.312 total time=  25.1s\n",
      "[CV 4/5; 25/30] START C=1, gamma=0.01, kernel=sigmoid...........................\n",
      "[CV 4/5; 25/30] END C=1, gamma=0.01, kernel=sigmoid;, score=0.308 total time=  25.4s\n",
      "[CV 5/5; 25/30] START C=1, gamma=0.01, kernel=sigmoid...........................\n",
      "[CV 5/5; 25/30] END C=1, gamma=0.01, kernel=sigmoid;, score=0.315 total time=  25.3s\n",
      "[CV 1/5; 26/30] START C=1, gamma=1, kernel=sigmoid..............................\n",
      "[CV 1/5; 26/30] END C=1, gamma=1, kernel=sigmoid;, score=0.036 total time=  33.4s\n",
      "[CV 2/5; 26/30] START C=1, gamma=1, kernel=sigmoid..............................\n",
      "[CV 2/5; 26/30] END C=1, gamma=1, kernel=sigmoid;, score=0.035 total time=  35.0s\n",
      "[CV 3/5; 26/30] START C=1, gamma=1, kernel=sigmoid..............................\n",
      "[CV 3/5; 26/30] END C=1, gamma=1, kernel=sigmoid;, score=0.034 total time=  34.4s\n",
      "[CV 4/5; 26/30] START C=1, gamma=1, kernel=sigmoid..............................\n",
      "[CV 4/5; 26/30] END C=1, gamma=1, kernel=sigmoid;, score=0.039 total time=  33.3s\n",
      "[CV 5/5; 26/30] START C=1, gamma=1, kernel=sigmoid..............................\n",
      "[CV 5/5; 26/30] END C=1, gamma=1, kernel=sigmoid;, score=0.048 total time=  33.1s\n",
      "[CV 1/5; 27/30] START C=1, gamma=10, kernel=sigmoid.............................\n",
      "[CV 1/5; 27/30] END C=1, gamma=10, kernel=sigmoid;, score=0.035 total time=  31.1s\n",
      "[CV 2/5; 27/30] START C=1, gamma=10, kernel=sigmoid.............................\n",
      "[CV 2/5; 27/30] END C=1, gamma=10, kernel=sigmoid;, score=0.039 total time=  32.5s\n",
      "[CV 3/5; 27/30] START C=1, gamma=10, kernel=sigmoid.............................\n",
      "[CV 3/5; 27/30] END C=1, gamma=10, kernel=sigmoid;, score=0.037 total time=  32.8s\n",
      "[CV 4/5; 27/30] START C=1, gamma=10, kernel=sigmoid.............................\n",
      "[CV 4/5; 27/30] END C=1, gamma=10, kernel=sigmoid;, score=0.041 total time=  32.1s\n",
      "[CV 5/5; 27/30] START C=1, gamma=10, kernel=sigmoid.............................\n",
      "[CV 5/5; 27/30] END C=1, gamma=10, kernel=sigmoid;, score=0.044 total time=  31.1s\n",
      "[CV 1/5; 28/30] START C=10, gamma=0.01, kernel=sigmoid..........................\n",
      "[CV 1/5; 28/30] END C=10, gamma=0.01, kernel=sigmoid;, score=0.285 total time=  21.8s\n",
      "[CV 2/5; 28/30] START C=10, gamma=0.01, kernel=sigmoid..........................\n",
      "[CV 2/5; 28/30] END C=10, gamma=0.01, kernel=sigmoid;, score=0.313 total time=  22.8s\n",
      "[CV 3/5; 28/30] START C=10, gamma=0.01, kernel=sigmoid..........................\n",
      "[CV 3/5; 28/30] END C=10, gamma=0.01, kernel=sigmoid;, score=0.300 total time=  28.1s\n",
      "[CV 4/5; 28/30] START C=10, gamma=0.01, kernel=sigmoid..........................\n",
      "[CV 4/5; 28/30] END C=10, gamma=0.01, kernel=sigmoid;, score=0.290 total time=  22.4s\n",
      "[CV 5/5; 28/30] START C=10, gamma=0.01, kernel=sigmoid..........................\n",
      "[CV 5/5; 28/30] END C=10, gamma=0.01, kernel=sigmoid;, score=0.299 total time=  22.4s\n",
      "[CV 1/5; 29/30] START C=10, gamma=1, kernel=sigmoid.............................\n",
      "[CV 1/5; 29/30] END C=10, gamma=1, kernel=sigmoid;, score=0.035 total time=  33.5s\n",
      "[CV 2/5; 29/30] START C=10, gamma=1, kernel=sigmoid.............................\n",
      "[CV 2/5; 29/30] END C=10, gamma=1, kernel=sigmoid;, score=0.037 total time=  32.8s\n",
      "[CV 3/5; 29/30] START C=10, gamma=1, kernel=sigmoid.............................\n",
      "[CV 3/5; 29/30] END C=10, gamma=1, kernel=sigmoid;, score=0.034 total time=  33.4s\n",
      "[CV 4/5; 29/30] START C=10, gamma=1, kernel=sigmoid.............................\n",
      "[CV 4/5; 29/30] END C=10, gamma=1, kernel=sigmoid;, score=0.043 total time=  32.5s\n",
      "[CV 5/5; 29/30] START C=10, gamma=1, kernel=sigmoid.............................\n",
      "[CV 5/5; 29/30] END C=10, gamma=1, kernel=sigmoid;, score=0.049 total time=  32.9s\n",
      "[CV 1/5; 30/30] START C=10, gamma=10, kernel=sigmoid............................\n",
      "[CV 1/5; 30/30] END C=10, gamma=10, kernel=sigmoid;, score=0.036 total time=  31.4s\n",
      "[CV 2/5; 30/30] START C=10, gamma=10, kernel=sigmoid............................\n",
      "[CV 2/5; 30/30] END C=10, gamma=10, kernel=sigmoid;, score=0.042 total time=  31.2s\n",
      "[CV 3/5; 30/30] START C=10, gamma=10, kernel=sigmoid............................\n",
      "[CV 3/5; 30/30] END C=10, gamma=10, kernel=sigmoid;, score=0.037 total time=  32.2s\n",
      "[CV 4/5; 30/30] START C=10, gamma=10, kernel=sigmoid............................\n",
      "[CV 4/5; 30/30] END C=10, gamma=10, kernel=sigmoid;, score=0.043 total time=  32.2s\n",
      "[CV 5/5; 30/30] START C=10, gamma=10, kernel=sigmoid............................\n",
      "[CV 5/5; 30/30] END C=10, gamma=10, kernel=sigmoid;, score=0.044 total time=  33.3s\n"
     ]
    },
    {
     "data": {
      "text/plain": [
       "GridSearchCV(estimator=SVC(),\n",
       "             param_grid=[{'C': [0.1, 1, 10], 'kernel': ['linear']},\n",
       "                         {'C': [0.1, 1, 10], 'gamma': [0.01, 1, 10],\n",
       "                          'kernel': ['rbf']},\n",
       "                         {'C': [0.1, 1, 10], 'degree': [1, 2, 3],\n",
       "                          'kernel': ['poly']},\n",
       "                         {'C': [0.1, 1, 10], 'gamma': [0.01, 1, 10],\n",
       "                          'kernel': ['sigmoid']}],\n",
       "             scoring='accuracy', verbose=10)"
      ]
     },
     "execution_count": 24,
     "metadata": {},
     "output_type": "execute_result"
    }
   ],
   "source": [
    "linear_grid = SVC()\n",
    "clf = GridSearchCV(linear_grid, parameters, scoring='accuracy', verbose=10)\n",
    "clf.fit(train_x_compr, y_train_)"
   ]
  },
  {
   "cell_type": "code",
   "execution_count": 25,
   "id": "da63e11c",
   "metadata": {},
   "outputs": [
    {
     "data": {
      "text/plain": [
       "SVC(C=10, degree=2, kernel='poly')"
      ]
     },
     "execution_count": 25,
     "metadata": {},
     "output_type": "execute_result"
    }
   ],
   "source": [
    "clf.best_estimator_"
   ]
  },
  {
   "cell_type": "code",
   "execution_count": 26,
   "id": "8a5a3334",
   "metadata": {},
   "outputs": [
    {
     "data": {
      "text/plain": [
       "0.948642676311272"
      ]
     },
     "execution_count": 26,
     "metadata": {},
     "output_type": "execute_result"
    }
   ],
   "source": [
    "clf.best_score_"
   ]
  },
  {
   "cell_type": "code",
   "execution_count": 27,
   "id": "877c63bf",
   "metadata": {},
   "outputs": [
    {
     "data": {
      "text/plain": [
       "{'C': 10, 'degree': 2, 'kernel': 'poly'}"
      ]
     },
     "execution_count": 27,
     "metadata": {},
     "output_type": "execute_result"
    }
   ],
   "source": [
    "clf.best_params_"
   ]
  },
  {
   "cell_type": "markdown",
   "id": "16aadd3a",
   "metadata": {},
   "source": [
    "### Cross valid"
   ]
  },
  {
   "cell_type": "code",
   "execution_count": 52,
   "id": "87678a40",
   "metadata": {},
   "outputs": [],
   "source": [
    "linear_model_kfold = SVC(kernel='linear', C=1, decision_function_shape='ovo')"
   ]
  },
  {
   "cell_type": "code",
   "execution_count": 53,
   "id": "1fb246c1",
   "metadata": {},
   "outputs": [],
   "source": [
    "k_fold = StratifiedKFold(n_splits=5, random_state=12, shuffle=True)"
   ]
  },
  {
   "cell_type": "code",
   "execution_count": 54,
   "id": "e18ab35f",
   "metadata": {},
   "outputs": [
    {
     "name": "stdout",
     "output_type": "stream",
     "text": [
      "Fold 1\n",
      "-------------\n",
      "Fold 2\n",
      "-------------\n",
      "Fold 3\n",
      "-------------\n",
      "Fold 4\n",
      "-------------\n",
      "Fold 5\n",
      "-------------\n"
     ]
    }
   ],
   "source": [
    "train_acc_arr = []\n",
    "coun = 1\n",
    "for k_train_index, k_val_index in k_fold.split(train_x_compr, y_train_):\n",
    "    print(f'Fold {coun}')\n",
    "    \n",
    "    linear_model_kfold.fit(train_x_compr[k_train_index,:], y_train_[k_train_index])\n",
    "    \n",
    "    train_acc = linear_model_kfold.score(train_x_compr, y_train_)\n",
    "    train_acc_arr.append(train_acc)\n",
    "    \n",
    "    print('-------------')\n",
    "    coun +=1"
   ]
  },
  {
   "cell_type": "code",
   "execution_count": null,
   "id": "57d138cf",
   "metadata": {},
   "outputs": [],
   "source": []
  },
  {
   "cell_type": "markdown",
   "id": "5cbdcb1c",
   "metadata": {},
   "source": [
    "### KNN"
   ]
  },
  {
   "cell_type": "code",
   "execution_count": 102,
   "id": "3c447806",
   "metadata": {},
   "outputs": [],
   "source": [
    "num_classes = len(np.unique(y_train_))\n",
    "knn_model = KNeighborsClassifier(n_neighbors=num_classes, weights='distance', algorithm='kd_tree', n_jobs=-1)"
   ]
  },
  {
   "cell_type": "code",
   "execution_count": 103,
   "id": "2e0cf36e",
   "metadata": {},
   "outputs": [
    {
     "data": {
      "text/plain": [
       "KNeighborsClassifier(algorithm='kd_tree', n_jobs=-1, n_neighbors=62,\n",
       "                     weights='distance')"
      ]
     },
     "execution_count": 103,
     "metadata": {},
     "output_type": "execute_result"
    }
   ],
   "source": [
    "knn_model.fit(train_x_compr, y_train_)"
   ]
  },
  {
   "cell_type": "code",
   "execution_count": 104,
   "id": "3064ad6c",
   "metadata": {},
   "outputs": [],
   "source": [
    "knn_predict= knn_model.predict(test_x_compr)"
   ]
  },
  {
   "cell_type": "code",
   "execution_count": 105,
   "id": "d96f2803",
   "metadata": {},
   "outputs": [
    {
     "data": {
      "text/plain": [
       "array([33, 51, 47, ..., 53, 55, 32])"
      ]
     },
     "execution_count": 105,
     "metadata": {},
     "output_type": "execute_result"
    }
   ],
   "source": [
    "knn_predict"
   ]
  },
  {
   "cell_type": "code",
   "execution_count": 106,
   "id": "5ef31a34",
   "metadata": {},
   "outputs": [
    {
     "data": {
      "text/plain": [
       "0.8591624433182182"
      ]
     },
     "execution_count": 106,
     "metadata": {},
     "output_type": "execute_result"
    }
   ],
   "source": [
    "knn_model.score(test_x_compr, y_test_)"
   ]
  },
  {
   "cell_type": "code",
   "execution_count": null,
   "id": "853a66ce",
   "metadata": {},
   "outputs": [],
   "source": []
  },
  {
   "cell_type": "code",
   "execution_count": null,
   "id": "6318ab3b",
   "metadata": {},
   "outputs": [],
   "source": []
  },
  {
   "cell_type": "code",
   "execution_count": null,
   "id": "4ca75e1b",
   "metadata": {},
   "outputs": [],
   "source": []
  },
  {
   "cell_type": "markdown",
   "id": "04114319",
   "metadata": {},
   "source": [
    "### Prepare data for submission"
   ]
  },
  {
   "cell_type": "code",
   "execution_count": 24,
   "id": "79c820dc",
   "metadata": {},
   "outputs": [
    {
     "data": {
      "text/plain": [
       "6220"
      ]
     },
     "execution_count": 24,
     "metadata": {},
     "output_type": "execute_result"
    }
   ],
   "source": [
    "def get_imnames():\n",
    "    txtfiles = []\n",
    "    for file in glob.glob(TEST_IMG_PATH + \"*.Bmp\"):\n",
    "        file = file.split('\\\\')[-1][:-4] #get only filename\n",
    "        txtfiles.append(file)\n",
    "        \n",
    "    return txtfiles\n",
    "\n",
    "txtfiles = get_imnames()\n",
    "len(txtfiles)"
   ]
  },
  {
   "cell_type": "code",
   "execution_count": 25,
   "id": "59a151c6",
   "metadata": {},
   "outputs": [],
   "source": [
    "presub_df = pd.DataFrame()\n",
    "presub_df['id'] = txtfiles\n",
    "presub_df['id'] = pd.to_numeric(presub_df['id'])\n",
    "presub_df['img'] = [TEST_IMG_PATH + str(id_) + '.Bmp' for id_ in presub_df['id'].values]\n",
    "presub_df.sort_values(by=['id'], inplace=True)\n",
    "presub_df.reset_index(inplace=True, drop=True)"
   ]
  },
  {
   "cell_type": "code",
   "execution_count": 26,
   "id": "194483d0",
   "metadata": {},
   "outputs": [
    {
     "data": {
      "text/html": [
       "<div>\n",
       "<style scoped>\n",
       "    .dataframe tbody tr th:only-of-type {\n",
       "        vertical-align: middle;\n",
       "    }\n",
       "\n",
       "    .dataframe tbody tr th {\n",
       "        vertical-align: top;\n",
       "    }\n",
       "\n",
       "    .dataframe thead th {\n",
       "        text-align: right;\n",
       "    }\n",
       "</style>\n",
       "<table border=\"1\" class=\"dataframe\">\n",
       "  <thead>\n",
       "    <tr style=\"text-align: right;\">\n",
       "      <th></th>\n",
       "      <th>id</th>\n",
       "      <th>img</th>\n",
       "    </tr>\n",
       "  </thead>\n",
       "  <tbody>\n",
       "    <tr>\n",
       "      <th>0</th>\n",
       "      <td>6284</td>\n",
       "      <td>./data/street-view-getting-started-with-julia/...</td>\n",
       "    </tr>\n",
       "    <tr>\n",
       "      <th>1</th>\n",
       "      <td>6285</td>\n",
       "      <td>./data/street-view-getting-started-with-julia/...</td>\n",
       "    </tr>\n",
       "    <tr>\n",
       "      <th>2</th>\n",
       "      <td>6286</td>\n",
       "      <td>./data/street-view-getting-started-with-julia/...</td>\n",
       "    </tr>\n",
       "    <tr>\n",
       "      <th>3</th>\n",
       "      <td>6287</td>\n",
       "      <td>./data/street-view-getting-started-with-julia/...</td>\n",
       "    </tr>\n",
       "    <tr>\n",
       "      <th>4</th>\n",
       "      <td>6288</td>\n",
       "      <td>./data/street-view-getting-started-with-julia/...</td>\n",
       "    </tr>\n",
       "    <tr>\n",
       "      <th>...</th>\n",
       "      <td>...</td>\n",
       "      <td>...</td>\n",
       "    </tr>\n",
       "    <tr>\n",
       "      <th>6215</th>\n",
       "      <td>12499</td>\n",
       "      <td>./data/street-view-getting-started-with-julia/...</td>\n",
       "    </tr>\n",
       "    <tr>\n",
       "      <th>6216</th>\n",
       "      <td>12500</td>\n",
       "      <td>./data/street-view-getting-started-with-julia/...</td>\n",
       "    </tr>\n",
       "    <tr>\n",
       "      <th>6217</th>\n",
       "      <td>12501</td>\n",
       "      <td>./data/street-view-getting-started-with-julia/...</td>\n",
       "    </tr>\n",
       "    <tr>\n",
       "      <th>6218</th>\n",
       "      <td>12502</td>\n",
       "      <td>./data/street-view-getting-started-with-julia/...</td>\n",
       "    </tr>\n",
       "    <tr>\n",
       "      <th>6219</th>\n",
       "      <td>12503</td>\n",
       "      <td>./data/street-view-getting-started-with-julia/...</td>\n",
       "    </tr>\n",
       "  </tbody>\n",
       "</table>\n",
       "<p>6220 rows × 2 columns</p>\n",
       "</div>"
      ],
      "text/plain": [
       "         id                                                img\n",
       "0      6284  ./data/street-view-getting-started-with-julia/...\n",
       "1      6285  ./data/street-view-getting-started-with-julia/...\n",
       "2      6286  ./data/street-view-getting-started-with-julia/...\n",
       "3      6287  ./data/street-view-getting-started-with-julia/...\n",
       "4      6288  ./data/street-view-getting-started-with-julia/...\n",
       "...     ...                                                ...\n",
       "6215  12499  ./data/street-view-getting-started-with-julia/...\n",
       "6216  12500  ./data/street-view-getting-started-with-julia/...\n",
       "6217  12501  ./data/street-view-getting-started-with-julia/...\n",
       "6218  12502  ./data/street-view-getting-started-with-julia/...\n",
       "6219  12503  ./data/street-view-getting-started-with-julia/...\n",
       "\n",
       "[6220 rows x 2 columns]"
      ]
     },
     "execution_count": 26,
     "metadata": {},
     "output_type": "execute_result"
    }
   ],
   "source": [
    "presub_df"
   ]
  },
  {
   "cell_type": "code",
   "execution_count": null,
   "id": "9ba5a9a0",
   "metadata": {},
   "outputs": [],
   "source": []
  },
  {
   "cell_type": "markdown",
   "id": "52da66f0",
   "metadata": {},
   "source": [
    "#### Check grey imgs"
   ]
  },
  {
   "cell_type": "code",
   "execution_count": 27,
   "id": "6efe58bc",
   "metadata": {},
   "outputs": [
    {
     "data": {
      "text/plain": [
       "[]"
      ]
     },
     "execution_count": 27,
     "metadata": {},
     "output_type": "execute_result"
    }
   ],
   "source": [
    "grey_imgs = check_grey_imgs(presub_df[['img']])\n",
    "grey_imgs"
   ]
  },
  {
   "cell_type": "code",
   "execution_count": 28,
   "id": "1fb01597",
   "metadata": {},
   "outputs": [
    {
     "data": {
      "text/plain": [
       "(6220, 20, 20, 3)"
      ]
     },
     "execution_count": 28,
     "metadata": {},
     "output_type": "execute_result"
    }
   ],
   "source": [
    "X_sub = np.asarray([transform_image(i).tolist() for i in presub_df['img'].values])\n",
    "X_sub.shape"
   ]
  },
  {
   "cell_type": "code",
   "execution_count": null,
   "id": "5d03da4a",
   "metadata": {},
   "outputs": [],
   "source": []
  },
  {
   "cell_type": "markdown",
   "id": "2a2d5173",
   "metadata": {},
   "source": [
    "### Extract features from X_sub"
   ]
  },
  {
   "cell_type": "code",
   "execution_count": 31,
   "id": "da791a31",
   "metadata": {},
   "outputs": [
    {
     "data": {
      "text/plain": [
       "(6220, 256)"
      ]
     },
     "execution_count": 31,
     "metadata": {},
     "output_type": "execute_result"
    }
   ],
   "source": [
    "X_sub_compr = new_model2.predict(X_sub)\n",
    "X_sub_compr.shape"
   ]
  },
  {
   "cell_type": "code",
   "execution_count": 32,
   "id": "2d7919ee",
   "metadata": {},
   "outputs": [],
   "source": []
  },
  {
   "cell_type": "code",
   "execution_count": null,
   "id": "27296693",
   "metadata": {},
   "outputs": [],
   "source": []
  },
  {
   "cell_type": "code",
   "execution_count": null,
   "id": "8e256d5e",
   "metadata": {},
   "outputs": [],
   "source": []
  },
  {
   "cell_type": "markdown",
   "id": "f300e0cf",
   "metadata": {},
   "source": [
    "### Make prediction"
   ]
  },
  {
   "cell_type": "code",
   "execution_count": 38,
   "id": "dce9aa6f",
   "metadata": {},
   "outputs": [],
   "source": [
    "linear_sub_pred = linear.predict(X_sub_compr)"
   ]
  },
  {
   "cell_type": "code",
   "execution_count": 39,
   "id": "83422b1c",
   "metadata": {},
   "outputs": [
    {
     "data": {
      "text/plain": [
       "array([17, 14, 18, ..., 27, 23, 22])"
      ]
     },
     "execution_count": 39,
     "metadata": {},
     "output_type": "execute_result"
    }
   ],
   "source": [
    "linear_sub_pred"
   ]
  },
  {
   "cell_type": "code",
   "execution_count": 40,
   "id": "fe2ec09b",
   "metadata": {},
   "outputs": [],
   "source": [
    "sub_labels_inv = label_enc.inverse_transform(linear_sub_pred)"
   ]
  },
  {
   "cell_type": "code",
   "execution_count": 41,
   "id": "538e8d5a",
   "metadata": {},
   "outputs": [
    {
     "data": {
      "text/plain": [
       "array(['H', 'E', 'I', ..., 'R', 'N', 'M'], dtype=object)"
      ]
     },
     "execution_count": 41,
     "metadata": {},
     "output_type": "execute_result"
    }
   ],
   "source": [
    "sub_labels_inv"
   ]
  },
  {
   "cell_type": "code",
   "execution_count": null,
   "id": "9397376a",
   "metadata": {},
   "outputs": [],
   "source": []
  },
  {
   "cell_type": "markdown",
   "id": "8724eb37",
   "metadata": {},
   "source": [
    "### Make prediction kfold"
   ]
  },
  {
   "cell_type": "code",
   "execution_count": 55,
   "id": "8693a5e8",
   "metadata": {},
   "outputs": [
    {
     "data": {
      "text/plain": [
       "array([17, 14, 18, ..., 27, 23, 22])"
      ]
     },
     "execution_count": 55,
     "metadata": {},
     "output_type": "execute_result"
    }
   ],
   "source": [
    "linear_kfold_sub_pred = linear_model_kfold.predict(X_sub_compr)\n",
    "linear_kfold_sub_pred"
   ]
  },
  {
   "cell_type": "code",
   "execution_count": 56,
   "id": "965a2ffb",
   "metadata": {},
   "outputs": [
    {
     "data": {
      "text/plain": [
       "array(['H', 'E', 'I', ..., 'R', 'N', 'M'], dtype=object)"
      ]
     },
     "execution_count": 56,
     "metadata": {},
     "output_type": "execute_result"
    }
   ],
   "source": [
    "kfold_sub_labels_inv = label_enc.inverse_transform(linear_kfold_sub_pred)\n",
    "kfold_sub_labels_inv"
   ]
  },
  {
   "cell_type": "code",
   "execution_count": null,
   "id": "fa85e3b2",
   "metadata": {},
   "outputs": [],
   "source": []
  },
  {
   "cell_type": "markdown",
   "id": "7890b7fc",
   "metadata": {},
   "source": [
    "### Create submission file"
   ]
  },
  {
   "cell_type": "code",
   "execution_count": 57,
   "id": "682a7830",
   "metadata": {},
   "outputs": [
    {
     "data": {
      "text/html": [
       "<div>\n",
       "<style scoped>\n",
       "    .dataframe tbody tr th:only-of-type {\n",
       "        vertical-align: middle;\n",
       "    }\n",
       "\n",
       "    .dataframe tbody tr th {\n",
       "        vertical-align: top;\n",
       "    }\n",
       "\n",
       "    .dataframe thead th {\n",
       "        text-align: right;\n",
       "    }\n",
       "</style>\n",
       "<table border=\"1\" class=\"dataframe\">\n",
       "  <thead>\n",
       "    <tr style=\"text-align: right;\">\n",
       "      <th></th>\n",
       "      <th>Class</th>\n",
       "    </tr>\n",
       "    <tr>\n",
       "      <th>ID</th>\n",
       "      <th></th>\n",
       "    </tr>\n",
       "  </thead>\n",
       "  <tbody>\n",
       "    <tr>\n",
       "      <th>6284</th>\n",
       "      <td>H</td>\n",
       "    </tr>\n",
       "    <tr>\n",
       "      <th>6285</th>\n",
       "      <td>E</td>\n",
       "    </tr>\n",
       "    <tr>\n",
       "      <th>6286</th>\n",
       "      <td>I</td>\n",
       "    </tr>\n",
       "    <tr>\n",
       "      <th>6287</th>\n",
       "      <td>d</td>\n",
       "    </tr>\n",
       "    <tr>\n",
       "      <th>6288</th>\n",
       "      <td>T</td>\n",
       "    </tr>\n",
       "    <tr>\n",
       "      <th>...</th>\n",
       "      <td>...</td>\n",
       "    </tr>\n",
       "    <tr>\n",
       "      <th>12499</th>\n",
       "      <td>0</td>\n",
       "    </tr>\n",
       "    <tr>\n",
       "      <th>12500</th>\n",
       "      <td>o</td>\n",
       "    </tr>\n",
       "    <tr>\n",
       "      <th>12501</th>\n",
       "      <td>R</td>\n",
       "    </tr>\n",
       "    <tr>\n",
       "      <th>12502</th>\n",
       "      <td>N</td>\n",
       "    </tr>\n",
       "    <tr>\n",
       "      <th>12503</th>\n",
       "      <td>M</td>\n",
       "    </tr>\n",
       "  </tbody>\n",
       "</table>\n",
       "<p>6220 rows × 1 columns</p>\n",
       "</div>"
      ],
      "text/plain": [
       "      Class\n",
       "ID         \n",
       "6284      H\n",
       "6285      E\n",
       "6286      I\n",
       "6287      d\n",
       "6288      T\n",
       "...     ...\n",
       "12499     0\n",
       "12500     o\n",
       "12501     R\n",
       "12502     N\n",
       "12503     M\n",
       "\n",
       "[6220 rows x 1 columns]"
      ]
     },
     "execution_count": 57,
     "metadata": {},
     "output_type": "execute_result"
    }
   ],
   "source": [
    "sub_df = pd.DataFrame()\n",
    "sub_df['ID'] = presub_df['id']\n",
    "sub_df['Class'] = kfold_sub_labels_inv\n",
    "sub_df.set_index('ID', inplace=True)\n",
    "sub_df"
   ]
  },
  {
   "cell_type": "code",
   "execution_count": 58,
   "id": "98fa621e",
   "metadata": {},
   "outputs": [],
   "source": [
    "sub_df.to_csv('submission_cnn_svc.csv')"
   ]
  },
  {
   "cell_type": "code",
   "execution_count": null,
   "id": "bf449801",
   "metadata": {},
   "outputs": [],
   "source": []
  },
  {
   "cell_type": "code",
   "execution_count": null,
   "id": "caee1e5b",
   "metadata": {},
   "outputs": [],
   "source": []
  },
  {
   "cell_type": "code",
   "execution_count": null,
   "id": "0beadd2f",
   "metadata": {},
   "outputs": [],
   "source": []
  }
 ],
 "metadata": {
  "kernelspec": {
   "display_name": "Python 3 (ipykernel)",
   "language": "python",
   "name": "python3"
  },
  "language_info": {
   "codemirror_mode": {
    "name": "ipython",
    "version": 3
   },
   "file_extension": ".py",
   "mimetype": "text/x-python",
   "name": "python",
   "nbconvert_exporter": "python",
   "pygments_lexer": "ipython3",
   "version": "3.7.9"
  }
 },
 "nbformat": 4,
 "nbformat_minor": 5
}
