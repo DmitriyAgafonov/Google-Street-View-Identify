{
 "cells": [
  {
   "cell_type": "code",
   "execution_count": 1,
   "id": "9e02c167",
   "metadata": {},
   "outputs": [],
   "source": [
    "#load packages\n",
    "%matplotlib inline\n",
    "\n",
    "import numpy as np\n",
    "import pandas as pd\n",
    "from sklearn.preprocessing import LabelEncoder\n",
    "from sklearn.utils import shuffle\n",
    "from skimage.io import imread, imshow\n",
    "from skimage.filters import prewitt_h,prewitt_v\n",
    "import cv2\n",
    "\n",
    "from PIL import Image\n",
    "import matplotlib.pyplot as plt\n",
    "import seaborn as sns\n",
    "\n",
    "\n",
    "import glob\n",
    "import os"
   ]
  },
  {
   "cell_type": "markdown",
   "id": "098e17cc",
   "metadata": {},
   "source": [
    "### Evaluation"
   ]
  },
  {
   "attachments": {
    "image.png": {
     "image/png": "[encoded data removed]"
    }
   },
   "cell_type": "markdown",
   "id": "aef0ec8a",
   "metadata": {},
   "source": [
    "![image.png](attachment:image.png)"
   ]
  },
  {
   "cell_type": "code",
   "execution_count": null,
   "id": "66207273",
   "metadata": {},
   "outputs": [],
   "source": []
  },
  {
   "cell_type": "code",
   "execution_count": 2,
   "id": "ac0182d8",
   "metadata": {},
   "outputs": [],
   "source": [
    "# general_path = os.getcwd()\n",
    "# general_path"
   ]
  },
  {
   "cell_type": "code",
   "execution_count": 39,
   "id": "82802adf",
   "metadata": {},
   "outputs": [],
   "source": [
    "#path to data\n",
    "\n",
    "TRAIN_LABELS_PATH = './data/street-view-getting-started-with-julia/trainLabels.csv'\n",
    "TRAIN_IMG_PATH = './data/street-view-getting-started-with-julia/trainResized/'\n",
    "TEST_IMG_PATH = './data/street-view-getting-started-with-julia/testResized/'"
   ]
  },
  {
   "cell_type": "code",
   "execution_count": 40,
   "id": "2524de2c",
   "metadata": {},
   "outputs": [
    {
     "data": {
      "text/html": [
       "<div>\n",
       "<style scoped>\n",
       "    .dataframe tbody tr th:only-of-type {\n",
       "        vertical-align: middle;\n",
       "    }\n",
       "\n",
       "    .dataframe tbody tr th {\n",
       "        vertical-align: top;\n",
       "    }\n",
       "\n",
       "    .dataframe thead th {\n",
       "        text-align: right;\n",
       "    }\n",
       "</style>\n",
       "<table border=\"1\" class=\"dataframe\">\n",
       "  <thead>\n",
       "    <tr style=\"text-align: right;\">\n",
       "      <th></th>\n",
       "      <th>ID</th>\n",
       "      <th>Class</th>\n",
       "    </tr>\n",
       "  </thead>\n",
       "  <tbody>\n",
       "    <tr>\n",
       "      <th>0</th>\n",
       "      <td>1</td>\n",
       "      <td>n</td>\n",
       "    </tr>\n",
       "    <tr>\n",
       "      <th>1</th>\n",
       "      <td>2</td>\n",
       "      <td>8</td>\n",
       "    </tr>\n",
       "    <tr>\n",
       "      <th>2</th>\n",
       "      <td>3</td>\n",
       "      <td>T</td>\n",
       "    </tr>\n",
       "    <tr>\n",
       "      <th>3</th>\n",
       "      <td>4</td>\n",
       "      <td>I</td>\n",
       "    </tr>\n",
       "    <tr>\n",
       "      <th>4</th>\n",
       "      <td>5</td>\n",
       "      <td>R</td>\n",
       "    </tr>\n",
       "    <tr>\n",
       "      <th>...</th>\n",
       "      <td>...</td>\n",
       "      <td>...</td>\n",
       "    </tr>\n",
       "    <tr>\n",
       "      <th>6278</th>\n",
       "      <td>6279</td>\n",
       "      <td>N</td>\n",
       "    </tr>\n",
       "    <tr>\n",
       "      <th>6279</th>\n",
       "      <td>6280</td>\n",
       "      <td>I</td>\n",
       "    </tr>\n",
       "    <tr>\n",
       "      <th>6280</th>\n",
       "      <td>6281</td>\n",
       "      <td>P</td>\n",
       "    </tr>\n",
       "    <tr>\n",
       "      <th>6281</th>\n",
       "      <td>6282</td>\n",
       "      <td>N</td>\n",
       "    </tr>\n",
       "    <tr>\n",
       "      <th>6282</th>\n",
       "      <td>6283</td>\n",
       "      <td>R</td>\n",
       "    </tr>\n",
       "  </tbody>\n",
       "</table>\n",
       "<p>6283 rows × 2 columns</p>\n",
       "</div>"
      ],
      "text/plain": [
       "        ID Class\n",
       "0        1     n\n",
       "1        2     8\n",
       "2        3     T\n",
       "3        4     I\n",
       "4        5     R\n",
       "...    ...   ...\n",
       "6278  6279     N\n",
       "6279  6280     I\n",
       "6280  6281     P\n",
       "6281  6282     N\n",
       "6282  6283     R\n",
       "\n",
       "[6283 rows x 2 columns]"
      ]
     },
     "execution_count": 40,
     "metadata": {},
     "output_type": "execute_result"
    }
   ],
   "source": [
    "train_labels_df = pd.read_csv(TRAIN_LABELS_PATH,  index_col='ID')\n",
    "train_labels_df.reset_index(inplace=True)\n",
    "train_labels_df"
   ]
  },
  {
   "cell_type": "markdown",
   "id": "02f6a4e1",
   "metadata": {},
   "source": [
    "#### Delete invalid images"
   ]
  },
  {
   "cell_type": "code",
   "execution_count": 41,
   "id": "2adcee24",
   "metadata": {},
   "outputs": [
    {
     "data": {
      "text/html": [
       "<div>\n",
       "<style scoped>\n",
       "    .dataframe tbody tr th:only-of-type {\n",
       "        vertical-align: middle;\n",
       "    }\n",
       "\n",
       "    .dataframe tbody tr th {\n",
       "        vertical-align: top;\n",
       "    }\n",
       "\n",
       "    .dataframe thead th {\n",
       "        text-align: right;\n",
       "    }\n",
       "</style>\n",
       "<table border=\"1\" class=\"dataframe\">\n",
       "  <thead>\n",
       "    <tr style=\"text-align: right;\">\n",
       "      <th></th>\n",
       "      <th>ID</th>\n",
       "      <th>Class</th>\n",
       "    </tr>\n",
       "  </thead>\n",
       "  <tbody>\n",
       "    <tr>\n",
       "      <th>0</th>\n",
       "      <td>1</td>\n",
       "      <td>n</td>\n",
       "    </tr>\n",
       "    <tr>\n",
       "      <th>1</th>\n",
       "      <td>2</td>\n",
       "      <td>8</td>\n",
       "    </tr>\n",
       "    <tr>\n",
       "      <th>2</th>\n",
       "      <td>3</td>\n",
       "      <td>T</td>\n",
       "    </tr>\n",
       "    <tr>\n",
       "      <th>3</th>\n",
       "      <td>4</td>\n",
       "      <td>I</td>\n",
       "    </tr>\n",
       "    <tr>\n",
       "      <th>4</th>\n",
       "      <td>5</td>\n",
       "      <td>R</td>\n",
       "    </tr>\n",
       "    <tr>\n",
       "      <th>...</th>\n",
       "      <td>...</td>\n",
       "      <td>...</td>\n",
       "    </tr>\n",
       "    <tr>\n",
       "      <th>6273</th>\n",
       "      <td>6279</td>\n",
       "      <td>N</td>\n",
       "    </tr>\n",
       "    <tr>\n",
       "      <th>6274</th>\n",
       "      <td>6280</td>\n",
       "      <td>I</td>\n",
       "    </tr>\n",
       "    <tr>\n",
       "      <th>6275</th>\n",
       "      <td>6281</td>\n",
       "      <td>P</td>\n",
       "    </tr>\n",
       "    <tr>\n",
       "      <th>6276</th>\n",
       "      <td>6282</td>\n",
       "      <td>N</td>\n",
       "    </tr>\n",
       "    <tr>\n",
       "      <th>6277</th>\n",
       "      <td>6283</td>\n",
       "      <td>R</td>\n",
       "    </tr>\n",
       "  </tbody>\n",
       "</table>\n",
       "<p>6278 rows × 2 columns</p>\n",
       "</div>"
      ],
      "text/plain": [
       "        ID Class\n",
       "0        1     n\n",
       "1        2     8\n",
       "2        3     T\n",
       "3        4     I\n",
       "4        5     R\n",
       "...    ...   ...\n",
       "6273  6279     N\n",
       "6274  6280     I\n",
       "6275  6281     P\n",
       "6276  6282     N\n",
       "6277  6283     R\n",
       "\n",
       "[6278 rows x 2 columns]"
      ]
     },
     "execution_count": 41,
     "metadata": {},
     "output_type": "execute_result"
    }
   ],
   "source": [
    "train_labels_df.drop([283, 1232, 2289, 3135, 3558], inplace=True)\n",
    "train_labels_df.reset_index(drop=True, inplace=True)\n",
    "train_labels_df"
   ]
  },
  {
   "cell_type": "code",
   "execution_count": null,
   "id": "1acd9f55",
   "metadata": {},
   "outputs": [],
   "source": []
  },
  {
   "cell_type": "code",
   "execution_count": null,
   "id": "780df645",
   "metadata": {},
   "outputs": [],
   "source": []
  },
  {
   "cell_type": "markdown",
   "id": "31534143",
   "metadata": {},
   "source": [
    "### EDA"
   ]
  },
  {
   "cell_type": "code",
   "execution_count": 42,
   "id": "23c17d9c",
   "metadata": {},
   "outputs": [
    {
     "data": {
      "text/plain": [
       "ID       0\n",
       "Class    0\n",
       "dtype: int64"
      ]
     },
     "execution_count": 42,
     "metadata": {},
     "output_type": "execute_result"
    }
   ],
   "source": [
    "#Nan values\n",
    "train_labels_df.isna().sum()"
   ]
  },
  {
   "cell_type": "code",
   "execution_count": 43,
   "id": "c9062f7e",
   "metadata": {},
   "outputs": [
    {
     "name": "stdout",
     "output_type": "stream",
     "text": [
      "<class 'pandas.core.frame.DataFrame'>\n",
      "RangeIndex: 6278 entries, 0 to 6277\n",
      "Data columns (total 2 columns):\n",
      " #   Column  Non-Null Count  Dtype \n",
      "---  ------  --------------  ----- \n",
      " 0   ID      6278 non-null   int64 \n",
      " 1   Class   6278 non-null   object\n",
      "dtypes: int64(1), object(1)\n",
      "memory usage: 98.2+ KB\n"
     ]
    }
   ],
   "source": [
    "#data type\n",
    "train_labels_df.info()"
   ]
  },
  {
   "cell_type": "code",
   "execution_count": 44,
   "id": "2a8caa85",
   "metadata": {},
   "outputs": [
    {
     "data": {
      "text/html": [
       "<div>\n",
       "<style scoped>\n",
       "    .dataframe tbody tr th:only-of-type {\n",
       "        vertical-align: middle;\n",
       "    }\n",
       "\n",
       "    .dataframe tbody tr th {\n",
       "        vertical-align: top;\n",
       "    }\n",
       "\n",
       "    .dataframe thead th {\n",
       "        text-align: right;\n",
       "    }\n",
       "</style>\n",
       "<table border=\"1\" class=\"dataframe\">\n",
       "  <thead>\n",
       "    <tr style=\"text-align: right;\">\n",
       "      <th></th>\n",
       "      <th>Class</th>\n",
       "      <th>Quantity</th>\n",
       "    </tr>\n",
       "  </thead>\n",
       "  <tbody>\n",
       "    <tr>\n",
       "      <th>0</th>\n",
       "      <td>A</td>\n",
       "      <td>459</td>\n",
       "    </tr>\n",
       "    <tr>\n",
       "      <th>1</th>\n",
       "      <td>E</td>\n",
       "      <td>357</td>\n",
       "    </tr>\n",
       "    <tr>\n",
       "      <th>2</th>\n",
       "      <td>R</td>\n",
       "      <td>309</td>\n",
       "    </tr>\n",
       "    <tr>\n",
       "      <th>3</th>\n",
       "      <td>O</td>\n",
       "      <td>290</td>\n",
       "    </tr>\n",
       "    <tr>\n",
       "      <th>4</th>\n",
       "      <td>N</td>\n",
       "      <td>279</td>\n",
       "    </tr>\n",
       "    <tr>\n",
       "      <th>...</th>\n",
       "      <td>...</td>\n",
       "      <td>...</td>\n",
       "    </tr>\n",
       "    <tr>\n",
       "      <th>57</th>\n",
       "      <td>x</td>\n",
       "      <td>23</td>\n",
       "    </tr>\n",
       "    <tr>\n",
       "      <th>58</th>\n",
       "      <td>Q</td>\n",
       "      <td>21</td>\n",
       "    </tr>\n",
       "    <tr>\n",
       "      <th>59</th>\n",
       "      <td>8</td>\n",
       "      <td>21</td>\n",
       "    </tr>\n",
       "    <tr>\n",
       "      <th>60</th>\n",
       "      <td>z</td>\n",
       "      <td>20</td>\n",
       "    </tr>\n",
       "    <tr>\n",
       "      <th>61</th>\n",
       "      <td>j</td>\n",
       "      <td>20</td>\n",
       "    </tr>\n",
       "  </tbody>\n",
       "</table>\n",
       "<p>62 rows × 2 columns</p>\n",
       "</div>"
      ],
      "text/plain": [
       "   Class  Quantity\n",
       "0      A       459\n",
       "1      E       357\n",
       "2      R       309\n",
       "3      O       290\n",
       "4      N       279\n",
       "..   ...       ...\n",
       "57     x        23\n",
       "58     Q        21\n",
       "59     8        21\n",
       "60     z        20\n",
       "61     j        20\n",
       "\n",
       "[62 rows x 2 columns]"
      ]
     },
     "execution_count": 44,
     "metadata": {},
     "output_type": "execute_result"
    }
   ],
   "source": [
    "#Quantity of elements by class\n",
    "count_values_df = pd.DataFrame(train_labels_df['Class'].value_counts())\n",
    "count_values_df.reset_index(inplace=True)\n",
    "count_values_df.rename({'index':'Class', 'Class': 'Quantity'}, axis=1, inplace=True)\n",
    "count_values_df"
   ]
  },
  {
   "cell_type": "code",
   "execution_count": null,
   "id": "6ac91e1f",
   "metadata": {},
   "outputs": [],
   "source": []
  },
  {
   "cell_type": "code",
   "execution_count": 45,
   "id": "ce2d9fc5",
   "metadata": {},
   "outputs": [
    {
     "data": {
      "text/html": [
       "<div>\n",
       "<style scoped>\n",
       "    .dataframe tbody tr th:only-of-type {\n",
       "        vertical-align: middle;\n",
       "    }\n",
       "\n",
       "    .dataframe tbody tr th {\n",
       "        vertical-align: top;\n",
       "    }\n",
       "\n",
       "    .dataframe thead th {\n",
       "        text-align: right;\n",
       "    }\n",
       "</style>\n",
       "<table border=\"1\" class=\"dataframe\">\n",
       "  <thead>\n",
       "    <tr style=\"text-align: right;\">\n",
       "      <th></th>\n",
       "      <th>Class</th>\n",
       "      <th>IDs</th>\n",
       "    </tr>\n",
       "  </thead>\n",
       "  <tbody>\n",
       "    <tr>\n",
       "      <th>0</th>\n",
       "      <td>0</td>\n",
       "      <td>[42, 55, 200, 224, 235, 313, 402, 475, 498, 62...</td>\n",
       "    </tr>\n",
       "    <tr>\n",
       "      <th>1</th>\n",
       "      <td>1</td>\n",
       "      <td>[48, 57, 98, 381, 976, 1138, 1168, 1202, 1229,...</td>\n",
       "    </tr>\n",
       "    <tr>\n",
       "      <th>2</th>\n",
       "      <td>2</td>\n",
       "      <td>[81, 199, 302, 342, 356, 470, 533, 660, 668, 7...</td>\n",
       "    </tr>\n",
       "    <tr>\n",
       "      <th>3</th>\n",
       "      <td>3</td>\n",
       "      <td>[149, 426, 677, 873, 952, 1013, 1290, 1741, 17...</td>\n",
       "    </tr>\n",
       "    <tr>\n",
       "      <th>4</th>\n",
       "      <td>4</td>\n",
       "      <td>[150, 194, 512, 537, 990, 1048, 1056, 1219, 13...</td>\n",
       "    </tr>\n",
       "    <tr>\n",
       "      <th>...</th>\n",
       "      <td>...</td>\n",
       "      <td>...</td>\n",
       "    </tr>\n",
       "    <tr>\n",
       "      <th>57</th>\n",
       "      <td>v</td>\n",
       "      <td>[238, 261, 760, 1567, 1571, 1637, 1881, 1962, ...</td>\n",
       "    </tr>\n",
       "    <tr>\n",
       "      <th>58</th>\n",
       "      <td>w</td>\n",
       "      <td>[25, 74, 361, 787, 983, 1263, 1275, 1868, 2065...</td>\n",
       "    </tr>\n",
       "    <tr>\n",
       "      <th>59</th>\n",
       "      <td>x</td>\n",
       "      <td>[190, 522, 1137, 1182, 1613, 1866, 1956, 2247,...</td>\n",
       "    </tr>\n",
       "    <tr>\n",
       "      <th>60</th>\n",
       "      <td>y</td>\n",
       "      <td>[282, 509, 678, 940, 1087, 1105, 1185, 1308, 1...</td>\n",
       "    </tr>\n",
       "    <tr>\n",
       "      <th>61</th>\n",
       "      <td>z</td>\n",
       "      <td>[232, 254, 1411, 1753, 1892, 1965, 1996, 2027,...</td>\n",
       "    </tr>\n",
       "  </tbody>\n",
       "</table>\n",
       "<p>62 rows × 2 columns</p>\n",
       "</div>"
      ],
      "text/plain": [
       "   Class                                                IDs\n",
       "0      0  [42, 55, 200, 224, 235, 313, 402, 475, 498, 62...\n",
       "1      1  [48, 57, 98, 381, 976, 1138, 1168, 1202, 1229,...\n",
       "2      2  [81, 199, 302, 342, 356, 470, 533, 660, 668, 7...\n",
       "3      3  [149, 426, 677, 873, 952, 1013, 1290, 1741, 17...\n",
       "4      4  [150, 194, 512, 537, 990, 1048, 1056, 1219, 13...\n",
       "..   ...                                                ...\n",
       "57     v  [238, 261, 760, 1567, 1571, 1637, 1881, 1962, ...\n",
       "58     w  [25, 74, 361, 787, 983, 1263, 1275, 1868, 2065...\n",
       "59     x  [190, 522, 1137, 1182, 1613, 1866, 1956, 2247,...\n",
       "60     y  [282, 509, 678, 940, 1087, 1105, 1185, 1308, 1...\n",
       "61     z  [232, 254, 1411, 1753, 1892, 1965, 1996, 2027,...\n",
       "\n",
       "[62 rows x 2 columns]"
      ]
     },
     "execution_count": 45,
     "metadata": {},
     "output_type": "execute_result"
    }
   ],
   "source": [
    "#indexes by label\n",
    "tst = train_labels_df.copy()\n",
    "tst['ID'] = tst['ID'].apply(str)\n",
    "id_by_class_df = tst.groupby('Class')['ID'].apply(list).reset_index(name='IDs')\n",
    "id_by_class_df"
   ]
  },
  {
   "cell_type": "code",
   "execution_count": 46,
   "id": "b56d8fba",
   "metadata": {},
   "outputs": [
    {
     "data": {
      "text/plain": [
       "array(['1275', '74', '25', '983', '983', '361', '983', '1263', '1868',\n",
       "       '2065', '1263', '1275', '1868', '787', '787', '1275', '2065',\n",
       "       '787', '74', '787', '74', '25', '1263', '361', '25', '25', '787',\n",
       "       '25', '25', '1275'], dtype='<U4')"
      ]
     },
     "execution_count": 46,
     "metadata": {},
     "output_type": "execute_result"
    }
   ],
   "source": [
    "rand_arr = np.asarray(id_by_class_df['IDs'][id_by_class_df['Class'] == 'w'].item())[np.random.choice(9, size=30, replace=True)]\n",
    "rand_arr"
   ]
  },
  {
   "cell_type": "code",
   "execution_count": 47,
   "id": "515ad20f",
   "metadata": {},
   "outputs": [
    {
     "data": {
      "text/plain": [
       "(array([4., 3., 6., 3., 0., 2., 3., 2., 2., 5.]),\n",
       " array([0. , 0.8, 1.6, 2.4, 3.2, 4. , 4.8, 5.6, 6.4, 7.2, 8. ]),\n",
       " <BarContainer object of 10 artists>)"
      ]
     },
     "execution_count": 47,
     "metadata": {},
     "output_type": "execute_result"
    },
    {
     "data": {
      "image/png": "[encoded data removed]",
      "text/plain": [
       "<Figure size 432x288 with 1 Axes>"
      ]
     },
     "metadata": {
      "needs_background": "light"
     },
     "output_type": "display_data"
    }
   ],
   "source": [
    "plt.hist(rand_arr)"
   ]
  },
  {
   "cell_type": "code",
   "execution_count": null,
   "id": "e933ff84",
   "metadata": {},
   "outputs": [],
   "source": []
  },
  {
   "cell_type": "code",
   "execution_count": 48,
   "id": "85adf48d",
   "metadata": {},
   "outputs": [
    {
     "data": {
      "image/png": "[encoded data removed]",
      "text/plain": [
       "<Figure size 1152x504 with 1 Axes>"
      ]
     },
     "metadata": {
      "needs_background": "light"
     },
     "output_type": "display_data"
    }
   ],
   "source": [
    "plt.figure(figsize=(16,7))\n",
    "sns.barplot(x = 'Class', y = 'Quantity',data = count_values_df).set_title('Quantity of elements by class');"
   ]
  },
  {
   "cell_type": "code",
   "execution_count": null,
   "id": "8b7d0a76",
   "metadata": {},
   "outputs": [],
   "source": []
  },
  {
   "cell_type": "code",
   "execution_count": 49,
   "id": "e494e457",
   "metadata": {},
   "outputs": [],
   "source": [
    "#search missed images\n",
    "\n",
    "def get_imnames():\n",
    "    txtfiles = []\n",
    "    for file in glob.glob(TRAIN_IMG_PATH + \"*.Bmp\"):\n",
    "        file = file.split('\\\\')[-1][:-4] #get only filename\n",
    "        txtfiles.append(file)\n",
    "        \n",
    "    return txtfiles"
   ]
  },
  {
   "cell_type": "code",
   "execution_count": 50,
   "id": "602d15bb",
   "metadata": {},
   "outputs": [
    {
     "name": "stdout",
     "output_type": "stream",
     "text": [
      "All images unique\n",
      "All images correspond to labels\n"
     ]
    }
   ],
   "source": [
    "txtfiles = get_imnames()\n",
    "print('All images unique') if len(txtfiles) == len(set(txtfiles)) else None\n",
    "print('All images correspond to labels') if set(np.asarray(list(map(str, train_labels_df['ID'])))) == set(txtfiles) else None"
   ]
  },
  {
   "cell_type": "code",
   "execution_count": null,
   "id": "7df296a0",
   "metadata": {},
   "outputs": [],
   "source": []
  },
  {
   "cell_type": "markdown",
   "id": "c471a72d",
   "metadata": {},
   "source": [
    "#### Inspect Images"
   ]
  },
  {
   "cell_type": "code",
   "execution_count": 51,
   "id": "d4602307",
   "metadata": {},
   "outputs": [],
   "source": [
    "def display_image(id_):\n",
    "    sample_img = TRAIN_IMG_PATH + str(id_) + '.Bmp'\n",
    "    img= imread(sample_img)\n",
    "    imshow(img);\n",
    "    print('Letter:', train_labels_df.set_index('ID').loc[id_].values[0])"
   ]
  },
  {
   "cell_type": "code",
   "execution_count": 52,
   "id": "3a0b331f",
   "metadata": {},
   "outputs": [
    {
     "name": "stdout",
     "output_type": "stream",
     "text": [
      "Letter: u\n"
     ]
    },
    {
     "data": {
      "image/png": "[encoded data removed]",
      "text/plain": [
       "<Figure size 432x288 with 1 Axes>"
      ]
     },
     "metadata": {
      "needs_background": "light"
     },
     "output_type": "display_data"
    }
   ],
   "source": [
    "display_image(14)"
   ]
  },
  {
   "cell_type": "code",
   "execution_count": null,
   "id": "974f6dc0",
   "metadata": {},
   "outputs": [],
   "source": []
  },
  {
   "cell_type": "code",
   "execution_count": null,
   "id": "7f9c3201",
   "metadata": {},
   "outputs": [],
   "source": []
  },
  {
   "cell_type": "markdown",
   "id": "e5a98c46",
   "metadata": {},
   "source": [
    "### Augmentation"
   ]
  },
  {
   "cell_type": "code",
   "execution_count": 53,
   "id": "9338c2bf",
   "metadata": {},
   "outputs": [
    {
     "data": {
      "text/plain": [
       "True"
      ]
     },
     "execution_count": 53,
     "metadata": {},
     "output_type": "execute_result"
    }
   ],
   "source": [
    "(train_labels_df, count_values_df, id_by_class_df) != None"
   ]
  },
  {
   "cell_type": "code",
   "execution_count": 54,
   "id": "56919610",
   "metadata": {},
   "outputs": [],
   "source": [
    "def get_image(id_):\n",
    "    sample_img = TRAIN_IMG_PATH + str(id_) + '.Bmp'\n",
    "    img= imread(sample_img, as_gray=False)\n",
    "    letter = train_labels_df.set_index('ID').loc[id_].values[0]\n",
    "    \n",
    "    return img, letter\n",
    "\n",
    "\n",
    "def hist_equal(img):\n",
    "    img_to_yuv = cv2.cvtColor(img, cv2.COLOR_BGR2YUV)\n",
    "    img_to_yuv[:,:,0] = cv2.equalizeHist(img_to_yuv[:,:,0])\n",
    "    hist_equalization_result = cv2.cvtColor(img_to_yuv, cv2.COLOR_YUV2BGR)\n",
    "    \n",
    "    return hist_equalization_result\n",
    "\n",
    "\n",
    "def augmentation(img_):\n",
    "    grayscale_img = cv2.cvtColor(cv2.cvtColor(img_, cv2.COLOR_RGB2GRAY), cv2.COLOR_GRAY2RGB)\n",
    "    hist_equal_img = hist_equal(img_)\n",
    "    median_blure_img = cv2.medianBlur(img_,3)\n",
    "    gauss_blur_img = cv2.GaussianBlur(img_,(3,3),3)\n",
    "    \n",
    "    return grayscale_img, hist_equal_img, median_blure_img, gauss_blur_img\n"
   ]
  },
  {
   "cell_type": "code",
   "execution_count": 55,
   "id": "6ac293e6",
   "metadata": {},
   "outputs": [
    {
     "data": {
      "image/png": "[encoded data removed]",
      "text/plain": [
       "<Figure size 432x288 with 1 Axes>"
      ]
     },
     "metadata": {
      "needs_background": "light"
     },
     "output_type": "display_data"
    },
    {
     "data": {
      "text/plain": [
       "'E'"
      ]
     },
     "execution_count": 55,
     "metadata": {},
     "output_type": "execute_result"
    }
   ],
   "source": [
    "img, letter = get_image(1232)\n",
    "plt.show(imshow(img))\n",
    "letter"
   ]
  },
  {
   "cell_type": "code",
   "execution_count": 56,
   "id": "ed5ab481",
   "metadata": {},
   "outputs": [],
   "source": [
    "# def hist_equal(img):\n",
    "#     img_to_yuv = cv2.cvtColor(img, cv2.COLOR_BGR2YUV)\n",
    "#     img_to_yuv[:,:,0] = cv2.equalizeHist(img_to_yuv[:,:,0])\n",
    "#     hist_equalization_result = cv2.cvtColor(img_to_yuv, cv2.COLOR_YUV2BGR)\n",
    "#     return hist_equalization_result\n"
   ]
  },
  {
   "cell_type": "code",
   "execution_count": 57,
   "id": "e7faca2e",
   "metadata": {},
   "outputs": [
    {
     "data": {
      "image/png": "[encoded data removed]",
      "text/plain": [
       "<Figure size 432x288 with 1 Axes>"
      ]
     },
     "metadata": {
      "needs_background": "light"
     },
     "output_type": "display_data"
    }
   ],
   "source": [
    "imshow(hist_equal(img));"
   ]
  },
  {
   "cell_type": "code",
   "execution_count": 58,
   "id": "396793f6",
   "metadata": {},
   "outputs": [
    {
     "data": {
      "image/png": "[encoded data removed]",
      "text/plain": [
       "<Figure size 432x288 with 1 Axes>"
      ]
     },
     "metadata": {
      "needs_background": "light"
     },
     "output_type": "display_data"
    }
   ],
   "source": [
    "imshow(cv2.medianBlur(img,3));"
   ]
  },
  {
   "cell_type": "code",
   "execution_count": 59,
   "id": "b9079cb7",
   "metadata": {},
   "outputs": [
    {
     "data": {
      "text/plain": [
       "<matplotlib.image.AxesImage at 0x1ce718d5348>"
      ]
     },
     "execution_count": 59,
     "metadata": {},
     "output_type": "execute_result"
    },
    {
     "data": {
      "image/png": "[encoded data removed]",
      "text/plain": [
       "<Figure size 432x288 with 1 Axes>"
      ]
     },
     "metadata": {
      "needs_background": "light"
     },
     "output_type": "display_data"
    }
   ],
   "source": [
    "imshow(cv2.GaussianBlur(img,(3,3),3))"
   ]
  },
  {
   "cell_type": "code",
   "execution_count": 60,
   "id": "f4f14ba9",
   "metadata": {},
   "outputs": [],
   "source": [
    "# def augmentation(img_):\n",
    "#     grayscale_img = cv2.cvtColor(img_, cv2.COLOR_RGB2GRAY)\n",
    "#     hist_equal_img = hist_equal(img_)\n",
    "#     median_blure_img = cv2.medianBlur(img_,3)\n",
    "#     gauss_blur_img = cv2.GaussianBlur(img_,(3,3),3)\n",
    "    \n",
    "#     return grayscale_img, hist_equal_img, median_blure_img, gauss_blur_img\n"
   ]
  },
  {
   "cell_type": "code",
   "execution_count": 61,
   "id": "ccb28d3c",
   "metadata": {},
   "outputs": [
    {
     "data": {
      "text/plain": [
       "<matplotlib.image.AxesImage at 0x1ce718ed748>"
      ]
     },
     "execution_count": 61,
     "metadata": {},
     "output_type": "execute_result"
    },
    {
     "data": {
      "image/png": "[encoded data removed]",
      "text/plain": [
       "<Figure size 432x288 with 1 Axes>"
      ]
     },
     "metadata": {
      "needs_background": "light"
     },
     "output_type": "display_data"
    }
   ],
   "source": [
    "grayscale_img, hist_equal_img, median_blure_img, gauss_blur_img = augmentation(img)\n",
    "imshow(grayscale_img)"
   ]
  },
  {
   "cell_type": "code",
   "execution_count": 62,
   "id": "29ce2b0f",
   "metadata": {},
   "outputs": [],
   "source": [
    "# id_by_class_df"
   ]
  },
  {
   "cell_type": "code",
   "execution_count": 63,
   "id": "3e996d20",
   "metadata": {},
   "outputs": [],
   "source": [
    "# count_values_df"
   ]
  },
  {
   "cell_type": "code",
   "execution_count": 64,
   "id": "8d268432",
   "metadata": {},
   "outputs": [],
   "source": [
    "# train_labels_df"
   ]
  },
  {
   "cell_type": "code",
   "execution_count": null,
   "id": "0a7a15b6",
   "metadata": {},
   "outputs": [],
   "source": []
  },
  {
   "cell_type": "code",
   "execution_count": 65,
   "id": "dff481df",
   "metadata": {},
   "outputs": [],
   "source": [
    "# for i in range(6284, 18748):\n",
    "#     os.remove(TRAIN_IMG_PATH + str(i) + '.Bmp')\n",
    "#     print(i) if i%1000 == 0 else None"
   ]
  },
  {
   "cell_type": "code",
   "execution_count": null,
   "id": "352db296",
   "metadata": {},
   "outputs": [],
   "source": []
  },
  {
   "cell_type": "markdown",
   "id": "af20b484",
   "metadata": {},
   "source": [
    "#### Generate images"
   ]
  },
  {
   "cell_type": "code",
   "execution_count": 66,
   "id": "baf0869a",
   "metadata": {},
   "outputs": [
    {
     "name": "stdout",
     "output_type": "stream",
     "text": [
      "O\n",
      "6284\n",
      "N\n",
      "6292\n",
      "S\n",
      "6312\n",
      "I\n",
      "6340\n",
      "T\n",
      "6368\n",
      "e\n",
      "6408\n",
      "C\n",
      "6512\n",
      "L\n",
      "6640\n",
      "D\n",
      "6772\n",
      "a\n",
      "6904\n",
      "H\n",
      "7048\n",
      "P\n",
      "7196\n",
      "o\n",
      "7364\n",
      "i\n",
      "7532\n",
      "M\n",
      "7704\n",
      "n\n",
      "7876\n",
      "r\n",
      "8048\n",
      "G\n",
      "8224\n",
      "t\n",
      "8412\n",
      "s\n",
      "8604\n",
      "B\n",
      "8808\n",
      "U\n",
      "9016\n",
      "0\n",
      "9232\n",
      "l\n",
      "9452\n",
      "F\n",
      "9676\n",
      "K\n",
      "9908\n",
      "1\n",
      "10140\n",
      "V\n",
      "10372\n",
      "2\n",
      "10608\n",
      "W\n",
      "10848\n",
      "Y\n",
      "11088\n",
      "d\n",
      "11332\n",
      "J\n",
      "11576\n",
      "c\n",
      "11824\n",
      "h\n",
      "12072\n",
      "m\n",
      "12324\n",
      "X\n",
      "12580\n",
      "6\n",
      "12836\n",
      "5\n",
      "13092\n",
      "u\n",
      "13348\n",
      "4\n",
      "13608\n",
      "p\n",
      "13868\n",
      "y\n",
      "14128\n",
      "3\n",
      "14388\n",
      "9\n",
      "14652\n",
      "g\n",
      "14916\n",
      "Z\n",
      "15184\n",
      "7\n",
      "15452\n",
      "f\n",
      "15720\n",
      "k\n",
      "15992\n",
      "b\n",
      "16264\n",
      "q\n",
      "16536\n",
      "w\n",
      "16808\n",
      "v\n",
      "17084\n",
      "x\n",
      "17360\n",
      "Q\n",
      "17636\n",
      "8\n",
      "17912\n",
      "z\n",
      "18188\n",
      "j\n",
      "18468\n"
     ]
    }
   ],
   "source": [
    "img_id_counter = 6284  #new id\n",
    "new_img_df = pd.DataFrame(columns=['ID','Class'])\n",
    "for idx, row in count_values_df.iterrows():\n",
    "    \n",
    "    if row['Quantity'] < 300:\n",
    "        diff = 300 - row['Quantity']\n",
    "        print(row['Class'])\n",
    "        print(img_id_counter)\n",
    "        img_id_arr = np.asarray(id_by_class_df['IDs'][id_by_class_df['Class'] == row['Class']].item()) #get images ids\n",
    "        img_id_arr_chosen = img_id_arr[np.random.choice(len(img_id_arr), size=diff // 4, replace=True)]  #choose randomly ids\n",
    "        \n",
    "        for img_id in img_id_arr_chosen:\n",
    "            try:\n",
    "                img, letter = get_image(int(img_id))  #get image\n",
    "            except:\n",
    "                print('Unable to read image {}'.format(img_id))   \n",
    "                \n",
    "            try:\n",
    "                aug_img_list = list(augmentation(img))   #image augmentation\n",
    "            except:\n",
    "                print('Unable to augment image {}'.format(img_id))\n",
    "            \n",
    "            for aug_img in aug_img_list:\n",
    "                \n",
    "                aug_im = Image.fromarray(aug_img)\n",
    "                aug_im.save(TRAIN_IMG_PATH +  str(img_id_counter) + '.Bmp')  #image from array and save \n",
    "                new_img_df = new_img_df.append({'ID': img_id_counter, 'Class': letter}, ignore_index=True)\n",
    "                \n",
    "                img_id_counter += 1\n",
    "            \n",
    "  \n",
    "            \n",
    "#             grayscale_img, hist_equal_img, median_blure_img, gauss_blur_img = augmentation(img)   #image augmentation\n",
    "            \n",
    "            \n",
    "#             grayscale_im = Image.fromarray(grayscale_img)\n",
    "#             grayscale_im.save(TRAIN_IMG_PATH + str(img_id) + '.Bmp')  #image from array and save\n",
    "            \n",
    "#             new_img_df['ID'] = img_id\n",
    "#             new_img_df['Class'] = letter\n",
    "            \n",
    "#             img_id += 1\n",
    "            \n",
    "            \n",
    "#             hist_equal_im = Image.fromarray(hist_equal_img)\n",
    "#             hist_equal_im.save(TRAIN_IMG_PATH + str(img_id) + '.Bmp')  #image from array and save\n",
    "            \n",
    "#             new_img_df['ID'] = img_id\n",
    "#             new_img_df['Class'] = letter\n",
    "            \n",
    "#             img_id += 1\n",
    "            \n",
    "            \n",
    "#             median_blure_im = Image.fromarray(median_blure_img)\n",
    "#             median_blure_im.save(TRAIN_IMG_PATH + str(img_id) + '.Bmp')  #image from array and save\n",
    "            \n",
    "#             new_img_df['ID'] = img_id\n",
    "#             new_img_df['Class'] = letter\n",
    "            \n",
    "#             img_id += 1\n",
    "            \n",
    "            \n",
    "#             gauss_blur_im = Image.fromarray(gauss_blur_img)\n",
    "#             gauss_blur_im.save(TRAIN_IMG_PATH + str(img_id) + '.Bmp')  #image from array and save\n",
    "            \n",
    "#             new_img_df['ID'] = img_id\n",
    "#             new_img_df['Class'] = letter\n",
    "            \n",
    "#             img_id += 1\n",
    "     "
   ]
  },
  {
   "cell_type": "code",
   "execution_count": 67,
   "id": "294331fe",
   "metadata": {},
   "outputs": [],
   "source": [
    "# new_img_df"
   ]
  },
  {
   "cell_type": "code",
   "execution_count": 68,
   "id": "2bef53ab",
   "metadata": {},
   "outputs": [],
   "source": [
    "# train_labels_df"
   ]
  },
  {
   "cell_type": "code",
   "execution_count": 69,
   "id": "bc6a1100",
   "metadata": {},
   "outputs": [
    {
     "data": {
      "text/html": [
       "<div>\n",
       "<style scoped>\n",
       "    .dataframe tbody tr th:only-of-type {\n",
       "        vertical-align: middle;\n",
       "    }\n",
       "\n",
       "    .dataframe tbody tr th {\n",
       "        vertical-align: top;\n",
       "    }\n",
       "\n",
       "    .dataframe thead th {\n",
       "        text-align: right;\n",
       "    }\n",
       "</style>\n",
       "<table border=\"1\" class=\"dataframe\">\n",
       "  <thead>\n",
       "    <tr style=\"text-align: right;\">\n",
       "      <th></th>\n",
       "      <th>ID</th>\n",
       "      <th>Class</th>\n",
       "    </tr>\n",
       "  </thead>\n",
       "  <tbody>\n",
       "    <tr>\n",
       "      <th>0</th>\n",
       "      <td>1</td>\n",
       "      <td>n</td>\n",
       "    </tr>\n",
       "    <tr>\n",
       "      <th>1</th>\n",
       "      <td>2</td>\n",
       "      <td>8</td>\n",
       "    </tr>\n",
       "    <tr>\n",
       "      <th>2</th>\n",
       "      <td>3</td>\n",
       "      <td>T</td>\n",
       "    </tr>\n",
       "    <tr>\n",
       "      <th>3</th>\n",
       "      <td>4</td>\n",
       "      <td>I</td>\n",
       "    </tr>\n",
       "    <tr>\n",
       "      <th>4</th>\n",
       "      <td>5</td>\n",
       "      <td>R</td>\n",
       "    </tr>\n",
       "    <tr>\n",
       "      <th>...</th>\n",
       "      <td>...</td>\n",
       "      <td>...</td>\n",
       "    </tr>\n",
       "    <tr>\n",
       "      <th>18737</th>\n",
       "      <td>18743</td>\n",
       "      <td>j</td>\n",
       "    </tr>\n",
       "    <tr>\n",
       "      <th>18738</th>\n",
       "      <td>18744</td>\n",
       "      <td>j</td>\n",
       "    </tr>\n",
       "    <tr>\n",
       "      <th>18739</th>\n",
       "      <td>18745</td>\n",
       "      <td>j</td>\n",
       "    </tr>\n",
       "    <tr>\n",
       "      <th>18740</th>\n",
       "      <td>18746</td>\n",
       "      <td>j</td>\n",
       "    </tr>\n",
       "    <tr>\n",
       "      <th>18741</th>\n",
       "      <td>18747</td>\n",
       "      <td>j</td>\n",
       "    </tr>\n",
       "  </tbody>\n",
       "</table>\n",
       "<p>18742 rows × 2 columns</p>\n",
       "</div>"
      ],
      "text/plain": [
       "          ID Class\n",
       "0          1     n\n",
       "1          2     8\n",
       "2          3     T\n",
       "3          4     I\n",
       "4          5     R\n",
       "...      ...   ...\n",
       "18737  18743     j\n",
       "18738  18744     j\n",
       "18739  18745     j\n",
       "18740  18746     j\n",
       "18741  18747     j\n",
       "\n",
       "[18742 rows x 2 columns]"
      ]
     },
     "execution_count": 69,
     "metadata": {},
     "output_type": "execute_result"
    }
   ],
   "source": [
    "#Concat dataframes\n",
    "train_df_conc = train_labels_df.append(new_img_df, ignore_index=True)\n",
    "train_df_conc.reset_index(drop=True, inplace=True)\n",
    "train_df_conc"
   ]
  },
  {
   "cell_type": "code",
   "execution_count": 70,
   "id": "1794bea4",
   "metadata": {},
   "outputs": [
    {
     "data": {
      "text/html": [
       "<div>\n",
       "<style scoped>\n",
       "    .dataframe tbody tr th:only-of-type {\n",
       "        vertical-align: middle;\n",
       "    }\n",
       "\n",
       "    .dataframe tbody tr th {\n",
       "        vertical-align: top;\n",
       "    }\n",
       "\n",
       "    .dataframe thead th {\n",
       "        text-align: right;\n",
       "    }\n",
       "</style>\n",
       "<table border=\"1\" class=\"dataframe\">\n",
       "  <thead>\n",
       "    <tr style=\"text-align: right;\">\n",
       "      <th></th>\n",
       "      <th>ID</th>\n",
       "      <th>Class</th>\n",
       "    </tr>\n",
       "  </thead>\n",
       "  <tbody>\n",
       "    <tr>\n",
       "      <th>0</th>\n",
       "      <td>5944</td>\n",
       "      <td>H</td>\n",
       "    </tr>\n",
       "    <tr>\n",
       "      <th>1</th>\n",
       "      <td>11109</td>\n",
       "      <td>Y</td>\n",
       "    </tr>\n",
       "    <tr>\n",
       "      <th>2</th>\n",
       "      <td>11177</td>\n",
       "      <td>Y</td>\n",
       "    </tr>\n",
       "    <tr>\n",
       "      <th>3</th>\n",
       "      <td>1380</td>\n",
       "      <td>I</td>\n",
       "    </tr>\n",
       "    <tr>\n",
       "      <th>4</th>\n",
       "      <td>9773</td>\n",
       "      <td>F</td>\n",
       "    </tr>\n",
       "    <tr>\n",
       "      <th>...</th>\n",
       "      <td>...</td>\n",
       "      <td>...</td>\n",
       "    </tr>\n",
       "    <tr>\n",
       "      <th>18737</th>\n",
       "      <td>10112</td>\n",
       "      <td>K</td>\n",
       "    </tr>\n",
       "    <tr>\n",
       "      <th>18738</th>\n",
       "      <td>4076</td>\n",
       "      <td>S</td>\n",
       "    </tr>\n",
       "    <tr>\n",
       "      <th>18739</th>\n",
       "      <td>2999</td>\n",
       "      <td>S</td>\n",
       "    </tr>\n",
       "    <tr>\n",
       "      <th>18740</th>\n",
       "      <td>5404</td>\n",
       "      <td>h</td>\n",
       "    </tr>\n",
       "    <tr>\n",
       "      <th>18741</th>\n",
       "      <td>4203</td>\n",
       "      <td>o</td>\n",
       "    </tr>\n",
       "  </tbody>\n",
       "</table>\n",
       "<p>18742 rows × 2 columns</p>\n",
       "</div>"
      ],
      "text/plain": [
       "          ID Class\n",
       "0       5944     H\n",
       "1      11109     Y\n",
       "2      11177     Y\n",
       "3       1380     I\n",
       "4       9773     F\n",
       "...      ...   ...\n",
       "18737  10112     K\n",
       "18738   4076     S\n",
       "18739   2999     S\n",
       "18740   5404     h\n",
       "18741   4203     o\n",
       "\n",
       "[18742 rows x 2 columns]"
      ]
     },
     "execution_count": 70,
     "metadata": {},
     "output_type": "execute_result"
    }
   ],
   "source": [
    "#Shuffle rows\n",
    "train_df = shuffle(train_df_conc)\n",
    "train_df.reset_index(inplace=True, drop=True)\n",
    "train_df['ID'] = train_df['ID'].apply('int32')\n",
    "train_df"
   ]
  },
  {
   "cell_type": "code",
   "execution_count": null,
   "id": "317c2fb9",
   "metadata": {},
   "outputs": [],
   "source": []
  },
  {
   "cell_type": "markdown",
   "id": "9280968e",
   "metadata": {},
   "source": [
    "#### Check if correct"
   ]
  },
  {
   "cell_type": "code",
   "execution_count": 71,
   "id": "81f3bb9c",
   "metadata": {},
   "outputs": [
    {
     "name": "stdout",
     "output_type": "stream",
     "text": [
      "<class 'pandas.core.frame.DataFrame'>\n",
      "RangeIndex: 18742 entries, 0 to 18741\n",
      "Data columns (total 2 columns):\n",
      " #   Column  Non-Null Count  Dtype \n",
      "---  ------  --------------  ----- \n",
      " 0   ID      18742 non-null  int32 \n",
      " 1   Class   18742 non-null  object\n",
      "dtypes: int32(1), object(1)\n",
      "memory usage: 219.8+ KB\n"
     ]
    }
   ],
   "source": [
    "train_df.info()"
   ]
  },
  {
   "cell_type": "code",
   "execution_count": 72,
   "id": "401941b9",
   "metadata": {},
   "outputs": [
    {
     "name": "stdout",
     "output_type": "stream",
     "text": [
      "All images unique\n",
      "All images correspond to labels\n"
     ]
    }
   ],
   "source": [
    "txtfiles2 = get_imnames()\n",
    "print('All images unique') if len(txtfiles2) == len(set(txtfiles2)) else None\n",
    "print('All images correspond to labels') if set(np.asarray(list(map(str, train_df['ID'])))) == set(txtfiles2) else None"
   ]
  },
  {
   "cell_type": "code",
   "execution_count": 73,
   "id": "9c31028d",
   "metadata": {},
   "outputs": [
    {
     "data": {
      "text/html": [
       "<div>\n",
       "<style scoped>\n",
       "    .dataframe tbody tr th:only-of-type {\n",
       "        vertical-align: middle;\n",
       "    }\n",
       "\n",
       "    .dataframe tbody tr th {\n",
       "        vertical-align: top;\n",
       "    }\n",
       "\n",
       "    .dataframe thead th {\n",
       "        text-align: right;\n",
       "    }\n",
       "</style>\n",
       "<table border=\"1\" class=\"dataframe\">\n",
       "  <thead>\n",
       "    <tr style=\"text-align: right;\">\n",
       "      <th></th>\n",
       "      <th>Class</th>\n",
       "      <th>Quantity</th>\n",
       "    </tr>\n",
       "  </thead>\n",
       "  <tbody>\n",
       "    <tr>\n",
       "      <th>0</th>\n",
       "      <td>A</td>\n",
       "      <td>459</td>\n",
       "    </tr>\n",
       "    <tr>\n",
       "      <th>1</th>\n",
       "      <td>E</td>\n",
       "      <td>357</td>\n",
       "    </tr>\n",
       "    <tr>\n",
       "      <th>2</th>\n",
       "      <td>R</td>\n",
       "      <td>309</td>\n",
       "    </tr>\n",
       "    <tr>\n",
       "      <th>3</th>\n",
       "      <td>c</td>\n",
       "      <td>300</td>\n",
       "    </tr>\n",
       "    <tr>\n",
       "      <th>4</th>\n",
       "      <td>J</td>\n",
       "      <td>300</td>\n",
       "    </tr>\n",
       "    <tr>\n",
       "      <th>...</th>\n",
       "      <td>...</td>\n",
       "      <td>...</td>\n",
       "    </tr>\n",
       "    <tr>\n",
       "      <th>57</th>\n",
       "      <td>W</td>\n",
       "      <td>297</td>\n",
       "    </tr>\n",
       "    <tr>\n",
       "      <th>58</th>\n",
       "      <td>b</td>\n",
       "      <td>297</td>\n",
       "    </tr>\n",
       "    <tr>\n",
       "      <th>59</th>\n",
       "      <td>h</td>\n",
       "      <td>297</td>\n",
       "    </tr>\n",
       "    <tr>\n",
       "      <th>60</th>\n",
       "      <td>q</td>\n",
       "      <td>297</td>\n",
       "    </tr>\n",
       "    <tr>\n",
       "      <th>61</th>\n",
       "      <td>D</td>\n",
       "      <td>297</td>\n",
       "    </tr>\n",
       "  </tbody>\n",
       "</table>\n",
       "<p>62 rows × 2 columns</p>\n",
       "</div>"
      ],
      "text/plain": [
       "   Class  Quantity\n",
       "0      A       459\n",
       "1      E       357\n",
       "2      R       309\n",
       "3      c       300\n",
       "4      J       300\n",
       "..   ...       ...\n",
       "57     W       297\n",
       "58     b       297\n",
       "59     h       297\n",
       "60     q       297\n",
       "61     D       297\n",
       "\n",
       "[62 rows x 2 columns]"
      ]
     },
     "execution_count": 73,
     "metadata": {},
     "output_type": "execute_result"
    }
   ],
   "source": [
    "#Quantity of elements by class\n",
    "count_values_df2 = pd.DataFrame(train_df['Class'].value_counts())\n",
    "count_values_df2.reset_index(inplace=True)\n",
    "count_values_df2.rename({'index':'Class', 'Class': 'Quantity'}, axis=1, inplace=True)\n",
    "count_values_df2"
   ]
  },
  {
   "cell_type": "code",
   "execution_count": 74,
   "id": "ec9cad7b",
   "metadata": {},
   "outputs": [
    {
     "data": {
      "image/png": "[encoded data removed]",
      "text/plain": [
       "<Figure size 1152x504 with 1 Axes>"
      ]
     },
     "metadata": {
      "needs_background": "light"
     },
     "output_type": "display_data"
    }
   ],
   "source": [
    "plt.figure(figsize=(16,7))\n",
    "sns.barplot(x = 'Class', y = 'Quantity',data = count_values_df2).set_title('New quantity of elements by class');"
   ]
  },
  {
   "cell_type": "code",
   "execution_count": null,
   "id": "50640b77",
   "metadata": {},
   "outputs": [],
   "source": []
  },
  {
   "cell_type": "code",
   "execution_count": null,
   "id": "387ecc19",
   "metadata": {},
   "outputs": [],
   "source": []
  },
  {
   "cell_type": "markdown",
   "id": "bb876031",
   "metadata": {},
   "source": [
    "#### Save new train labels"
   ]
  },
  {
   "cell_type": "code",
   "execution_count": 76,
   "id": "f5ee956e",
   "metadata": {},
   "outputs": [],
   "source": [
    "#save new labels\n",
    "\n",
    "# train_df.to_csv('./data/street-view-getting-started-with-julia/TrainLabelsExtended.csv' , index=False)"
   ]
  },
  {
   "cell_type": "code",
   "execution_count": null,
   "id": "9e30c955",
   "metadata": {},
   "outputs": [],
   "source": []
  },
  {
   "cell_type": "code",
   "execution_count": null,
   "id": "fad5f76a",
   "metadata": {},
   "outputs": [],
   "source": []
  },
  {
   "cell_type": "code",
   "execution_count": null,
   "id": "2755104d",
   "metadata": {},
   "outputs": [],
   "source": []
  },
  {
   "cell_type": "code",
   "execution_count": null,
   "id": "8012762a",
   "metadata": {},
   "outputs": [],
   "source": []
  },
  {
   "cell_type": "code",
   "execution_count": null,
   "id": "9d84ec78",
   "metadata": {},
   "outputs": [],
   "source": []
  },
  {
   "cell_type": "code",
   "execution_count": null,
   "id": "42a25835",
   "metadata": {},
   "outputs": [],
   "source": []
  },
  {
   "cell_type": "code",
   "execution_count": null,
   "id": "3293e6f4",
   "metadata": {},
   "outputs": [],
   "source": []
  },
  {
   "cell_type": "code",
   "execution_count": null,
   "id": "55e0fb0e",
   "metadata": {},
   "outputs": [],
   "source": []
  },
  {
   "cell_type": "code",
   "execution_count": null,
   "id": "8ba09912",
   "metadata": {},
   "outputs": [],
   "source": []
  },
  {
   "cell_type": "code",
   "execution_count": null,
   "id": "38a5a02c",
   "metadata": {},
   "outputs": [],
   "source": []
  },
  {
   "cell_type": "code",
   "execution_count": null,
   "id": "f82fac64",
   "metadata": {},
   "outputs": [],
   "source": []
  },
  {
   "cell_type": "code",
   "execution_count": null,
   "id": "208a550c",
   "metadata": {},
   "outputs": [],
   "source": []
  },
  {
   "cell_type": "markdown",
   "id": "57eb3c3a",
   "metadata": {},
   "source": [
    "### Encode labels"
   ]
  },
  {
   "cell_type": "markdown",
   "id": "44c3d378",
   "metadata": {},
   "source": [
    "#### Label Encoding"
   ]
  },
  {
   "cell_type": "code",
   "execution_count": 68,
   "id": "3d4b9aea",
   "metadata": {},
   "outputs": [],
   "source": [
    "train_labels_df_enc = train_labels_df.copy()"
   ]
  },
  {
   "cell_type": "code",
   "execution_count": 70,
   "id": "963b133f",
   "metadata": {},
   "outputs": [
    {
     "data": {
      "text/html": [
       "<div>\n",
       "<style scoped>\n",
       "    .dataframe tbody tr th:only-of-type {\n",
       "        vertical-align: middle;\n",
       "    }\n",
       "\n",
       "    .dataframe tbody tr th {\n",
       "        vertical-align: top;\n",
       "    }\n",
       "\n",
       "    .dataframe thead th {\n",
       "        text-align: right;\n",
       "    }\n",
       "</style>\n",
       "<table border=\"1\" class=\"dataframe\">\n",
       "  <thead>\n",
       "    <tr style=\"text-align: right;\">\n",
       "      <th></th>\n",
       "      <th>Class</th>\n",
       "    </tr>\n",
       "    <tr>\n",
       "      <th>ID</th>\n",
       "      <th></th>\n",
       "    </tr>\n",
       "  </thead>\n",
       "  <tbody>\n",
       "    <tr>\n",
       "      <th>1</th>\n",
       "      <td>49</td>\n",
       "    </tr>\n",
       "    <tr>\n",
       "      <th>2</th>\n",
       "      <td>8</td>\n",
       "    </tr>\n",
       "    <tr>\n",
       "      <th>3</th>\n",
       "      <td>29</td>\n",
       "    </tr>\n",
       "    <tr>\n",
       "      <th>4</th>\n",
       "      <td>18</td>\n",
       "    </tr>\n",
       "    <tr>\n",
       "      <th>5</th>\n",
       "      <td>27</td>\n",
       "    </tr>\n",
       "    <tr>\n",
       "      <th>...</th>\n",
       "      <td>...</td>\n",
       "    </tr>\n",
       "    <tr>\n",
       "      <th>6279</th>\n",
       "      <td>23</td>\n",
       "    </tr>\n",
       "    <tr>\n",
       "      <th>6280</th>\n",
       "      <td>18</td>\n",
       "    </tr>\n",
       "    <tr>\n",
       "      <th>6281</th>\n",
       "      <td>25</td>\n",
       "    </tr>\n",
       "    <tr>\n",
       "      <th>6282</th>\n",
       "      <td>23</td>\n",
       "    </tr>\n",
       "    <tr>\n",
       "      <th>6283</th>\n",
       "      <td>27</td>\n",
       "    </tr>\n",
       "  </tbody>\n",
       "</table>\n",
       "<p>6283 rows × 1 columns</p>\n",
       "</div>"
      ],
      "text/plain": [
       "      Class\n",
       "ID         \n",
       "1        49\n",
       "2         8\n",
       "3        29\n",
       "4        18\n",
       "5        27\n",
       "...     ...\n",
       "6279     23\n",
       "6280     18\n",
       "6281     25\n",
       "6282     23\n",
       "6283     27\n",
       "\n",
       "[6283 rows x 1 columns]"
      ]
     },
     "execution_count": 70,
     "metadata": {},
     "output_type": "execute_result"
    }
   ],
   "source": [
    "label_enc = LabelEncoder()\n",
    "train_labels_df_enc['Class'] = label_enc.fit_transform(train_labels_df_enc['Class'])\n",
    "train_labels_df_enc"
   ]
  },
  {
   "cell_type": "code",
   "execution_count": 72,
   "id": "3920e673",
   "metadata": {},
   "outputs": [
    {
     "data": {
      "text/plain": [
       "62"
      ]
     },
     "execution_count": 72,
     "metadata": {},
     "output_type": "execute_result"
    }
   ],
   "source": [
    "len(train_labels_df_enc['Class'].unique())"
   ]
  },
  {
   "cell_type": "code",
   "execution_count": 73,
   "id": "c547e208",
   "metadata": {
    "scrolled": true
   },
   "outputs": [],
   "source": [
    "replaced_labels = dict(enumerate(label_enc.classes_))\n",
    "# replaced_labels"
   ]
  },
  {
   "cell_type": "code",
   "execution_count": null,
   "id": "45089921",
   "metadata": {},
   "outputs": [],
   "source": []
  }
 ],
 "metadata": {
  "kernelspec": {
   "display_name": "Python 3",
   "language": "python",
   "name": "python3"
  },
  "language_info": {
   "codemirror_mode": {
    "name": "ipython",
    "version": 3
   },
   "file_extension": ".py",
   "mimetype": "text/x-python",
   "name": "python",
   "nbconvert_exporter": "python",
   "pygments_lexer": "ipython3",
   "version": "3.7.9"
  }
 },
 "nbformat": 4,
 "nbformat_minor": 5
}
