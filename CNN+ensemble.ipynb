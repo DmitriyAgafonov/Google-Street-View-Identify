{
 "cells": [
  {
   "cell_type": "code",
   "execution_count": 55,
   "id": "5acbdd5d",
   "metadata": {},
   "outputs": [],
   "source": [
    "#load packages\n",
    "#%matplotlib inline\n",
    "\n",
    "import numpy as np\n",
    "import pandas as pd\n",
    "\n",
    "from sklearn.preprocessing import LabelEncoder\n",
    "from sklearn.metrics import confusion_matrix, classification_report, accuracy_score\n",
    "from sklearn.svm import SVC\n",
    "from sklearn.linear_model import LogisticRegression\n",
    "from sklearn.model_selection import StratifiedKFold\n",
    "from sklearn.model_selection import GridSearchCV\n",
    "from sklearn.neighbors import KNeighborsClassifier\n",
    "\n",
    "from sklearn.ensemble import VotingClassifier\n",
    "\n",
    "\n",
    "from skimage.io import imread, imshow\n",
    "\n",
    "from tensorflow import keras\n",
    "from tensorflow.keras import layers\n",
    "from tensorflow.keras.models import Sequential, Model\n",
    "\n",
    "from tensorflow.keras.losses import SparseCategoricalCrossentropy\n",
    "\n",
    "\n",
    "import matplotlib.pyplot as plt\n",
    "import seaborn as sns\n",
    "\n",
    "import glob\n",
    "\n",
    "from ipynb.fs.defs.CNN import check_grey_imgs, transform_image"
   ]
  },
  {
   "cell_type": "code",
   "execution_count": 2,
   "id": "102e4802",
   "metadata": {},
   "outputs": [],
   "source": [
    "#path to data\n",
    "\n",
    "TRAIN_LABELS_PATH = './data/street-view-getting-started-with-julia/TrainLabelsExtended.csv'\n",
    "TRAIN_IMG_PATH = './data/street-view-getting-started-with-julia/trainResized/'\n",
    "TEST_IMG_PATH = './data/street-view-getting-started-with-julia/testResized/'"
   ]
  },
  {
   "cell_type": "code",
   "execution_count": 3,
   "id": "dc4357e8",
   "metadata": {},
   "outputs": [],
   "source": [
    "train_df = pd.read_csv(TRAIN_LABELS_PATH)"
   ]
  },
  {
   "cell_type": "code",
   "execution_count": null,
   "id": "154cecc3",
   "metadata": {},
   "outputs": [],
   "source": []
  },
  {
   "cell_type": "markdown",
   "id": "12a98b4c",
   "metadata": {},
   "source": [
    "### Label Encoding"
   ]
  },
  {
   "cell_type": "code",
   "execution_count": 4,
   "id": "369c1c10",
   "metadata": {},
   "outputs": [],
   "source": [
    "train_df_enc = train_df.copy()"
   ]
  },
  {
   "cell_type": "code",
   "execution_count": 5,
   "id": "e4abba2d",
   "metadata": {},
   "outputs": [
    {
     "data": {
      "text/html": [
       "<div>\n",
       "<style scoped>\n",
       "    .dataframe tbody tr th:only-of-type {\n",
       "        vertical-align: middle;\n",
       "    }\n",
       "\n",
       "    .dataframe tbody tr th {\n",
       "        vertical-align: top;\n",
       "    }\n",
       "\n",
       "    .dataframe thead th {\n",
       "        text-align: right;\n",
       "    }\n",
       "</style>\n",
       "<table border=\"1\" class=\"dataframe\">\n",
       "  <thead>\n",
       "    <tr style=\"text-align: right;\">\n",
       "      <th></th>\n",
       "      <th>ID</th>\n",
       "      <th>Class</th>\n",
       "      <th>Label</th>\n",
       "    </tr>\n",
       "  </thead>\n",
       "  <tbody>\n",
       "    <tr>\n",
       "      <th>0</th>\n",
       "      <td>5944</td>\n",
       "      <td>H</td>\n",
       "      <td>17</td>\n",
       "    </tr>\n",
       "    <tr>\n",
       "      <th>1</th>\n",
       "      <td>11109</td>\n",
       "      <td>Y</td>\n",
       "      <td>34</td>\n",
       "    </tr>\n",
       "    <tr>\n",
       "      <th>2</th>\n",
       "      <td>11177</td>\n",
       "      <td>Y</td>\n",
       "      <td>34</td>\n",
       "    </tr>\n",
       "    <tr>\n",
       "      <th>3</th>\n",
       "      <td>1380</td>\n",
       "      <td>I</td>\n",
       "      <td>18</td>\n",
       "    </tr>\n",
       "    <tr>\n",
       "      <th>4</th>\n",
       "      <td>9773</td>\n",
       "      <td>F</td>\n",
       "      <td>15</td>\n",
       "    </tr>\n",
       "    <tr>\n",
       "      <th>...</th>\n",
       "      <td>...</td>\n",
       "      <td>...</td>\n",
       "      <td>...</td>\n",
       "    </tr>\n",
       "    <tr>\n",
       "      <th>18737</th>\n",
       "      <td>10112</td>\n",
       "      <td>K</td>\n",
       "      <td>20</td>\n",
       "    </tr>\n",
       "    <tr>\n",
       "      <th>18738</th>\n",
       "      <td>4076</td>\n",
       "      <td>S</td>\n",
       "      <td>28</td>\n",
       "    </tr>\n",
       "    <tr>\n",
       "      <th>18739</th>\n",
       "      <td>2999</td>\n",
       "      <td>S</td>\n",
       "      <td>28</td>\n",
       "    </tr>\n",
       "    <tr>\n",
       "      <th>18740</th>\n",
       "      <td>5404</td>\n",
       "      <td>h</td>\n",
       "      <td>43</td>\n",
       "    </tr>\n",
       "    <tr>\n",
       "      <th>18741</th>\n",
       "      <td>4203</td>\n",
       "      <td>o</td>\n",
       "      <td>50</td>\n",
       "    </tr>\n",
       "  </tbody>\n",
       "</table>\n",
       "<p>18742 rows × 3 columns</p>\n",
       "</div>"
      ],
      "text/plain": [
       "          ID Class  Label\n",
       "0       5944     H     17\n",
       "1      11109     Y     34\n",
       "2      11177     Y     34\n",
       "3       1380     I     18\n",
       "4       9773     F     15\n",
       "...      ...   ...    ...\n",
       "18737  10112     K     20\n",
       "18738   4076     S     28\n",
       "18739   2999     S     28\n",
       "18740   5404     h     43\n",
       "18741   4203     o     50\n",
       "\n",
       "[18742 rows x 3 columns]"
      ]
     },
     "execution_count": 5,
     "metadata": {},
     "output_type": "execute_result"
    }
   ],
   "source": [
    "label_enc = LabelEncoder()\n",
    "train_df_enc['Label'] = label_enc.fit_transform(train_df_enc['Class'])\n",
    "train_df_enc"
   ]
  },
  {
   "cell_type": "code",
   "execution_count": 6,
   "id": "efd66b23",
   "metadata": {},
   "outputs": [],
   "source": [
    "replaced_labels = dict(enumerate(label_enc.classes_))\n",
    "# replaced_labels"
   ]
  },
  {
   "cell_type": "code",
   "execution_count": null,
   "id": "60e5c7c2",
   "metadata": {},
   "outputs": [],
   "source": []
  },
  {
   "cell_type": "markdown",
   "id": "cdfa6682",
   "metadata": {},
   "source": [
    "### Load transformed data"
   ]
  },
  {
   "cell_type": "code",
   "execution_count": 7,
   "id": "57922faa",
   "metadata": {},
   "outputs": [
    {
     "data": {
      "text/plain": [
       "['X_train_', 'X_test_', 'y_train_', 'y_test_']"
      ]
     },
     "execution_count": 7,
     "metadata": {},
     "output_type": "execute_result"
    }
   ],
   "source": [
    "transformed_data = np.load('transformed_data.npz')\n",
    "transformed_data.files"
   ]
  },
  {
   "cell_type": "code",
   "execution_count": 8,
   "id": "4a46bece",
   "metadata": {},
   "outputs": [],
   "source": [
    "X_train_ = transformed_data[transformed_data.files[0]] \n",
    "X_test_ = transformed_data[transformed_data.files[1]]\n",
    "y_train_ = transformed_data[transformed_data.files[2]].flatten()\n",
    "y_test_ = transformed_data[transformed_data.files[3]].flatten()"
   ]
  },
  {
   "cell_type": "code",
   "execution_count": null,
   "id": "07dcdec9",
   "metadata": {},
   "outputs": [],
   "source": []
  },
  {
   "cell_type": "markdown",
   "id": "9d1fc7b6",
   "metadata": {},
   "source": [
    "### CNN model"
   ]
  },
  {
   "cell_type": "code",
   "execution_count": 9,
   "id": "ab0d7c1c",
   "metadata": {},
   "outputs": [
    {
     "data": {
      "text/plain": [
       "62"
      ]
     },
     "execution_count": 9,
     "metadata": {},
     "output_type": "execute_result"
    }
   ],
   "source": [
    "num_classes = len(np.unique(y_train_))\n",
    "num_classes"
   ]
  },
  {
   "cell_type": "code",
   "execution_count": 10,
   "id": "cc2fe10a",
   "metadata": {},
   "outputs": [],
   "source": [
    "model = Sequential([\n",
    "    layers.Conv2D(20, (3, 3), padding= 'same', activation='relu', input_shape=(20, 20, 3)),\n",
    "    layers.BatchNormalization(),\n",
    "    layers.Conv2D(20, (3, 3), padding= 'same', activation='relu'),\n",
    "    layers.BatchNormalization(),\n",
    "    layers.MaxPooling2D((2, 2)),\n",
    "    layers.Dropout(0.2),\n",
    "    layers.Conv2D(32, (3, 3), padding= 'same', activation='relu'),\n",
    "    layers.BatchNormalization(),\n",
    "#     layers.Conv2D(32, (3, 3), padding= 'same', activation='relu'),\n",
    "#     layers.BatchNormalization(),\n",
    "    layers.MaxPooling2D((2, 2)),\n",
    "    layers.Dropout(0.2),\n",
    "    layers.Conv2D(64, (3, 3), padding= 'same', activation='relu'),\n",
    "#     layers.Conv2D(64, (3, 3), padding= 'same', activation='relu'),\n",
    "    layers.BatchNormalization(),\n",
    "#     layers.Conv2D(64, (3, 3), padding= 'same', activation='relu'),\n",
    "    layers.MaxPooling2D((2, 2), name='feature_layer'),\n",
    "    layers.Dropout(0.2),\n",
    "#     layers.Conv2D(128, (3, 3), padding= 'same', activation='relu'),\n",
    "#     layers.Conv2D(128, (3, 3), padding= 'same', activation='relu'),\n",
    "#     layers.MaxPooling2D((2, 2)),\n",
    "    layers.Flatten(name='feature_layer2'),\n",
    "    layers.Dense(128, activation='relu'),\n",
    "    layers.BatchNormalization(),\n",
    "#     layers.Dropout(0.2),\n",
    "    layers.Dense(num_classes)\n",
    "])"
   ]
  },
  {
   "cell_type": "code",
   "execution_count": 11,
   "id": "ad5c38d3",
   "metadata": {},
   "outputs": [],
   "source": [
    "model.compile(optimizer='adam',\n",
    "              loss=SparseCategoricalCrossentropy(from_logits=True),\n",
    "              metrics=['accuracy', 'categorical_accuracy'])"
   ]
  },
  {
   "cell_type": "code",
   "execution_count": 12,
   "id": "8e7ce43c",
   "metadata": {},
   "outputs": [
    {
     "name": "stdout",
     "output_type": "stream",
     "text": [
      "Model: \"sequential\"\n",
      "_________________________________________________________________\n",
      "Layer (type)                 Output Shape              Param #   \n",
      "=================================================================\n",
      "conv2d (Conv2D)              (None, 20, 20, 20)        560       \n",
      "_________________________________________________________________\n",
      "batch_normalization (BatchNo (None, 20, 20, 20)        80        \n",
      "_________________________________________________________________\n",
      "conv2d_1 (Conv2D)            (None, 20, 20, 20)        3620      \n",
      "_________________________________________________________________\n",
      "batch_normalization_1 (Batch (None, 20, 20, 20)        80        \n",
      "_________________________________________________________________\n",
      "max_pooling2d (MaxPooling2D) (None, 10, 10, 20)        0         \n",
      "_________________________________________________________________\n",
      "dropout (Dropout)            (None, 10, 10, 20)        0         \n",
      "_________________________________________________________________\n",
      "conv2d_2 (Conv2D)            (None, 10, 10, 32)        5792      \n",
      "_________________________________________________________________\n",
      "batch_normalization_2 (Batch (None, 10, 10, 32)        128       \n",
      "_________________________________________________________________\n",
      "max_pooling2d_1 (MaxPooling2 (None, 5, 5, 32)          0         \n",
      "_________________________________________________________________\n",
      "dropout_1 (Dropout)          (None, 5, 5, 32)          0         \n",
      "_________________________________________________________________\n",
      "conv2d_3 (Conv2D)            (None, 5, 5, 64)          18496     \n",
      "_________________________________________________________________\n",
      "batch_normalization_3 (Batch (None, 5, 5, 64)          256       \n",
      "_________________________________________________________________\n",
      "feature_layer (MaxPooling2D) (None, 2, 2, 64)          0         \n",
      "_________________________________________________________________\n",
      "dropout_2 (Dropout)          (None, 2, 2, 64)          0         \n",
      "_________________________________________________________________\n",
      "feature_layer2 (Flatten)     (None, 256)               0         \n",
      "_________________________________________________________________\n",
      "dense (Dense)                (None, 128)               32896     \n",
      "_________________________________________________________________\n",
      "batch_normalization_4 (Batch (None, 128)               512       \n",
      "_________________________________________________________________\n",
      "dense_1 (Dense)              (None, 62)                7998      \n",
      "=================================================================\n",
      "Total params: 70,418\n",
      "Trainable params: 69,890\n",
      "Non-trainable params: 528\n",
      "_________________________________________________________________\n"
     ]
    }
   ],
   "source": [
    "model.summary()"
   ]
  },
  {
   "cell_type": "code",
   "execution_count": null,
   "id": "c04dfe72",
   "metadata": {},
   "outputs": [],
   "source": [
    "# history = model.fit(X_train_, y_train_, epochs=12,# batch_size=64,\n",
    "#                     validation_data=(X_test_, y_test_))"
   ]
  },
  {
   "cell_type": "code",
   "execution_count": null,
   "id": "37e6db31",
   "metadata": {},
   "outputs": [],
   "source": []
  },
  {
   "cell_type": "markdown",
   "id": "861fe8a0",
   "metadata": {},
   "source": [
    "### Get extracted features"
   ]
  },
  {
   "cell_type": "code",
   "execution_count": 13,
   "id": "74b3ed46",
   "metadata": {},
   "outputs": [
    {
     "data": {
      "text/plain": [
       "['train_x_compr', 'test_x_compr']"
      ]
     },
     "execution_count": 13,
     "metadata": {},
     "output_type": "execute_result"
    }
   ],
   "source": [
    "extracted_imgs = np.load('extracted_imgs.npz')\n",
    "extracted_imgs.files"
   ]
  },
  {
   "cell_type": "code",
   "execution_count": 14,
   "id": "955bc963",
   "metadata": {},
   "outputs": [
    {
     "name": "stdout",
     "output_type": "stream",
     "text": [
      "(14993, 256) (3749, 256)\n"
     ]
    }
   ],
   "source": [
    "train_x_compr = extracted_imgs[extracted_imgs.files[0]]\n",
    "test_x_compr = extracted_imgs[extracted_imgs.files[1]]\n",
    "\n",
    "print(train_x_compr.shape, test_x_compr.shape)"
   ]
  },
  {
   "cell_type": "code",
   "execution_count": null,
   "id": "07bf11ab",
   "metadata": {},
   "outputs": [],
   "source": []
  },
  {
   "cell_type": "markdown",
   "id": "545f699f",
   "metadata": {},
   "source": [
    "### Build models"
   ]
  },
  {
   "cell_type": "markdown",
   "id": "acfdb561",
   "metadata": {},
   "source": [
    "#### SVM"
   ]
  },
  {
   "cell_type": "code",
   "execution_count": 60,
   "id": "ed37d21e",
   "metadata": {},
   "outputs": [
    {
     "name": "stdout",
     "output_type": "stream",
     "text": [
      "Accuracy Polynomial Kernel: 0.9431848492931448\n"
     ]
    }
   ],
   "source": [
    "svm_clf = SVC(kernel='poly', degree=2, C=10, decision_function_shape='ovo', probability=True).fit(train_x_compr, y_train_)\n",
    "#found with gridsearch\n",
    "\n",
    "accuracy_poly = svm_clf.score(test_x_compr, y_test_)\n",
    "print('Accuracy Polynomial Kernel:', accuracy_poly)"
   ]
  },
  {
   "cell_type": "markdown",
   "id": "5f2adf22",
   "metadata": {},
   "source": [
    "#### KNN"
   ]
  },
  {
   "cell_type": "code",
   "execution_count": 19,
   "id": "fbd415f9",
   "metadata": {},
   "outputs": [
    {
     "name": "stdout",
     "output_type": "stream",
     "text": [
      "Accuracy KNN: 0.8591624433182182\n"
     ]
    }
   ],
   "source": [
    "knn_clf = KNeighborsClassifier(n_neighbors=num_classes, \n",
    "                               weights='distance', \n",
    "                               algorithm='kd_tree', \n",
    "                               n_jobs=-1).fit(train_x_compr, y_train_)\n",
    "\n",
    "accuracy_knn = knn_clf.score(test_x_compr, y_test_)\n",
    "print('Accuracy KNN:', accuracy_knn)"
   ]
  },
  {
   "cell_type": "markdown",
   "id": "aa9f038d",
   "metadata": {},
   "source": [
    "#### Logistic Regression"
   ]
  },
  {
   "cell_type": "code",
   "execution_count": 33,
   "id": "e311c666",
   "metadata": {},
   "outputs": [
    {
     "name": "stdout",
     "output_type": "stream",
     "text": [
      "Accuracy logreg: 0.9141104294478528\n"
     ]
    }
   ],
   "source": [
    "logreg_clf = LogisticRegression(solver=\"liblinear\", random_state=42, max_iter=150).fit(train_x_compr, y_train_)\n",
    "\n",
    "accuracy_logreg = logreg_clf.score(test_x_compr, y_test_)\n",
    "print('Accuracy logreg:', accuracy_logreg)"
   ]
  },
  {
   "cell_type": "code",
   "execution_count": 24,
   "id": "3bfc39b8",
   "metadata": {},
   "outputs": [
    {
     "data": {
      "text/plain": [
       "array([22, 42, 46, ..., 61, 16, 42])"
      ]
     },
     "execution_count": 24,
     "metadata": {},
     "output_type": "execute_result"
    }
   ],
   "source": [
    "y_train_"
   ]
  },
  {
   "cell_type": "markdown",
   "id": "faa11b76",
   "metadata": {},
   "source": [
    "#### NeuralNet"
   ]
  },
  {
   "cell_type": "code",
   "execution_count": 30,
   "id": "c52ec7b0",
   "metadata": {},
   "outputs": [],
   "source": [
    "def build_nn():\n",
    "    \n",
    "    model = Sequential([\n",
    "        layers.Dense(128, activation='relu'),\n",
    "        layers.BatchNormalization(),\n",
    "    #     layers.Dropout(0.2),\n",
    "        layers.Dense(num_classes)\n",
    "    ])\n",
    "    \n",
    "    model.compile(optimizer='adam',\n",
    "                  loss=SparseCategoricalCrossentropy(from_logits=True),\n",
    "                  metrics=['accuracy', 'categorical_accuracy'])\n",
    "    \n",
    "    return model"
   ]
  },
  {
   "cell_type": "code",
   "execution_count": 37,
   "id": "377f1fc3",
   "metadata": {},
   "outputs": [
    {
     "name": "stdout",
     "output_type": "stream",
     "text": [
      "Train on 14993 samples, validate on 3749 samples\n",
      "Epoch 1/6\n",
      "14993/14993 [==============================] - 3s 179us/sample - loss: 1.4318 - accuracy: 0.6705 - categorical_accuracy: 0.0181 - val_loss: 0.6337 - val_accuracy: 0.8464 - val_categorical_accuracy: 0.0163\n",
      "Epoch 2/6\n",
      "14993/14993 [==============================] - 2s 102us/sample - loss: 0.4041 - accuracy: 0.9067 - categorical_accuracy: 0.0166 - val_loss: 0.4066 - val_accuracy: 0.9021 - val_categorical_accuracy: 0.0205\n",
      "Epoch 3/6\n",
      "14993/14993 [==============================] - 2s 102us/sample - loss: 0.2405 - accuracy: 0.9439 - categorical_accuracy: 0.0167 - val_loss: 0.3538 - val_accuracy: 0.9144 - val_categorical_accuracy: 0.0181\n",
      "Epoch 4/6\n",
      "14993/14993 [==============================] - 2s 107us/sample - loss: 0.1668 - accuracy: 0.9596 - categorical_accuracy: 0.0161 - val_loss: 0.3394 - val_accuracy: 0.9138 - val_categorical_accuracy: 0.0192\n",
      "Epoch 5/6\n",
      "14993/14993 [==============================] - 2s 102us/sample - loss: 0.1246 - accuracy: 0.9695 - categorical_accuracy: 0.0164 - val_loss: 0.3235 - val_accuracy: 0.9224 - val_categorical_accuracy: 0.0155\n",
      "Epoch 6/6\n",
      "14993/14993 [==============================] - 2s 102us/sample - loss: 0.0917 - accuracy: 0.9785 - categorical_accuracy: 0.0163 - val_loss: 0.3222 - val_accuracy: 0.9253 - val_categorical_accuracy: 0.0157\n"
     ]
    }
   ],
   "source": [
    "nn_clf = build_nn()\n",
    "history = nn_clf.fit(train_x_compr, y_train_, \n",
    "                    epochs = 6,\n",
    "                    validation_data = (test_x_compr, y_test_))"
   ]
  },
  {
   "cell_type": "code",
   "execution_count": 38,
   "id": "1c8a89f3",
   "metadata": {},
   "outputs": [
    {
     "data": {
      "text/plain": [
       "dict_keys(['loss', 'accuracy', 'categorical_accuracy', 'val_loss', 'val_accuracy', 'val_categorical_accuracy'])"
      ]
     },
     "execution_count": 38,
     "metadata": {},
     "output_type": "execute_result"
    }
   ],
   "source": [
    "history.history.keys()"
   ]
  },
  {
   "cell_type": "code",
   "execution_count": 43,
   "id": "f6adf2d0",
   "metadata": {},
   "outputs": [
    {
     "name": "stdout",
     "output_type": "stream",
     "text": [
      "Train accuracy: 0.9785233 \n",
      "Valid accuracy: 0.9253134\n"
     ]
    }
   ],
   "source": [
    "print('Train accuracy:', history.history['accuracy'][-1], '\\nValid accuracy:',  history.history['val_accuracy'][-1]) "
   ]
  },
  {
   "cell_type": "code",
   "execution_count": 45,
   "id": "c3d0850a",
   "metadata": {},
   "outputs": [],
   "source": [
    "#wrapper call converts the keras model into a scikit-learn model\n",
    "keras_clf = keras.wrappers.scikit_learn.KerasClassifier(\n",
    "                            build_nn,\n",
    "                            epochs=6,\n",
    "                            verbose=False)\n",
    "\n",
    "keras_clf._estimator_type = \"classifier\""
   ]
  },
  {
   "cell_type": "code",
   "execution_count": 53,
   "id": "a872aeb9",
   "metadata": {},
   "outputs": [
    {
     "data": {
      "text/plain": [
       "0.9250467"
      ]
     },
     "execution_count": 53,
     "metadata": {},
     "output_type": "execute_result"
    }
   ],
   "source": [
    "keras_clf.fit(train_x_compr, y_train_)\n",
    "keras_clf.score(test_x_compr, y_test_)"
   ]
  },
  {
   "cell_type": "markdown",
   "id": "23e4c9f4",
   "metadata": {},
   "source": [
    "### Voting classifier"
   ]
  },
  {
   "cell_type": "code",
   "execution_count": 61,
   "id": "918425df",
   "metadata": {},
   "outputs": [],
   "source": [
    "voting = VotingClassifier(\n",
    "             estimators=[('svm', svm_clf),\n",
    "                         ('knn', knn_clf),\n",
    "                         ('lr', logreg_clf),\n",
    "                         ('keras',keras_clf)], \n",
    "             voting='soft',\n",
    "             flatten_transform=True,\n",
    "             verbose = True)"
   ]
  },
  {
   "cell_type": "code",
   "execution_count": 62,
   "id": "0f963299",
   "metadata": {},
   "outputs": [
    {
     "name": "stdout",
     "output_type": "stream",
     "text": [
      "[Voting] ...................... (1 of 4) Processing svm, total= 1.2min\n",
      "[Voting] ...................... (2 of 4) Processing knn, total=   2.7s\n",
      "[Voting] ....................... (3 of 4) Processing lr, total= 2.7min\n",
      "[Voting] .................... (4 of 4) Processing keras, total=   8.5s\n",
      "Wall time: 4min 5s\n"
     ]
    }
   ],
   "source": [
    "%%time\n",
    "vote_clf = voting.fit(train_x_compr, y_train_)"
   ]
  },
  {
   "cell_type": "markdown",
   "id": "a44f97be",
   "metadata": {},
   "source": [
    "#### Accuracy"
   ]
  },
  {
   "cell_type": "code",
   "execution_count": 63,
   "id": "d6039d53",
   "metadata": {},
   "outputs": [
    {
     "name": "stdout",
     "output_type": "stream",
     "text": [
      "SVC 0.9431848492931448\n",
      "KNeighborsClassifier 0.8591624433182182\n",
      "LogisticRegression 0.9141104294478528\n",
      "KerasClassifier 0.9250466791144305\n",
      "WARNING:tensorflow:Network returning invalid probability values. The last layer might not normalize predictions into probabilities (like softmax or sigmoid would).\n",
      "VotingClassifier 0.9333155508135503\n"
     ]
    }
   ],
   "source": [
    "\n",
    "for clf in (svm_clf, knn_clf, logreg_clf, keras_clf, vote_clf):\n",
    "    y_pred = clf.predict(test_x_compr)\n",
    "    print(clf.__class__.__name__, accuracy_score(y_test_, y_pred))"
   ]
  },
  {
   "cell_type": "code",
   "execution_count": 77,
   "id": "ae964188",
   "metadata": {},
   "outputs": [],
   "source": [
    "# vote_clf.score(test_x_compr, y_test_)"
   ]
  },
  {
   "cell_type": "code",
   "execution_count": null,
   "id": "eeedb397",
   "metadata": {},
   "outputs": [],
   "source": []
  },
  {
   "cell_type": "code",
   "execution_count": 74,
   "id": "0f49677c",
   "metadata": {},
   "outputs": [],
   "source": [
    "cv = StratifiedKFold(n_splits=3, random_state=12, shuffle=True)"
   ]
  },
  {
   "cell_type": "code",
   "execution_count": 79,
   "id": "21f726b6",
   "metadata": {},
   "outputs": [
    {
     "name": "stdout",
     "output_type": "stream",
     "text": [
      "Fold 1\n",
      "[Voting] ...................... (1 of 4) Processing svm, total=  41.9s\n",
      "[Voting] ...................... (2 of 4) Processing knn, total=   1.4s\n",
      "[Voting] ....................... (3 of 4) Processing lr, total= 1.7min\n",
      "[Voting] .................... (4 of 4) Processing keras, total=   5.6s\n",
      "WARNING:tensorflow:Network returning invalid probability values. The last layer might not normalize predictions into probabilities (like softmax or sigmoid would).\n",
      "-------------\n",
      "Fold 2\n",
      "[Voting] ...................... (1 of 4) Processing svm, total=  41.1s\n",
      "[Voting] ...................... (2 of 4) Processing knn, total=   1.6s\n",
      "[Voting] ....................... (3 of 4) Processing lr, total= 1.7min\n",
      "[Voting] .................... (4 of 4) Processing keras, total=   5.3s\n",
      "WARNING:tensorflow:Network returning invalid probability values. The last layer might not normalize predictions into probabilities (like softmax or sigmoid would).\n",
      "-------------\n",
      "Fold 3\n",
      "[Voting] ...................... (1 of 4) Processing svm, total=  40.5s\n",
      "[Voting] ...................... (2 of 4) Processing knn, total=   1.6s\n",
      "[Voting] ....................... (3 of 4) Processing lr, total= 1.6min\n",
      "[Voting] .................... (4 of 4) Processing keras, total=   5.2s\n",
      "WARNING:tensorflow:Network returning invalid probability values. The last layer might not normalize predictions into probabilities (like softmax or sigmoid would).\n",
      "-------------\n"
     ]
    }
   ],
   "source": [
    "train_acc_arr = []\n",
    "coun = 1\n",
    "for k_train_index, k_val_index in cv.split(train_x_compr, y_train_):\n",
    "    print(f'Fold {coun}')\n",
    "    \n",
    "    voting.fit(train_x_compr[k_train_index,:], y_train_[k_train_index])\n",
    "    \n",
    "    train_acc = voting.score(train_x_compr[k_val_index,:], y_train_[k_val_index])\n",
    "    train_acc_arr.append(train_acc)\n",
    "    \n",
    "    print('-------------')\n",
    "    coun +=1"
   ]
  },
  {
   "cell_type": "code",
   "execution_count": null,
   "id": "0b442078",
   "metadata": {},
   "outputs": [],
   "source": []
  },
  {
   "cell_type": "code",
   "execution_count": null,
   "id": "6bb6dd5e",
   "metadata": {},
   "outputs": [],
   "source": []
  },
  {
   "cell_type": "code",
   "execution_count": null,
   "id": "4f02d10a",
   "metadata": {},
   "outputs": [],
   "source": []
  },
  {
   "cell_type": "code",
   "execution_count": null,
   "id": "7b1291e7",
   "metadata": {},
   "outputs": [],
   "source": []
  },
  {
   "cell_type": "code",
   "execution_count": null,
   "id": "688fcd7b",
   "metadata": {},
   "outputs": [],
   "source": []
  },
  {
   "cell_type": "code",
   "execution_count": null,
   "id": "9fb4f97b",
   "metadata": {},
   "outputs": [],
   "source": []
  },
  {
   "cell_type": "code",
   "execution_count": null,
   "id": "ed753e1e",
   "metadata": {},
   "outputs": [],
   "source": []
  },
  {
   "cell_type": "markdown",
   "id": "fb40b85e",
   "metadata": {},
   "source": [
    "### Prepare data for submission"
   ]
  },
  {
   "cell_type": "code",
   "execution_count": 64,
   "id": "b124a35b",
   "metadata": {},
   "outputs": [
    {
     "data": {
      "text/plain": [
       "6220"
      ]
     },
     "execution_count": 64,
     "metadata": {},
     "output_type": "execute_result"
    }
   ],
   "source": [
    "def get_imnames():\n",
    "    txtfiles = []\n",
    "    for file in glob.glob(TEST_IMG_PATH + \"*.Bmp\"):\n",
    "        file = file.split('\\\\')[-1][:-4] #get only filename\n",
    "        txtfiles.append(file)\n",
    "        \n",
    "    return txtfiles\n",
    "\n",
    "txtfiles = get_imnames()\n",
    "len(txtfiles)"
   ]
  },
  {
   "cell_type": "code",
   "execution_count": 65,
   "id": "16d3329f",
   "metadata": {},
   "outputs": [],
   "source": [
    "presub_df = pd.DataFrame()\n",
    "presub_df['id'] = txtfiles\n",
    "presub_df['id'] = pd.to_numeric(presub_df['id'])\n",
    "presub_df['img'] = [TEST_IMG_PATH + str(id_) + '.Bmp' for id_ in presub_df['id'].values]\n",
    "presub_df.sort_values(by=['id'], inplace=True)\n",
    "presub_df.reset_index(inplace=True, drop=True)"
   ]
  },
  {
   "cell_type": "markdown",
   "id": "6fc9da4f",
   "metadata": {},
   "source": [
    "#### Check grey imgs"
   ]
  },
  {
   "cell_type": "code",
   "execution_count": 66,
   "id": "ec914d7f",
   "metadata": {},
   "outputs": [
    {
     "data": {
      "text/plain": [
       "[]"
      ]
     },
     "execution_count": 66,
     "metadata": {},
     "output_type": "execute_result"
    }
   ],
   "source": [
    "grey_imgs = check_grey_imgs(presub_df[['img']])\n",
    "grey_imgs"
   ]
  },
  {
   "cell_type": "code",
   "execution_count": 67,
   "id": "f6be86bf",
   "metadata": {},
   "outputs": [
    {
     "data": {
      "text/plain": [
       "(6220, 20, 20, 3)"
      ]
     },
     "execution_count": 67,
     "metadata": {},
     "output_type": "execute_result"
    }
   ],
   "source": [
    "X_sub = np.asarray([transform_image(i).tolist() for i in presub_df['img'].values])\n",
    "X_sub.shape"
   ]
  },
  {
   "cell_type": "code",
   "execution_count": null,
   "id": "a7ab440d",
   "metadata": {},
   "outputs": [],
   "source": []
  },
  {
   "cell_type": "markdown",
   "id": "fd714cd8",
   "metadata": {},
   "source": [
    "### Extract features from X_sub"
   ]
  },
  {
   "cell_type": "code",
   "execution_count": 68,
   "id": "10f4bd40",
   "metadata": {},
   "outputs": [
    {
     "name": "stdout",
     "output_type": "stream",
     "text": [
      "Model: \"model_7\"\n",
      "_________________________________________________________________\n",
      "Layer (type)                 Output Shape              Param #   \n",
      "=================================================================\n",
      "conv2d_23_input (InputLayer) [(None, 20, 20, 3)]       0         \n",
      "_________________________________________________________________\n",
      "conv2d_23 (Conv2D)           (None, 20, 20, 20)        560       \n",
      "_________________________________________________________________\n",
      "batch_normalization_15 (Batc (None, 20, 20, 20)        80        \n",
      "_________________________________________________________________\n",
      "conv2d_24 (Conv2D)           (None, 20, 20, 20)        3620      \n",
      "_________________________________________________________________\n",
      "batch_normalization_16 (Batc (None, 20, 20, 20)        80        \n",
      "_________________________________________________________________\n",
      "max_pooling2d_14 (MaxPooling (None, 10, 10, 20)        0         \n",
      "_________________________________________________________________\n",
      "dropout_7 (Dropout)          (None, 10, 10, 20)        0         \n",
      "_________________________________________________________________\n",
      "conv2d_25 (Conv2D)           (None, 10, 10, 32)        5792      \n",
      "_________________________________________________________________\n",
      "batch_normalization_17 (Batc (None, 10, 10, 32)        128       \n",
      "_________________________________________________________________\n",
      "max_pooling2d_15 (MaxPooling (None, 5, 5, 32)          0         \n",
      "_________________________________________________________________\n",
      "dropout_8 (Dropout)          (None, 5, 5, 32)          0         \n",
      "_________________________________________________________________\n",
      "conv2d_26 (Conv2D)           (None, 5, 5, 64)          18496     \n",
      "_________________________________________________________________\n",
      "batch_normalization_18 (Batc (None, 5, 5, 64)          256       \n",
      "_________________________________________________________________\n",
      "feature_layer (MaxPooling2D) (None, 2, 2, 64)          0         \n",
      "_________________________________________________________________\n",
      "dropout_9 (Dropout)          (None, 2, 2, 64)          0         \n",
      "_________________________________________________________________\n",
      "feature_layer2 (Flatten)     (None, 256)               0         \n",
      "=================================================================\n",
      "Total params: 29,012\n",
      "Trainable params: 28,740\n",
      "Non-trainable params: 272\n",
      "_________________________________________________________________\n"
     ]
    }
   ],
   "source": [
    "feature_extr_model = keras.models.load_model('./feature_extr_model')\n",
    "feature_extr_model.summary()"
   ]
  },
  {
   "cell_type": "code",
   "execution_count": 69,
   "id": "e8b9903e",
   "metadata": {},
   "outputs": [
    {
     "data": {
      "text/plain": [
       "(6220, 256)"
      ]
     },
     "execution_count": 69,
     "metadata": {},
     "output_type": "execute_result"
    }
   ],
   "source": [
    "X_sub_compr = feature_extr_model.predict(X_sub)\n",
    "X_sub_compr.shape"
   ]
  },
  {
   "cell_type": "code",
   "execution_count": null,
   "id": "64add36f",
   "metadata": {},
   "outputs": [],
   "source": []
  },
  {
   "cell_type": "markdown",
   "id": "9b6a6bb8",
   "metadata": {},
   "source": [
    "### Make prediction"
   ]
  },
  {
   "cell_type": "code",
   "execution_count": 80,
   "id": "159e49f6",
   "metadata": {},
   "outputs": [
    {
     "name": "stdout",
     "output_type": "stream",
     "text": [
      "WARNING:tensorflow:Network returning invalid probability values. The last layer might not normalize predictions into probabilities (like softmax or sigmoid would).\n"
     ]
    },
    {
     "data": {
      "text/plain": [
       "array(['H', 'E', 'I', ..., 'R', 'N', 'M'], dtype=object)"
      ]
     },
     "execution_count": 80,
     "metadata": {},
     "output_type": "execute_result"
    }
   ],
   "source": [
    "vote_sub_pred = vote_clf.predict(X_sub_compr)\n",
    "vote_sub_labels_inv = label_enc.inverse_transform(vote_sub_pred)\n",
    "vote_sub_labels_inv"
   ]
  },
  {
   "cell_type": "code",
   "execution_count": null,
   "id": "99bd99b5",
   "metadata": {},
   "outputs": [],
   "source": []
  },
  {
   "cell_type": "markdown",
   "id": "2ae98e92",
   "metadata": {},
   "source": [
    "### Create submission file"
   ]
  },
  {
   "cell_type": "code",
   "execution_count": 81,
   "id": "c0a070cc",
   "metadata": {},
   "outputs": [
    {
     "data": {
      "text/html": [
       "<div>\n",
       "<style scoped>\n",
       "    .dataframe tbody tr th:only-of-type {\n",
       "        vertical-align: middle;\n",
       "    }\n",
       "\n",
       "    .dataframe tbody tr th {\n",
       "        vertical-align: top;\n",
       "    }\n",
       "\n",
       "    .dataframe thead th {\n",
       "        text-align: right;\n",
       "    }\n",
       "</style>\n",
       "<table border=\"1\" class=\"dataframe\">\n",
       "  <thead>\n",
       "    <tr style=\"text-align: right;\">\n",
       "      <th></th>\n",
       "      <th>Class</th>\n",
       "    </tr>\n",
       "    <tr>\n",
       "      <th>ID</th>\n",
       "      <th></th>\n",
       "    </tr>\n",
       "  </thead>\n",
       "  <tbody>\n",
       "    <tr>\n",
       "      <th>6284</th>\n",
       "      <td>H</td>\n",
       "    </tr>\n",
       "    <tr>\n",
       "      <th>6285</th>\n",
       "      <td>E</td>\n",
       "    </tr>\n",
       "    <tr>\n",
       "      <th>6286</th>\n",
       "      <td>I</td>\n",
       "    </tr>\n",
       "    <tr>\n",
       "      <th>6287</th>\n",
       "      <td>d</td>\n",
       "    </tr>\n",
       "    <tr>\n",
       "      <th>6288</th>\n",
       "      <td>T</td>\n",
       "    </tr>\n",
       "    <tr>\n",
       "      <th>...</th>\n",
       "      <td>...</td>\n",
       "    </tr>\n",
       "    <tr>\n",
       "      <th>12499</th>\n",
       "      <td>0</td>\n",
       "    </tr>\n",
       "    <tr>\n",
       "      <th>12500</th>\n",
       "      <td>o</td>\n",
       "    </tr>\n",
       "    <tr>\n",
       "      <th>12501</th>\n",
       "      <td>R</td>\n",
       "    </tr>\n",
       "    <tr>\n",
       "      <th>12502</th>\n",
       "      <td>N</td>\n",
       "    </tr>\n",
       "    <tr>\n",
       "      <th>12503</th>\n",
       "      <td>M</td>\n",
       "    </tr>\n",
       "  </tbody>\n",
       "</table>\n",
       "<p>6220 rows × 1 columns</p>\n",
       "</div>"
      ],
      "text/plain": [
       "      Class\n",
       "ID         \n",
       "6284      H\n",
       "6285      E\n",
       "6286      I\n",
       "6287      d\n",
       "6288      T\n",
       "...     ...\n",
       "12499     0\n",
       "12500     o\n",
       "12501     R\n",
       "12502     N\n",
       "12503     M\n",
       "\n",
       "[6220 rows x 1 columns]"
      ]
     },
     "execution_count": 81,
     "metadata": {},
     "output_type": "execute_result"
    }
   ],
   "source": [
    "sub_df = pd.DataFrame()\n",
    "sub_df['ID'] = presub_df['id']\n",
    "sub_df['Class'] = vote_sub_labels_inv\n",
    "sub_df.set_index('ID', inplace=True)\n",
    "sub_df"
   ]
  },
  {
   "cell_type": "code",
   "execution_count": 82,
   "id": "f9b0ea7c",
   "metadata": {},
   "outputs": [],
   "source": [
    "sub_df.to_csv('submission_cnn_ensemble.csv')"
   ]
  },
  {
   "cell_type": "code",
   "execution_count": null,
   "id": "337f1f08",
   "metadata": {},
   "outputs": [],
   "source": []
  },
  {
   "cell_type": "code",
   "execution_count": null,
   "id": "ab76539a",
   "metadata": {},
   "outputs": [],
   "source": []
  }
 ],
 "metadata": {
  "kernelspec": {
   "display_name": "Python 3 (ipykernel)",
   "language": "python",
   "name": "python3"
  },
  "language_info": {
   "codemirror_mode": {
    "name": "ipython",
    "version": 3
   },
   "file_extension": ".py",
   "mimetype": "text/x-python",
   "name": "python",
   "nbconvert_exporter": "python",
   "pygments_lexer": "ipython3",
   "version": "3.7.9"
  }
 },
 "nbformat": 4,
 "nbformat_minor": 5
}
